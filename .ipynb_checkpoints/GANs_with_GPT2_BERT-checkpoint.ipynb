{
 "cells": [
  {
   "cell_type": "code",
   "execution_count": 1,
   "metadata": {
    "ExecuteTime": {
     "end_time": "2020-11-13T17:07:10.332576Z",
     "start_time": "2020-11-13T17:07:02.324009Z"
    }
   },
   "outputs": [
    {
     "name": "stderr",
     "output_type": "stream",
     "text": [
      "[nltk_data] Downloading package punkt to\n",
      "[nltk_data]     C:\\Users\\Nero_\\AppData\\Roaming\\nltk_data...\n",
      "[nltk_data]   Package punkt is already up-to-date!\n"
     ]
    }
   ],
   "source": [
    "import os\n",
    "import random\n",
    "import time\n",
    "\n",
    "import numpy as np\n",
    "import pandas as pd\n",
    "from matplotlib import pyplot as plt\n",
    "import seaborn as sns\n",
    "\n",
    "import torch\n",
    "from torch import nn\n",
    "from torch.nn import functional as F\n",
    "from torch.nn import CrossEntropyLoss\n",
    "from torch.utils.data import Dataset, DataLoader, RandomSampler, SequentialSampler, random_split\n",
    "torch.manual_seed(42)\n",
    "\n",
    "from transformers import pipelines\n",
    "from transformers import GPT2LMHeadModel,  GPT2Tokenizer, GPT2Config, GPT2LMHeadModel\n",
    "from transformers import AdamW, get_linear_schedule_with_warmup\n",
    "\n",
    "from pymongo import MongoClient\n",
    "\n",
    "from tqdm.notebook import tqdm_notebook as tqdm\n",
    "\n",
    "import nltk\n",
    "nltk.download('punkt')\n",
    "\n",
    "import warnings\n",
    "%matplotlib inline\n",
    "warnings.filterwarnings('ignore')"
   ]
  },
  {
   "cell_type": "code",
   "execution_count": 2,
   "metadata": {
    "ExecuteTime": {
     "end_time": "2020-11-13T17:07:10.340577Z",
     "start_time": "2020-11-13T17:07:10.333575Z"
    }
   },
   "outputs": [],
   "source": [
    "client = MongoClient()"
   ]
  },
  {
   "cell_type": "code",
   "execution_count": 3,
   "metadata": {
    "ExecuteTime": {
     "end_time": "2020-11-13T17:07:10.344575Z",
     "start_time": "2020-11-13T17:07:10.342576Z"
    }
   },
   "outputs": [],
   "source": [
    "db = client['reviews']"
   ]
  },
  {
   "cell_type": "code",
   "execution_count": 4,
   "metadata": {
    "ExecuteTime": {
     "end_time": "2020-11-13T17:07:10.351578Z",
     "start_time": "2020-11-13T17:07:10.345576Z"
    }
   },
   "outputs": [],
   "source": [
    "collection = db['reviews']"
   ]
  },
  {
   "cell_type": "code",
   "execution_count": 5,
   "metadata": {
    "ExecuteTime": {
     "end_time": "2020-11-13T17:07:10.998575Z",
     "start_time": "2020-11-13T17:07:10.352575Z"
    }
   },
   "outputs": [],
   "source": [
    "test = []\n",
    "ind = []\n",
    "\n",
    "reviews = collection.find()\n",
    "\n",
    "for index, review in enumerate(reviews[50000:75000]):\n",
    "    try:\n",
    "        test.append('{0}'.format(review['reviewText']))\n",
    "    except KeyError:\n",
    "        ind.append(index)\n",
    "        pass"
   ]
  },
  {
   "cell_type": "code",
   "execution_count": 6,
   "metadata": {
    "ExecuteTime": {
     "end_time": "2020-11-13T17:07:11.005577Z",
     "start_time": "2020-11-13T17:07:10.999575Z"
    }
   },
   "outputs": [],
   "source": [
    "review_data = pd.DataFrame(data=test, columns=(['reviews']))"
   ]
  },
  {
   "cell_type": "code",
   "execution_count": 7,
   "metadata": {
    "ExecuteTime": {
     "end_time": "2020-11-13T17:07:11.020575Z",
     "start_time": "2020-11-13T17:07:11.006576Z"
    }
   },
   "outputs": [
    {
     "data": {
      "text/html": [
       "<div>\n",
       "<style scoped>\n",
       "    .dataframe tbody tr th:only-of-type {\n",
       "        vertical-align: middle;\n",
       "    }\n",
       "\n",
       "    .dataframe tbody tr th {\n",
       "        vertical-align: top;\n",
       "    }\n",
       "\n",
       "    .dataframe thead th {\n",
       "        text-align: right;\n",
       "    }\n",
       "</style>\n",
       "<table border=\"1\" class=\"dataframe\">\n",
       "  <thead>\n",
       "    <tr style=\"text-align: right;\">\n",
       "      <th></th>\n",
       "      <th>reviews</th>\n",
       "    </tr>\n",
       "  </thead>\n",
       "  <tbody>\n",
       "    <tr>\n",
       "      <th>0</th>\n",
       "      <td>Very nice</td>\n",
       "    </tr>\n",
       "    <tr>\n",
       "      <th>1</th>\n",
       "      <td>I love a good mystery and enjoy attempting to ...</td>\n",
       "    </tr>\n",
       "    <tr>\n",
       "      <th>2</th>\n",
       "      <td>/a classic Agatha Christie.  Saw the movie whe...</td>\n",
       "    </tr>\n",
       "    <tr>\n",
       "      <th>3</th>\n",
       "      <td>A</td>\n",
       "    </tr>\n",
       "    <tr>\n",
       "      <th>4</th>\n",
       "      <td>It was good and an interesting creation of a p...</td>\n",
       "    </tr>\n",
       "    <tr>\n",
       "      <th>...</th>\n",
       "      <td>...</td>\n",
       "    </tr>\n",
       "    <tr>\n",
       "      <th>24990</th>\n",
       "      <td>I grew up reading this book every couple of ye...</td>\n",
       "    </tr>\n",
       "    <tr>\n",
       "      <th>24991</th>\n",
       "      <td>For me, this was just okay. I watched the movi...</td>\n",
       "    </tr>\n",
       "    <tr>\n",
       "      <th>24992</th>\n",
       "      <td>I really enjoyed this book. It is an easy read...</td>\n",
       "    </tr>\n",
       "    <tr>\n",
       "      <th>24993</th>\n",
       "      <td>Little Women is a rather quaint book for the t...</td>\n",
       "    </tr>\n",
       "    <tr>\n",
       "      <th>24994</th>\n",
       "      <td>It's such a beautiful story.  I read part of i...</td>\n",
       "    </tr>\n",
       "  </tbody>\n",
       "</table>\n",
       "<p>24995 rows × 1 columns</p>\n",
       "</div>"
      ],
      "text/plain": [
       "                                                 reviews\n",
       "0                                              Very nice\n",
       "1      I love a good mystery and enjoy attempting to ...\n",
       "2      /a classic Agatha Christie.  Saw the movie whe...\n",
       "3                                                      A\n",
       "4      It was good and an interesting creation of a p...\n",
       "...                                                  ...\n",
       "24990  I grew up reading this book every couple of ye...\n",
       "24991  For me, this was just okay. I watched the movi...\n",
       "24992  I really enjoyed this book. It is an easy read...\n",
       "24993  Little Women is a rather quaint book for the t...\n",
       "24994  It's such a beautiful story.  I read part of i...\n",
       "\n",
       "[24995 rows x 1 columns]"
      ]
     },
     "execution_count": 7,
     "metadata": {},
     "output_type": "execute_result"
    }
   ],
   "source": [
    "review_data"
   ]
  },
  {
   "cell_type": "code",
   "execution_count": 8,
   "metadata": {
    "ExecuteTime": {
     "end_time": "2020-11-13T17:07:11.029577Z",
     "start_time": "2020-11-13T17:07:11.022577Z"
    }
   },
   "outputs": [
    {
     "data": {
      "text/plain": [
       "reviews    0\n",
       "dtype: int64"
      ]
     },
     "execution_count": 8,
     "metadata": {},
     "output_type": "execute_result"
    }
   ],
   "source": [
    "review_data.isna().sum()"
   ]
  },
  {
   "cell_type": "code",
   "execution_count": 9,
   "metadata": {
    "ExecuteTime": {
     "end_time": "2020-11-13T17:07:11.035577Z",
     "start_time": "2020-11-13T17:07:11.031578Z"
    }
   },
   "outputs": [],
   "source": [
    "reviews = review_data.copy()"
   ]
  },
  {
   "cell_type": "code",
   "execution_count": 10,
   "metadata": {
    "ExecuteTime": {
     "end_time": "2020-11-13T17:07:11.040577Z",
     "start_time": "2020-11-13T17:07:11.036578Z"
    }
   },
   "outputs": [],
   "source": [
    "reviews = reviews['reviews']"
   ]
  },
  {
   "cell_type": "code",
   "execution_count": 11,
   "metadata": {
    "ExecuteTime": {
     "end_time": "2020-11-13T17:07:25.088807Z",
     "start_time": "2020-11-13T17:07:11.041577Z"
    }
   },
   "outputs": [
    {
     "data": {
      "application/vnd.jupyter.widget-view+json": {
       "model_id": "80e5817196f0437cb9774ea15f11fa2d",
       "version_major": 2,
       "version_minor": 0
      },
      "text/plain": [
       "HBox(children=(FloatProgress(value=0.0, max=24995.0), HTML(value='')))"
      ]
     },
     "metadata": {},
     "output_type": "display_data"
    },
    {
     "name": "stderr",
     "output_type": "stream",
     "text": [
      "I1113 12:07:24.722805 10744 utils.py:129] Note: NumExpr detected 12 cores but \"NUMEXPR_MAX_THREADS\" not set, so enforcing safe limit of 8.\n",
      "I1113 12:07:24.723805 10744 utils.py:141] NumExpr defaulting to 8 threads.\n"
     ]
    },
    {
     "name": "stdout",
     "output_type": "stream",
     "text": [
      "\n"
     ]
    },
    {
     "data": {
      "text/plain": [
       "<matplotlib.axes._subplots.AxesSubplot at 0x1cc228c2630>"
      ]
     },
     "execution_count": 11,
     "metadata": {},
     "output_type": "execute_result"
    },
    {
     "data": {
      "image/png": "[encoded data removed]",
      "text/plain": [
       "<Figure size 432x288 with 1 Axes>"
      ]
     },
     "metadata": {
      "needs_background": "light"
     },
     "output_type": "display_data"
    }
   ],
   "source": [
    "reviewlen = []\n",
    "for review in tqdm(reviews):\n",
    "    tokens = nltk.word_tokenize(review)\n",
    "    reviewlen.append(len(tokens))\n",
    "    \n",
    "reviewlen = np.array(reviewlen)\n",
    "\n",
    "sns.distplot(reviewlen)"
   ]
  },
  {
   "cell_type": "code",
   "execution_count": 12,
   "metadata": {
    "ExecuteTime": {
     "end_time": "2020-11-13T17:07:25.092805Z",
     "start_time": "2020-11-13T17:07:25.089808Z"
    }
   },
   "outputs": [
    {
     "data": {
      "text/plain": [
       "0.8361672334466894"
      ]
     },
     "execution_count": 12,
     "metadata": {},
     "output_type": "execute_result"
    }
   ],
   "source": [
    "len(reviewlen[reviewlen > 768])/len(reviewlen)*100"
   ]
  },
  {
   "cell_type": "code",
   "execution_count": 13,
   "metadata": {
    "ExecuteTime": {
     "end_time": "2020-11-13T17:07:25.098806Z",
     "start_time": "2020-11-13T17:07:25.093806Z"
    }
   },
   "outputs": [
    {
     "name": "stdout",
     "output_type": "stream",
     "text": [
      "Average review length: 86.784 words.\n"
     ]
    }
   ],
   "source": [
    "print('Average review length: {} words.'.format(round(np.average(reviewlen), 3)))"
   ]
  },
  {
   "cell_type": "code",
   "execution_count": 14,
   "metadata": {
    "ExecuteTime": {
     "end_time": "2020-11-13T17:07:25.104806Z",
     "start_time": "2020-11-13T17:07:25.099805Z"
    }
   },
   "outputs": [
    {
     "name": "stdout",
     "output_type": "stream",
     "text": [
      "Max review length: 3464 words.\n"
     ]
    }
   ],
   "source": [
    "print('Max review length: {} words.'.format(np.max(reviewlen)))"
   ]
  },
  {
   "cell_type": "code",
   "execution_count": 15,
   "metadata": {
    "ExecuteTime": {
     "end_time": "2020-11-13T17:07:25.742808Z",
     "start_time": "2020-11-13T17:07:25.105807Z"
    }
   },
   "outputs": [
    {
     "name": "stderr",
     "output_type": "stream",
     "text": [
      "Special tokens have been added in the vocabulary, make sure the associated word embedding are fine-tuned or trained.\n"
     ]
    }
   ],
   "source": [
    "tokenizer = GPT2Tokenizer.from_pretrained('gpt2',\n",
    "                                          bos_token='<|sot|>', eos_token='<|eot|>', pad_token='<|pad|>')"
   ]
  },
  {
   "cell_type": "code",
   "execution_count": 16,
   "metadata": {
    "ExecuteTime": {
     "end_time": "2020-11-13T17:07:25.746806Z",
     "start_time": "2020-11-13T17:07:25.743805Z"
    }
   },
   "outputs": [
    {
     "name": "stdout",
     "output_type": "stream",
     "text": [
      "Max model length is 1024 for this model\n",
      "Beginning of sentence token <|sot|> token has the id 50257\n",
      "End of sentence token <|eot|> has the id 50258\n",
      "Padding token <|pad|> has the id 50259\n"
     ]
    }
   ],
   "source": [
    "print(\"Max model length is {} for this model\".format(tokenizer.model_max_length))\n",
    "print(\"Beginning of sentence token {} token has the id {}\".format(tokenizer.convert_ids_to_tokens(tokenizer.bos_token_id), tokenizer.bos_token_id))\n",
    "print(\"End of sentence token {} has the id {}\".format(tokenizer.convert_ids_to_tokens(tokenizer.eos_token_id), tokenizer.eos_token_id))\n",
    "print(\"Padding token {} has the id {}\".format(tokenizer.convert_ids_to_tokens(tokenizer.pad_token_id), tokenizer.pad_token_id))"
   ]
  },
  {
   "cell_type": "code",
   "execution_count": 17,
   "metadata": {
    "ExecuteTime": {
     "end_time": "2020-11-13T17:07:25.753808Z",
     "start_time": "2020-11-13T17:07:25.747806Z"
    }
   },
   "outputs": [],
   "source": [
    "class GPT_Finetune_Dataset(Dataset):\n",
    "\n",
    "  def __init__(self, txt_list, tokenizer, gpt2_type=\"gpt2\", max_length=200):\n",
    "\n",
    "    self.tokenizer = tokenizer\n",
    "    self.input = []\n",
    "    self.attn = []\n",
    "\n",
    "    for txt in tqdm(txt_list):\n",
    "\n",
    "      encodings_dict = tokenizer('<|sot|>'+ txt +'<|eot|>',\n",
    "                                 truncation=True, max_length=max_length, padding=\"max_length\")\n",
    "\n",
    "      self.input.append(torch.tensor(encodings_dict['input_ids']))\n",
    "      self.attn.append(torch.tensor(encodings_dict['attention_mask']))\n",
    "    \n",
    "  def __len__(self):\n",
    "    return len(self.input)\n",
    "\n",
    "  def __getitem__(self, idx):\n",
    "    return self.input[idx], self.attn[idx] "
   ]
  },
  {
   "cell_type": "code",
   "execution_count": 18,
   "metadata": {
    "ExecuteTime": {
     "end_time": "2020-11-13T17:07:39.255919Z",
     "start_time": "2020-11-13T17:07:25.754807Z"
    }
   },
   "outputs": [
    {
     "data": {
      "application/vnd.jupyter.widget-view+json": {
       "model_id": "7f6916accdba4fa5bfba7b9b3f66205c",
       "version_major": 2,
       "version_minor": 0
      },
      "text/plain": [
       "HBox(children=(FloatProgress(value=0.0, max=24995.0), HTML(value='')))"
      ]
     },
     "metadata": {},
     "output_type": "display_data"
    },
    {
     "name": "stdout",
     "output_type": "stream",
     "text": [
      "\n"
     ]
    }
   ],
   "source": [
    "data = GPT_Finetune_Dataset(reviews, tokenizer)"
   ]
  },
  {
   "cell_type": "code",
   "execution_count": 19,
   "metadata": {
    "ExecuteTime": {
     "end_time": "2020-11-13T17:07:39.261918Z",
     "start_time": "2020-11-13T17:07:39.256918Z"
    }
   },
   "outputs": [],
   "source": [
    "train_size = int(len(data) * .7)\n",
    "test_size = len(data) - train_size\n",
    "\n",
    "train_set, test_set = random_split(data, [train_size, test_size])"
   ]
  },
  {
   "cell_type": "code",
   "execution_count": 20,
   "metadata": {
    "ExecuteTime": {
     "end_time": "2020-11-13T17:07:39.267917Z",
     "start_time": "2020-11-13T17:07:39.262917Z"
    }
   },
   "outputs": [
    {
     "name": "stdout",
     "output_type": "stream",
     "text": [
      "17496 training samples\n",
      "7499 test samples\n"
     ]
    }
   ],
   "source": [
    "print('{} training samples'.format(train_size))\n",
    "print('{} test samples'.format(test_size))"
   ]
  },
  {
   "cell_type": "code",
   "execution_count": 21,
   "metadata": {
    "ExecuteTime": {
     "end_time": "2020-11-13T17:07:39.281918Z",
     "start_time": "2020-11-13T17:07:39.268916Z"
    }
   },
   "outputs": [],
   "source": [
    "batch_size = 3\n",
    "train_dataloader = DataLoader(\n",
    "            train_set,  # The training set\n",
    "            sampler = RandomSampler(train_set), # Random sampler\n",
    "            batch_size = batch_size # Trains with this batch size for memory reasons\n",
    "        )\n",
    "\n",
    "test_dataloader = DataLoader(\n",
    "            test_set, # The validation samples.\n",
    "            sampler = SequentialSampler(test_set), # Pull out batches sequentially since order doesn't matter\n",
    "            batch_size = batch_size \n",
    "        )"
   ]
  },
  {
   "cell_type": "code",
   "execution_count": 22,
   "metadata": {
    "ExecuteTime": {
     "end_time": "2020-11-13T17:07:39.292917Z",
     "start_time": "2020-11-13T17:07:39.283919Z"
    }
   },
   "outputs": [
    {
     "data": {
      "text/plain": [
       "device(type='cuda')"
      ]
     },
     "execution_count": 22,
     "metadata": {},
     "output_type": "execute_result"
    }
   ],
   "source": [
    "device = torch.device(\"cuda\" if torch.cuda.is_available() else \"cpu\")\n",
    "device"
   ]
  },
  {
   "cell_type": "code",
   "execution_count": 23,
   "metadata": {
    "ExecuteTime": {
     "end_time": "2020-11-13T17:07:45.222480Z",
     "start_time": "2020-11-13T17:07:39.295917Z"
    }
   },
   "outputs": [],
   "source": [
    "# Get config\n",
    "configuration = GPT2Config.from_pretrained('gpt2', output_hidden_states=False)\n",
    "\n",
    "# Model instantiation\n",
    "model = GPT2LMHeadModel.from_pretrained(\"gpt2\", config=configuration)\n",
    "\n",
    "# Necessary because of the custom tokens\n",
    "model.resize_token_embeddings(len(tokenizer))\n",
    "\n",
    "# Model to the GPU\n",
    "device = torch.device(\"cuda\" if torch.cuda.is_available() else \"cpu\")\n",
    "model.cuda()\n",
    "\n",
    "seed_val = 42\n",
    "\n",
    "# Setting seeds\n",
    "random.seed(seed_val)\n",
    "np.random.seed(seed_val)\n",
    "torch.manual_seed(seed_val)\n",
    "torch.cuda.manual_seed_all(seed_val)"
   ]
  },
  {
   "cell_type": "code",
   "execution_count": 24,
   "metadata": {
    "ExecuteTime": {
     "end_time": "2020-11-13T17:07:45.227477Z",
     "start_time": "2020-11-13T17:07:45.223477Z"
    }
   },
   "outputs": [],
   "source": [
    "# Setting Parameters\n",
    "epochs = 5\n",
    "learning_rate = .00005\n",
    "warmup_steps = 50\n",
    "\n",
    "# this produces sample output every 100 steps\n",
    "sample_every = 100"
   ]
  },
  {
   "cell_type": "code",
   "execution_count": 25,
   "metadata": {
    "ExecuteTime": {
     "end_time": "2020-11-13T17:07:45.234477Z",
     "start_time": "2020-11-13T17:07:45.228480Z"
    }
   },
   "outputs": [],
   "source": [
    "#AdamW is a class from the huggingface library that schedules weights\n",
    "optimizer = AdamW(model.parameters(),\n",
    "                  lr = learning_rate\n",
    "                )"
   ]
  },
  {
   "cell_type": "code",
   "execution_count": 26,
   "metadata": {
    "ExecuteTime": {
     "end_time": "2020-11-13T17:07:45.239480Z",
     "start_time": "2020-11-13T17:07:45.235477Z"
    }
   },
   "outputs": [],
   "source": [
    "total_steps = len(train_dataloader) * epochs\n",
    "\n",
    "# Adjusts the learning rate as the model steps through\n",
    "scheduler = get_linear_schedule_with_warmup(optimizer, \n",
    "                                            num_warmup_steps = warmup_steps, \n",
    "                                            num_training_steps = total_steps)"
   ]
  },
  {
   "cell_type": "code",
   "execution_count": 27,
   "metadata": {
    "ExecuteTime": {
     "end_time": "2020-11-13T18:39:45.233263Z",
     "start_time": "2020-11-13T17:07:45.240477Z"
    }
   },
   "outputs": [
    {
     "name": "stdout",
     "output_type": "stream",
     "text": [
      "======== Epoch 1 / 5 ========\n"
     ]
    },
    {
     "name": "stderr",
     "output_type": "stream",
     "text": [
      "Setting `pad_token_id` to `eos_token_id`:50256 for open-end generation.\n"
     ]
    },
    {
     "name": "stdout",
     "output_type": "stream",
     "text": [
      "  Batch   100  of  5,832. Loss: 2.7069640159606934.   Elapsed: 15.825889110565186.\n",
      "0:  bipartisan and\n"
     ]
    },
    {
     "name": "stderr",
     "output_type": "stream",
     "text": [
      "Setting `pad_token_id` to `eos_token_id`:50256 for open-end generation.\n"
     ]
    },
    {
     "name": "stdout",
     "output_type": "stream",
     "text": [
      "  Batch   200  of  5,832. Loss: 1.1421576738357544.   Elapsed: 33.46090817451477.\n",
      "0:  increasingThe bingo with the best, but the best. I don't think I can get rid of them. But I have got one on. So much of what you have been doing, is going on right now, and you will find it is going on right now, with its own rules and tricks,and its own songs and songs and songs, and to be the true lover of my life.\n"
     ]
    },
    {
     "name": "stderr",
     "output_type": "stream",
     "text": [
      "Setting `pad_token_id` to `eos_token_id`:50256 for open-end generation.\n"
     ]
    },
    {
     "name": "stdout",
     "output_type": "stream",
     "text": [
      "  Batch   300  of  5,832. Loss: 1.1380962133407593.   Elapsed: 51.08936333656311.\n",
      "0: day.\n"
     ]
    },
    {
     "name": "stderr",
     "output_type": "stream",
     "text": [
      "Setting `pad_token_id` to `eos_token_id`:50256 for open-end generation.\n"
     ]
    },
    {
     "name": "stdout",
     "output_type": "stream",
     "text": [
      "  Batch   400  of  5,832. Loss: 1.1162939071655273.   Elapsed: 70.39439988136292.\n",
      "0:  Hang's Game\n",
      "\n",
      "\n"
     ]
    },
    {
     "name": "stderr",
     "output_type": "stream",
     "text": [
      "Setting `pad_token_id` to `eos_token_id`:50256 for open-end generation.\n"
     ]
    },
    {
     "name": "stdout",
     "output_type": "stream",
     "text": [
      "  Batch   500  of  5,832. Loss: 0.5437281727790833.   Elapsed: 88.74114346504211.\n",
      "0:  foods)\n"
     ]
    },
    {
     "name": "stderr",
     "output_type": "stream",
     "text": [
      "Setting `pad_token_id` to `eos_token_id`:50256 for open-end generation.\n"
     ]
    },
    {
     "name": "stdout",
     "output_type": "stream",
     "text": [
      "  Batch   600  of  5,832. Loss: 2.7527997493743896.   Elapsed: 106.78829789161682.\n",
      "0:  trail in\n"
     ]
    },
    {
     "name": "stderr",
     "output_type": "stream",
     "text": [
      "Setting `pad_token_id` to `eos_token_id`:50256 for open-end generation.\n"
     ]
    },
    {
     "name": "stdout",
     "output_type": "stream",
     "text": [
      "  Batch   700  of  5,832. Loss: 1.8985183238983154.   Elapsed: 124.67139983177185.\n",
      "0: intend.\n"
     ]
    },
    {
     "name": "stderr",
     "output_type": "stream",
     "text": [
      "Setting `pad_token_id` to `eos_token_id`:50256 for open-end generation.\n"
     ]
    },
    {
     "name": "stdout",
     "output_type": "stream",
     "text": [
      "  Batch   800  of  5,832. Loss: 1.5752990245819092.   Elapsed: 142.51867508888245.\n",
      "0:  surround\n",
      "\n",
      "A long time ago, he wanted to be a hero; he would have loved to be a hero, but he just\n"
     ]
    },
    {
     "name": "stderr",
     "output_type": "stream",
     "text": [
      "Setting `pad_token_id` to `eos_token_id`:50256 for open-end generation.\n"
     ]
    },
    {
     "name": "stdout",
     "output_type": "stream",
     "text": [
      "  Batch   900  of  5,832. Loss: 0.5480210781097412.   Elapsed: 159.9422092437744.\n",
      "0:  reflexConsequences: It has just had enough time in development to introduce itself in the first place, but not enough to make up its own mind of its own.\n",
      "\n",
      "I cannot wait for my next one. In fact, my next copy will definitely be a great read. I can't wait to get my next copy from Amazon. If you're looking for a great look at the history of science fiction and fantasy in this series, but doesn't want it to take a long read, you won't regret reading this.\n"
     ]
    },
    {
     "name": "stderr",
     "output_type": "stream",
     "text": [
      "Setting `pad_token_id` to `eos_token_id`:50256 for open-end generation.\n"
     ]
    },
    {
     "name": "stdout",
     "output_type": "stream",
     "text": [
      "  Batch 1,000  of  5,832. Loss: 1.3726707696914673.   Elapsed: 178.80881428718567.\n",
      "0:  display(i.e. the one I am reading, I am writing this, and it is a great place to start.) I had forgotten that I would get this novel, or, if I have read any book, I would have to keep reading it. But, instead, I found myself eagerly awaiting it. Now that the last two books are finished, and the beginning of the book is already filled with information, I have to share it with you.\n"
     ]
    },
    {
     "name": "stderr",
     "output_type": "stream",
     "text": [
      "Setting `pad_token_id` to `eos_token_id`:50256 for open-end generation.\n"
     ]
    },
    {
     "name": "stdout",
     "output_type": "stream",
     "text": [
      "  Batch 1,100  of  5,832. Loss: 1.3755676746368408.   Elapsed: 197.31934881210327.\n",
      "0:  pastorI don't think there's anything like the story to tell of her life. Her parents were both great and caring. They were all married. If I could pick one book you'd put it in. And I think that all of them were good. I don't regret the author.\n"
     ]
    },
    {
     "name": "stderr",
     "output_type": "stream",
     "text": [
      "Setting `pad_token_id` to `eos_token_id`:50256 for open-end generation.\n"
     ]
    },
    {
     "name": "stdout",
     "output_type": "stream",
     "text": [
      "  Batch 1,200  of  5,832. Loss: 1.4178301095962524.   Elapsed: 214.8919084072113.\n",
      "0:  illicit.\n"
     ]
    },
    {
     "name": "stderr",
     "output_type": "stream",
     "text": [
      "Setting `pad_token_id` to `eos_token_id`:50256 for open-end generation.\n"
     ]
    },
    {
     "name": "stdout",
     "output_type": "stream",
     "text": [
      "  Batch 1,300  of  5,832. Loss: 1.6915638446807861.   Elapsed: 232.4365918636322.\n",
      "0:  LiberationI Love My husband's collection as much as I do (it keeps my eyes on the screen and makes me want to rewind and remember!). While reading a couple of The Amazing World of George R.R. Martin's first novels, I wondered if I might have become fascinated by them.  They're full of such fascinating tales, richly written, with witty plots, witty characters, and interesting anecdotes.   But when I read them, I felt I'd just grown up.  A couple of years later, the story fell apart as I turned my page (on Martin's HBO series) and I suddenly realized that I'd forgotten why Martin was writing this series.  Now, it's been decades since the show ended, and I've enjoyed it more than a couple of times... A good book. But this time, I'm giving it up.  Perhaps the story will not live up to the hype the second half of its storyline had.  But despite the excitement\n"
     ]
    },
    {
     "name": "stderr",
     "output_type": "stream",
     "text": [
      "Setting `pad_token_id` to `eos_token_id`:50256 for open-end generation.\n"
     ]
    },
    {
     "name": "stdout",
     "output_type": "stream",
     "text": [
      "  Batch 1,400  of  5,832. Loss: 2.5326764583587646.   Elapsed: 249.9048285484314.\n",
      "0:  NamWanted to read the book in this format.  If I were lucky, I would go ahead and buy some of the other books I had already read the first time.\n"
     ]
    },
    {
     "name": "stderr",
     "output_type": "stream",
     "text": [
      "Setting `pad_token_id` to `eos_token_id`:50256 for open-end generation.\n"
     ]
    },
    {
     "name": "stdout",
     "output_type": "stream",
     "text": [
      "  Batch 1,500  of  5,832. Loss: 0.6044539213180542.   Elapsed: 267.3403916358948.\n",
      "0: IONAs a reader, I have always enjoyed the series of books written by Martin. This book is an outstanding introduction to the world of Westeros, which is to be expected of a series with such an intricate plot.\n"
     ]
    },
    {
     "name": "stderr",
     "output_type": "stream",
     "text": [
      "Setting `pad_token_id` to `eos_token_id`:50256 for open-end generation.\n"
     ]
    },
    {
     "name": "stdout",
     "output_type": "stream",
     "text": [
      "  Batch 1,600  of  5,832. Loss: 1.6747552156448364.   Elapsed: 284.64358139038086.\n",
      "0:  glimpseI thought this book was going to be good for me but what made me so bad was the fact that I've seen the first few pages of this book and found myself hooked and overwhelmed by all of the characters that are revealed. I didn't have a clue when this book would be released but I'm still hoping for a very satisfying climax. The writing quality seemed as if it was done by an expert, while the narration is very strong. I loved the author's style and I loved the way she brought things to life. I hope that someday when the book comes out I'll have a copy too.\n"
     ]
    },
    {
     "name": "stderr",
     "output_type": "stream",
     "text": [
      "Setting `pad_token_id` to `eos_token_id`:50256 for open-end generation.\n"
     ]
    },
    {
     "name": "stdout",
     "output_type": "stream",
     "text": [
      "  Batch 1,700  of  5,832. Loss: 0.730025589466095.   Elapsed: 302.3617172241211.\n",
      "0:  LaureI really enjoyed this book on Friday night so much!\n"
     ]
    },
    {
     "name": "stderr",
     "output_type": "stream",
     "text": [
      "Setting `pad_token_id` to `eos_token_id`:50256 for open-end generation.\n"
     ]
    },
    {
     "name": "stdout",
     "output_type": "stream",
     "text": [
      "  Batch 1,800  of  5,832. Loss: 1.8850388526916504.   Elapsed: 320.0021848678589.\n",
      "0: ismA lot of the book covers an entire book, but I didn't really bother with them. If I had, I would have read more.\n",
      "\n",
      "\n",
      "I know the only thing that I want to do is read more on the subject of race in China and the Chinese Civil War at this time. There are so many things I read that I have really missed the original author (mostly due to an addiction to poetry by Jack Ryan), that I did not appreciate this book. In addition, the fact that I was completely immersed in Chinese history, and so it is difficult to believe that I would have read this more to be a fan of the Chinese culture, would be a bit difficult in a country like China.\n",
      "\n",
      "I would have to recommend this one to anyone who likes Chinese history and geography to get their copy. I cannot think of any place in the book where there is much to speak about Chinese culture, culture, history, and geography.\n",
      "\n",
      " A highly recommended for any\n"
     ]
    },
    {
     "name": "stderr",
     "output_type": "stream",
     "text": [
      "Setting `pad_token_id` to `eos_token_id`:50256 for open-end generation.\n"
     ]
    },
    {
     "name": "stdout",
     "output_type": "stream",
     "text": [
      "  Batch 1,900  of  5,832. Loss: 1.2901909351348877.   Elapsed: 337.3452455997467.\n",
      "0: ouni to go on an adventure into a land full of monsters, dragons, and zombies. So far my favorites are The White Witch and the Wardrobe: A Storm in the White Darkness and The Dune Book of the Dead: A tale of death and destruction.\n"
     ]
    },
    {
     "name": "stderr",
     "output_type": "stream",
     "text": [
      "Setting `pad_token_id` to `eos_token_id`:50256 for open-end generation.\n"
     ]
    },
    {
     "name": "stdout",
     "output_type": "stream",
     "text": [
      "  Batch 2,000  of  5,832. Loss: 2.912219524383545.   Elapsed: 354.77831530570984.\n",
      "0:  electionA very good book - you will be able to turn into the most evil witch ever, and the story is gripping.  I think my best bet for survival should be to just watch out,  but beware of spoilers!!\n"
     ]
    },
    {
     "name": "stderr",
     "output_type": "stream",
     "text": [
      "Setting `pad_token_id` to `eos_token_id`:50256 for open-end generation.\n"
     ]
    },
    {
     "name": "stdout",
     "output_type": "stream",
     "text": [
      "  Batch 2,100  of  5,832. Loss: 1.3075464963912964.   Elapsed: 372.2960307598114.\n",
      "0:  crazyA good book for all ages.  Love it.  Really enjoyed the first three books.\n"
     ]
    },
    {
     "name": "stderr",
     "output_type": "stream",
     "text": [
      "Setting `pad_token_id` to `eos_token_id`:50256 for open-end generation.\n"
     ]
    },
    {
     "name": "stdout",
     "output_type": "stream",
     "text": [
      "  Batch 2,200  of  5,832. Loss: 1.866280436515808.   Elapsed: 389.9861032962799.\n",
      "0:  benchI have always loved reading about dragons.  As I recall, I read the last three editions of this series.  They were just so good.  It's great reading to have all of these characters in one story.  I can't wait to get another one coming out.\n"
     ]
    },
    {
     "name": "stderr",
     "output_type": "stream",
     "text": [
      "Setting `pad_token_id` to `eos_token_id`:50256 for open-end generation.\n"
     ]
    },
    {
     "name": "stdout",
     "output_type": "stream",
     "text": [
      "  Batch 2,300  of  5,832. Loss: 0.48867225646972656.   Elapsed: 407.7273235321045.\n",
      "0:  incorporatedThe book is a must read for anyone who enjoys reading Shakespeare and fantasy. The author is an avid reader and has developed a keen interest in the history of France during the 19th and 20th century.\n",
      "\n",
      "This book has a wealth of information and has given us a glimpse into this remarkable and complex country.  A beautiful and well written book.\n",
      "\n",
      "This is not a typical story about a boy in a noble house named Edward.  However,  is a fantastic, epic story that  shows how Napoleon was able to take a country into the realm of France in 1801. It can also provide a great insight into the life and times of many who fought with Napoleon during the Napoleonic wars.\n"
     ]
    },
    {
     "name": "stderr",
     "output_type": "stream",
     "text": [
      "Setting `pad_token_id` to `eos_token_id`:50256 for open-end generation.\n"
     ]
    },
    {
     "name": "stdout",
     "output_type": "stream",
     "text": [
      "  Batch 2,400  of  5,832. Loss: 1.7277294397354126.   Elapsed: 424.69780349731445.\n",
      "0: PeterGross reading this, but you must not put it down.  The prose was a great disappointment and my only qualm about the continuation was that there was not much information in it.  And if you have reading in the series, be prepared to struggle to find it.  This is a very good continuation of a lot of other books I've been picking up.\n"
     ]
    },
    {
     "name": "stderr",
     "output_type": "stream",
     "text": [
      "Setting `pad_token_id` to `eos_token_id`:50256 for open-end generation.\n"
     ]
    },
    {
     "name": "stdout",
     "output_type": "stream",
     "text": [
      "  Batch 2,500  of  5,832. Loss: 0.9618666172027588.   Elapsed: 442.41332936286926.\n",
      "0: uringI couldn't put it down; it's a really good book that I'm going to use as a guide to help you get started on any kind of book. I just hope it helps you to follow your passion and learn about a real world situation.\n"
     ]
    },
    {
     "name": "stderr",
     "output_type": "stream",
     "text": [
      "Setting `pad_token_id` to `eos_token_id`:50256 for open-end generation.\n"
     ]
    },
    {
     "name": "stdout",
     "output_type": "stream",
     "text": [
      "  Batch 2,600  of  5,832. Loss: 1.8781065940856934.   Elapsed: 459.8676314353943.\n",
      "0:  reproductiveOne star!\n"
     ]
    },
    {
     "name": "stderr",
     "output_type": "stream",
     "text": [
      "Setting `pad_token_id` to `eos_token_id`:50256 for open-end generation.\n"
     ]
    },
    {
     "name": "stdout",
     "output_type": "stream",
     "text": [
      "  Batch 2,700  of  5,832. Loss: 0.7549610137939453.   Elapsed: 477.21501064300537.\n",
      "0:  zoneA must read for anyone that wants to know how the books progress.  I just wanted to like them better in their final chapters.\n"
     ]
    },
    {
     "name": "stderr",
     "output_type": "stream",
     "text": [
      "Setting `pad_token_id` to `eos_token_id`:50256 for open-end generation.\n"
     ]
    },
    {
     "name": "stdout",
     "output_type": "stream",
     "text": [
      "  Batch 2,800  of  5,832. Loss: 1.3889708518981934.   Elapsed: 494.6797397136688.\n",
      "0:  commitsWhen the book begins, you start to think that this is a fantasy, an autobiography, and a novel. But it's not. As soon as it ends, you get no insight into the actual plot and instead find yourself wondering whether the character was real, if the people were real, if the events that led up to and during these events are real.\n",
      "\n",
      "And then there are all of those strange books where people are introduced to a particular character from another world, who is the \"other person\", and so on and so on and so on.\n",
      "\n",
      "As if I didn't already know that these are stories in which children are introduced to a particular child, and their expectations of what happens are not entirely accurate. The book actually shows kids growing up, after the first 5 books, where some of the children seem to be \"normal\". But because they are not, the story drags on and on, as if you have a parent who grew up in a fantasy world.\n"
     ]
    },
    {
     "name": "stderr",
     "output_type": "stream",
     "text": [
      "Setting `pad_token_id` to `eos_token_id`:50256 for open-end generation.\n"
     ]
    },
    {
     "name": "stdout",
     "output_type": "stream",
     "text": [
      "  Batch 2,900  of  5,832. Loss: 2.3145010471343994.   Elapsed: 512.0017154216766.\n",
      "0:  ironyLoved this book, which brought the entire series to life.  It brought the whole series together so nicely.  It was awesome to have my own character work with a great author like Martin.  So great that I could not wait for all the next volumes to come out.  Now that I know my son is in college and is taking his exams, I don't have to wait for the next one. I would definitely recommend to many students.\n"
     ]
    },
    {
     "name": "stderr",
     "output_type": "stream",
     "text": [
      "Setting `pad_token_id` to `eos_token_id`:50256 for open-end generation.\n"
     ]
    },
    {
     "name": "stdout",
     "output_type": "stream",
     "text": [
      "  Batch 3,000  of  5,832. Loss: 1.6821160316467285.   Elapsed: 529.438414812088.\n",
      "0:  SahOne of my favorite stories ever, The Great Gatsby, is a gripping and poetic story that is all the rage for the moment that comes after the climax.  The story is based off of a story about four brothers and the twin sisters, who all are murdered by a rival gang of robbers known only as The Black Mower Gang.  In the wake of the deaths, this family is led to an unlikely fortune that leads to a battle between two royal brothers that turns the family in two.  As the book progresses, we learn that these brothers are also, indeed, outlaws, and as a result the story is divided among them.  This, along with a series of other disturbing events that happen in the early chapters, is what makes this book so appealing.  This is a story of redemption for each of the brotherhood in this great family, the brothers who have gone against the background of their family, and is just as much a part of the story as the\n"
     ]
    },
    {
     "name": "stderr",
     "output_type": "stream",
     "text": [
      "Setting `pad_token_id` to `eos_token_id`:50256 for open-end generation.\n"
     ]
    },
    {
     "name": "stdout",
     "output_type": "stream",
     "text": [
      "  Batch 3,100  of  5,832. Loss: 1.4780908823013306.   Elapsed: 546.832179069519.\n",
      "0:  BryanIn this book, the main character, the author, is a beautiful woman. If you read Shakespeare, you can see how this book really shines.  The story starts with a young girl sitting in a restaurant on a late night with her beautiful grandmother (who doesn't seem very interested in the boy's progress), her best friend (who's in love with the younger girl), her lover (who's in love with one of the girls) and her teacher (who's in school at a recent meeting), and the main characters.  She wants to become the queen of the hill with her two younger sisters and a brother (who's divorced from their mother).  It all begins with a woman who has been kidnapped and abandoned by a family of outlaws and is forced to face an invasion by the army, but finds her way to the hills.  She's brought in the police force, who she has to make friends with.  Then, she gets kidnapped by a mysterious evil group\n"
     ]
    },
    {
     "name": "stderr",
     "output_type": "stream",
     "text": [
      "Setting `pad_token_id` to `eos_token_id`:50256 for open-end generation.\n"
     ]
    },
    {
     "name": "stdout",
     "output_type": "stream",
     "text": [
      "  Batch 3,200  of  5,832. Loss: 1.9866176843643188.   Elapsed: 564.4872434139252.\n",
      "0:  spiritsA good read and a little too descriptive, I read the whole book out loud at a time. A real pleasure reading.\n"
     ]
    },
    {
     "name": "stderr",
     "output_type": "stream",
     "text": [
      "Setting `pad_token_id` to `eos_token_id`:50256 for open-end generation.\n"
     ]
    },
    {
     "name": "stdout",
     "output_type": "stream",
     "text": [
      "  Batch 3,300  of  5,832. Loss: 0.5451952815055847.   Elapsed: 581.7645375728607.\n",
      "0:  seesThis is another amazing classic that will leave you hungry for more. It looks like it has been re-done so there is tons of new material to read!\n"
     ]
    },
    {
     "name": "stderr",
     "output_type": "stream",
     "text": [
      "Setting `pad_token_id` to `eos_token_id`:50256 for open-end generation.\n"
     ]
    },
    {
     "name": "stdout",
     "output_type": "stream",
     "text": [
      "  Batch 3,400  of  5,832. Loss: 0.785459041595459.   Elapsed: 599.4858560562134.\n",
      "0:  hungryIt's not a lot better than the last one.  The characters are a bit weak - in some of the plot lines it seems like there are too many cliffhangers that I had to go through.\n",
      "\n",
      "This book is a bit hard to follow in the way of plot-line progression, but it's a well written and enjoyable read and I highly recommend it for all of you.\n"
     ]
    },
    {
     "name": "stderr",
     "output_type": "stream",
     "text": [
      "Setting `pad_token_id` to `eos_token_id`:50256 for open-end generation.\n"
     ]
    },
    {
     "name": "stdout",
     "output_type": "stream",
     "text": [
      "  Batch 3,500  of  5,832. Loss: 0.5460653305053711.   Elapsed: 616.9727826118469.\n",
      "0:  PTAs this book arrived, it was much less interesting than I expected. Very little information on any characters, plots, or events you might see in the series. This book has been a pleasure and an enjoyable read!\n"
     ]
    },
    {
     "name": "stderr",
     "output_type": "stream",
     "text": [
      "Setting `pad_token_id` to `eos_token_id`:50256 for open-end generation.\n"
     ]
    },
    {
     "name": "stdout",
     "output_type": "stream",
     "text": [
      "  Batch 3,600  of  5,832. Loss: 0.4425511062145233.   Elapsed: 635.0564794540405.\n",
      "0: üI read this book when I was 10 or 11 years old, by the way. It was also in English, though I am not sure why.  Some of this in a way, of course, meant that the book was written a few years ago.  However, the only reason this was so difficult to understand in English is that the grammar was too obvious.  There were passages in it that had no rhyme or reason to be rhymed, so there were very few paragraphs that could be considered in the context of a sentence.  It took me awhile to figure out what it is a sentence to do in a way that I understand in American English, and this is precisely what I did, without any help from my mother, or from my father.  Now I can't help but have the urge to repeat the story line once in one book after the first time to remind myself I understand something by the ending of a particular chapter.  This was really important to me.\n"
     ]
    },
    {
     "name": "stderr",
     "output_type": "stream",
     "text": [
      "Setting `pad_token_id` to `eos_token_id`:50256 for open-end generation.\n"
     ]
    },
    {
     "name": "stdout",
     "output_type": "stream",
     "text": [
      "  Batch 3,700  of  5,832. Loss: 0.48456066846847534.   Elapsed: 653.2513973712921.\n",
      "0: ruceAt the start of my writing I thought I would have to write another installment of a book about what happens when a major plot line is resolved (that of course is happening). However, I am quite happy with the way the first half of the book got into the book and I really feel the book is almost over halfway finished and that I really need to wait and hope the book is not over before publishing the third part. But, as this book got into the final pages I felt the pressure more and more to wait for the next book in this series, but eventually I did. I really wish the writers could get this book to the publisher and just get the story started before they begin publishing it. But as I said after the first half of book three it feels like the story arc has been resolved pretty much.\n",
      "\n",
      "It's not that there are more than 5 characters, but that the story continues throughout the first half of book 3 and ends with one chapter just as planned as it\n"
     ]
    },
    {
     "name": "stderr",
     "output_type": "stream",
     "text": [
      "Setting `pad_token_id` to `eos_token_id`:50256 for open-end generation.\n"
     ]
    },
    {
     "name": "stdout",
     "output_type": "stream",
     "text": [
      "  Batch 3,800  of  5,832. Loss: 1.3449374437332153.   Elapsed: 670.9947328567505.\n",
      "0:  derivativesOne of the most difficult books I've read since Martin published his first.  I thought the story line is a little too complicated.  For example,  George, who was so skilled at finding a twist in the situation,  might not have figured out the problem.  This is certainly an interesting subject but one that just needs to know why he created and wrote the problem.  This book is a very small step in this book,  and if it doesn't help readers who are a little weary.\n"
     ]
    },
    {
     "name": "stderr",
     "output_type": "stream",
     "text": [
      "Setting `pad_token_id` to `eos_token_id`:50256 for open-end generation.\n"
     ]
    },
    {
     "name": "stdout",
     "output_type": "stream",
     "text": [
      "  Batch 3,900  of  5,832. Loss: 0.28875863552093506.   Elapsed: 688.7228002548218.\n",
      "0: \u0019I didn't know any better than this story. I was trying to put it down for a week before reading it again. I read it to my 4 year old girl, who then asked me if she could tell her mom what I had just read. Her reaction was \"what a great book\", and she told me a funny story about a girl's life she had been through while she was in the middle of it, at a place called Little River.\n",
      "\n",
      "The story follows a group of girls as they are starting out the way they wanted to go when they met their long-lost uncle. When the girl asks them out on a trip to Little River, they are in constant conversation, a little confused about where they are going but they are just getting on and off.  The girl decides to go with them.  Their journey begins when she tries to find her mother, not long after the boy returns.\n",
      "\n",
      "There they are, they encounter the girl on an island that\n"
     ]
    },
    {
     "name": "stderr",
     "output_type": "stream",
     "text": [
      "Setting `pad_token_id` to `eos_token_id`:50256 for open-end generation.\n"
     ]
    },
    {
     "name": "stdout",
     "output_type": "stream",
     "text": [
      "  Batch 4,000  of  5,832. Loss: 0.6123586297035217.   Elapsed: 706.2543618679047.\n",
      "0:  rememberingThe whole thing took about\n"
     ]
    },
    {
     "name": "stderr",
     "output_type": "stream",
     "text": [
      "Setting `pad_token_id` to `eos_token_id`:50256 for open-end generation.\n"
     ]
    },
    {
     "name": "stdout",
     "output_type": "stream",
     "text": [
      "  Batch 4,100  of  5,832. Loss: 1.4577267169952393.   Elapsed: 723.7900154590607.\n",
      "0:  SourcesFilled with a great story I feel i am waiting for the next one to come to the next one.\n"
     ]
    },
    {
     "name": "stderr",
     "output_type": "stream",
     "text": [
      "Setting `pad_token_id` to `eos_token_id`:50256 for open-end generation.\n"
     ]
    },
    {
     "name": "stdout",
     "output_type": "stream",
     "text": [
      "  Batch 4,200  of  5,832. Loss: 1.828528881072998.   Elapsed: 741.5482504367828.\n",
      "0: emsA great book. Its kind of a small piece, but still worth the read!\n"
     ]
    },
    {
     "name": "stderr",
     "output_type": "stream",
     "text": [
      "Setting `pad_token_id` to `eos_token_id`:50256 for open-end generation.\n"
     ]
    },
    {
     "name": "stdout",
     "output_type": "stream",
     "text": [
      "  Batch 4,300  of  5,832. Loss: 3.1834664344787598.   Elapsed: 759.2808437347412.\n",
      "0: tzSo many different characters and threads to make it easy for anyone, anywhere. I just don't understand the characters. I read to adults, just to entertain, and I want to keep things the same. I was bored by the TV series. The characters and their stories would just keep getting worse and worse until I quit. This was one of the better books I've read, and I just don't understand the characters in this book. I do like a good read, and I just don't feel like the show gets all that much attention.  I read the first 5 books and they are all over the place, yet the book has gotten more and more boring. It was hard to put away until I get the fifth books, because I read all 10.  Martin has made so much progress to show you who the characters and what's going to happen.\n",
      "\n",
      "So many different characters and threads to make it easy for anyone, anywhere, to get lost.\n",
      "\n",
      "So many\n"
     ]
    },
    {
     "name": "stderr",
     "output_type": "stream",
     "text": [
      "Setting `pad_token_id` to `eos_token_id`:50256 for open-end generation.\n"
     ]
    },
    {
     "name": "stdout",
     "output_type": "stream",
     "text": [
      "  Batch 4,400  of  5,832. Loss: 0.9169836044311523.   Elapsed: 776.672513961792.\n",
      "0: maticA great book with great characters, twists and surprises.  If you like an adventure, this is a MUST read!\n"
     ]
    },
    {
     "name": "stderr",
     "output_type": "stream",
     "text": [
      "Setting `pad_token_id` to `eos_token_id`:50256 for open-end generation.\n"
     ]
    },
    {
     "name": "stdout",
     "output_type": "stream",
     "text": [
      "  Batch 4,500  of  5,832. Loss: 1.405478835105896.   Elapsed: 795.5835752487183.\n",
      "0:  syndI was very worried about being out of shape and losing my footing.  But I do like to keep my glasses on, but I kept my head down, and was able to avoid the dreaded \"clash of the bands\" and \"crash\".  So a little while to get to where I am, I stopped to read more books that I wanted to read more.  It's a good read, especially for the young or older.\n"
     ]
    },
    {
     "name": "stderr",
     "output_type": "stream",
     "text": [
      "Setting `pad_token_id` to `eos_token_id`:50256 for open-end generation.\n"
     ]
    },
    {
     "name": "stdout",
     "output_type": "stream",
     "text": [
      "  Batch 4,600  of  5,832. Loss: 0.8987389802932739.   Elapsed: 813.527717590332.\n",
      "0:  gamLove reading the series. They have so many characters. I think I need more! I've been waiting years for the next one but the characters I've been reading this time around seem to start to come alive. Good book, good time!\n"
     ]
    },
    {
     "name": "stderr",
     "output_type": "stream",
     "text": [
      "Setting `pad_token_id` to `eos_token_id`:50256 for open-end generation.\n"
     ]
    },
    {
     "name": "stdout",
     "output_type": "stream",
     "text": [
      "  Batch 4,700  of  5,832. Loss: 0.7936998605728149.   Elapsed: 831.1282947063446.\n",
      "0:  injuryVery nice and well written...very happy to read this book and to have read it again!\n"
     ]
    },
    {
     "name": "stderr",
     "output_type": "stream",
     "text": [
      "Setting `pad_token_id` to `eos_token_id`:50256 for open-end generation.\n"
     ]
    },
    {
     "name": "stdout",
     "output_type": "stream",
     "text": [
      "  Batch 4,800  of  5,832. Loss: 1.0424748659133911.   Elapsed: 848.7170896530151.\n",
      "0: azaI am a very fast reader, but I have to admit that when I started reading this I felt a need to skim through all 4 books (with all 4 books in the series) on these days. After reading the first four in chronological order, it felt as though there was a new version of this novel.  There was a great deal of re-reading and re-reading of the series as I went through the book.  What happened next was very different from the last four books in the series, which is why I did NOT buy the second one.\n",
      "\n",
      "The first four books were enjoyable.  It was interesting to have a glimpse of what was happening in the world of the last two books.  Now with a new book, I can truly say that I have enjoyed the other four series better than I did after this one.  The fifth book is great.  This book is in my top five favorites of the series. It makes a great addition to any series\n"
     ]
    },
    {
     "name": "stderr",
     "output_type": "stream",
     "text": [
      "Setting `pad_token_id` to `eos_token_id`:50256 for open-end generation.\n"
     ]
    },
    {
     "name": "stdout",
     "output_type": "stream",
     "text": [
      "  Batch 4,900  of  5,832. Loss: 1.6086748838424683.   Elapsed: 866.0681982040405.\n",
      "0:  membraneThe ending of this series really made you want to reread the entire series because of the amount of story added to the book.  This is the first book in the series and it is very enjoyable read.  I was surprised the story was so convoluted and the characters were so confusing.  I think we can all agree the series is very well written and it has so many twists and turns that it keeps you engaged and the author is able to make you feel this is a great read.\n",
      "\n",
      "\n",
      "To get into the series you need to read the first four books.  This is the first series to use the standard format for books (the order of books in the series).\n",
      "\n",
      "The story begins with the discovery of a mysterious man named Gerald Durrell who is a man called Edith Franklin.  Franklin was born to a wealthy family and was adopted as a child by his mother to a large number of girls.  He grew up believing that there were millions of angels,\n"
     ]
    },
    {
     "name": "stderr",
     "output_type": "stream",
     "text": [
      "Setting `pad_token_id` to `eos_token_id`:50256 for open-end generation.\n"
     ]
    },
    {
     "name": "stdout",
     "output_type": "stream",
     "text": [
      "  Batch 5,000  of  5,832. Loss: 0.4074343144893646.   Elapsed: 883.5641195774078.\n",
      "0: ijingJust about everything you could ask for about the series. Can't wait for season 5!\n"
     ]
    },
    {
     "name": "stderr",
     "output_type": "stream",
     "text": [
      "Setting `pad_token_id` to `eos_token_id`:50256 for open-end generation.\n"
     ]
    },
    {
     "name": "stdout",
     "output_type": "stream",
     "text": [
      "  Batch 5,100  of  5,832. Loss: 1.9075970649719238.   Elapsed: 901.2088820934296.\n",
      "0:  castAnother great book but unfortunately it was boring. Can't wait to read all the other characters in the next book!\n"
     ]
    },
    {
     "name": "stderr",
     "output_type": "stream",
     "text": [
      "Setting `pad_token_id` to `eos_token_id`:50256 for open-end generation.\n"
     ]
    },
    {
     "name": "stdout",
     "output_type": "stream",
     "text": [
      "  Batch 5,200  of  5,832. Loss: 2.4804117679595947.   Elapsed: 919.0528542995453.\n",
      "0:  purchThis book is very easy to read but is packed with information and recipes. It is a really well written and beautiful book that is well worth every penny in our opinion. My wife is extremely satisfied with this edition in its condition and it is now perfect!!\n"
     ]
    },
    {
     "name": "stderr",
     "output_type": "stream",
     "text": [
      "Setting `pad_token_id` to `eos_token_id`:50256 for open-end generation.\n"
     ]
    },
    {
     "name": "stdout",
     "output_type": "stream",
     "text": [
      "  Batch 5,300  of  5,832. Loss: 1.1785447597503662.   Elapsed: 936.8787517547607.\n",
      "0:  shouldersI can't wait for book 6!  I have not yet decided if I am going to continue the series or not.\n"
     ]
    },
    {
     "name": "stderr",
     "output_type": "stream",
     "text": [
      "Setting `pad_token_id` to `eos_token_id`:50256 for open-end generation.\n"
     ]
    },
    {
     "name": "stdout",
     "output_type": "stream",
     "text": [
      "  Batch 5,400  of  5,832. Loss: 0.27199140191078186.   Elapsed: 954.3216025829315.\n",
      "0:  builtI love reading books that have a story in their life. The last time I took a break from reading books, I had to read the whole book through the same process. I do think that for many people, it is not quite as useful as the previous books.\n"
     ]
    },
    {
     "name": "stderr",
     "output_type": "stream",
     "text": [
      "Setting `pad_token_id` to `eos_token_id`:50256 for open-end generation.\n"
     ]
    },
    {
     "name": "stdout",
     "output_type": "stream",
     "text": [
      "  Batch 5,500  of  5,832. Loss: 1.4548561573028564.   Elapsed: 971.8626005649567.\n",
      "0:  openlyThis is an amazing book, beautifully written. I cannot wait for the next book!\n"
     ]
    },
    {
     "name": "stderr",
     "output_type": "stream",
     "text": [
      "Setting `pad_token_id` to `eos_token_id`:50256 for open-end generation.\n"
     ]
    },
    {
     "name": "stdout",
     "output_type": "stream",
     "text": [
      "  Batch 5,600  of  5,832. Loss: 0.5450546741485596.   Elapsed: 989.3757872581482.\n",
      "0:  haltedThis is a great example of survival writing.  I like this book as much as the others.  It's just another book to read on the phone.  If you are looking for a strong survival book you are wrong.\n"
     ]
    },
    {
     "name": "stderr",
     "output_type": "stream",
     "text": [
      "Setting `pad_token_id` to `eos_token_id`:50256 for open-end generation.\n"
     ]
    },
    {
     "name": "stdout",
     "output_type": "stream",
     "text": [
      "  Batch 5,700  of  5,832. Loss: 0.5915464162826538.   Elapsed: 1006.815274477005.\n",
      "0:  NikThe book is extremely long and dense.\n",
      "\n",
      "I'll put the length down if I ever have to give a second thought to this book. I read it at least a hundred times in the early 1980s and enjoyed it so much I almost gave up at the end. I read it to my children.\n",
      "\n",
      "Another complaint is the language. The author did not understand these words correctly.\n"
     ]
    },
    {
     "name": "stderr",
     "output_type": "stream",
     "text": [
      "Setting `pad_token_id` to `eos_token_id`:50256 for open-end generation.\n"
     ]
    },
    {
     "name": "stdout",
     "output_type": "stream",
     "text": [
      "  Batch 5,800  of  5,832. Loss: 1.7573117017745972.   Elapsed: 1024.395124912262.\n",
      "0:  tinI have to admit that this is the worst of the series.  I did like the lack of the big action.  So I did have a lot of time to get back into the game.  I would give it a shot.  If you are into the survival genre with a little patience this is just the book for you.\n",
      "\n",
      "  Average training loss: 1.46\n",
      "  Training epoch took: 1031.7012996673584\n",
      "Running Validation...\n",
      "  Validation Loss: 1.16\n",
      "  Validation took: 1141.545871257782\n",
      "======== Epoch 2 / 5 ========\n"
     ]
    },
    {
     "name": "stderr",
     "output_type": "stream",
     "text": [
      "Setting `pad_token_id` to `eos_token_id`:50256 for open-end generation.\n"
     ]
    },
    {
     "name": "stdout",
     "output_type": "stream",
     "text": [
      "  Batch   100  of  5,832. Loss: 0.6081840395927429.   Elapsed: 15.103490591049194.\n",
      "0:  clinicalThe book kept the story flowing in and out of the characters, making it a great read.  Even I struggled to understand the main character's past, so this book was not as good.  I had trouble getting to the ending, but it didn't keep me waiting for it.\n"
     ]
    },
    {
     "name": "stderr",
     "output_type": "stream",
     "text": [
      "Setting `pad_token_id` to `eos_token_id`:50256 for open-end generation.\n"
     ]
    },
    {
     "name": "stdout",
     "output_type": "stream",
     "text": [
      "  Batch   200  of  5,832. Loss: 1.1569894552230835.   Elapsed: 32.5996413230896.\n",
      "0: lectionsI am not an experienced storyteller, but I liked it and loved the ending. And it was great.\n",
      " I love the historical background, that was fun to read.\n"
     ]
    },
    {
     "name": "stderr",
     "output_type": "stream",
     "text": [
      "Setting `pad_token_id` to `eos_token_id`:50256 for open-end generation.\n"
     ]
    },
    {
     "name": "stdout",
     "output_type": "stream",
     "text": [
      "  Batch   300  of  5,832. Loss: 0.7508777379989624.   Elapsed: 49.92749619483948.\n",
      "0: elsAll of them are very good and the story is great. The ending was very good, but the action wasn't very exciting\n"
     ]
    },
    {
     "name": "stderr",
     "output_type": "stream",
     "text": [
      "Setting `pad_token_id` to `eos_token_id`:50256 for open-end generation.\n"
     ]
    },
    {
     "name": "stdout",
     "output_type": "stream",
     "text": [
      "  Batch   400  of  5,832. Loss: 0.6659657955169678.   Elapsed: 67.30403661727905.\n",
      "0: labI can't remember which book I read to my 3 year old.  It's a survival book for kids who are learning to survive their own situations.\n"
     ]
    },
    {
     "name": "stderr",
     "output_type": "stream",
     "text": [
      "Setting `pad_token_id` to `eos_token_id`:50256 for open-end generation.\n"
     ]
    },
    {
     "name": "stdout",
     "output_type": "stream",
     "text": [
      "  Batch   500  of  5,832. Loss: 0.5920201539993286.   Elapsed: 84.779611825943.\n",
      "0:  tripleA little too much in the fourth quarter of the series, and the ending seems like it could have ended much earlier in the series. Not at all as good as the previous two books, and I'm not sure if I'll finish reading these and be able to fully enjoy the whole thing yet, but I'm hoping it does.\n"
     ]
    },
    {
     "name": "stderr",
     "output_type": "stream",
     "text": [
      "Setting `pad_token_id` to `eos_token_id`:50256 for open-end generation.\n"
     ]
    },
    {
     "name": "stdout",
     "output_type": "stream",
     "text": [
      "  Batch   600  of  5,832. Loss: 0.5314914584159851.   Elapsed: 102.21494698524475.\n",
      "0: 220I really enjoy this book, but I was really bored in the first 3 and have been trying to get through the last 2. I'm actually tired of the same thing.\n"
     ]
    },
    {
     "name": "stderr",
     "output_type": "stream",
     "text": [
      "Setting `pad_token_id` to `eos_token_id`:50256 for open-end generation.\n"
     ]
    },
    {
     "name": "stdout",
     "output_type": "stream",
     "text": [
      "  Batch   700  of  5,832. Loss: 2.4931089878082275.   Elapsed: 119.66468262672424.\n",
      "0:  SeeFilling in any holes in the story.  Great read from start to finish.\n"
     ]
    },
    {
     "name": "stderr",
     "output_type": "stream",
     "text": [
      "Setting `pad_token_id` to `eos_token_id`:50256 for open-end generation.\n"
     ]
    },
    {
     "name": "stdout",
     "output_type": "stream",
     "text": [
      "  Batch   800  of  5,832. Loss: 1.1802819967269897.   Elapsed: 138.7539985179901.\n",
      "0: @@This is another masterpiece of English poetry - beautifully written, and of course this is the kind of story that gets you to where you want to go. George RR Martin's story is one of a series of beautifully written books - the magic is as rich as ever!  Some of the characters you'd care to remember or love are here and there.  The characters you'd want to root for are so prominent.  In between these stories of family trees, there are a plethora of other things you'd want to keep in mind - the importance of a mother, father, brother, friend, lover, etc, and a mother's strength is not just there to protect her from the danger in and from itself, it's there to help her survive - and if she isn't that strong, she's not worth being around.  All of that is woven into this epic novel of great joy and sorrow.  You'd never know it at first hand.\n"
     ]
    },
    {
     "name": "stderr",
     "output_type": "stream",
     "text": [
      "Setting `pad_token_id` to `eos_token_id`:50256 for open-end generation.\n"
     ]
    },
    {
     "name": "stdout",
     "output_type": "stream",
     "text": [
      "  Batch   900  of  5,832. Loss: 0.26201188564300537.   Elapsed: 156.34071564674377.\n",
      "0:  hostI have a book club and this one has everything we need but the price is very affordable! Can't wait for the next book...\n"
     ]
    },
    {
     "name": "stderr",
     "output_type": "stream",
     "text": [
      "Setting `pad_token_id` to `eos_token_id`:50256 for open-end generation.\n"
     ]
    },
    {
     "name": "stdout",
     "output_type": "stream",
     "text": [
      "  Batch 1,000  of  5,832. Loss: 0.7932518124580383.   Elapsed: 173.82190942764282.\n",
      "0: roleGreat book. I never read this book in the 80s, but the book still captures the essence of what this was all about. It has many characters, the story is well crafted and the story is entertaining.\n"
     ]
    },
    {
     "name": "stderr",
     "output_type": "stream",
     "text": [
      "Setting `pad_token_id` to `eos_token_id`:50256 for open-end generation.\n"
     ]
    },
    {
     "name": "stdout",
     "output_type": "stream",
     "text": [
      "  Batch 1,100  of  5,832. Loss: 0.33641600608825684.   Elapsed: 191.29603457450867.\n",
      "0: iacI bought this for my son's birthday in a small bin. He loves it and has read a number of the books. He loves this one!\n"
     ]
    },
    {
     "name": "stderr",
     "output_type": "stream",
     "text": [
      "Setting `pad_token_id` to `eos_token_id`:50256 for open-end generation.\n"
     ]
    },
    {
     "name": "stdout",
     "output_type": "stream",
     "text": [
      "  Batch 1,200  of  5,832. Loss: 2.7726829051971436.   Elapsed: 208.9067931175232.\n",
      "0:  LDI didn't love the first four novels, but I'm glad I read the first three in order. A must read for young, and adult readers.\n"
     ]
    },
    {
     "name": "stderr",
     "output_type": "stream",
     "text": [
      "Setting `pad_token_id` to `eos_token_id`:50256 for open-end generation.\n"
     ]
    },
    {
     "name": "stdout",
     "output_type": "stream",
     "text": [
      "  Batch 1,300  of  5,832. Loss: 2.434346914291382.   Elapsed: 226.42620730400085.\n",
      "0:  ListenRead the whole series.  My favorite is Arundhati Roy's Arundhati's Daughter  I hope you like the book\n"
     ]
    },
    {
     "name": "stderr",
     "output_type": "stream",
     "text": [
      "Setting `pad_token_id` to `eos_token_id`:50256 for open-end generation.\n"
     ]
    },
    {
     "name": "stdout",
     "output_type": "stream",
     "text": [
      "  Batch 1,400  of  5,832. Loss: 1.2980810403823853.   Elapsed: 244.2790813446045.\n",
      "0:  dyI don't really care about it anymore but I'll finish it soon.  It's just too much to deal with.\n"
     ]
    },
    {
     "name": "stderr",
     "output_type": "stream",
     "text": [
      "Setting `pad_token_id` to `eos_token_id`:50256 for open-end generation.\n"
     ]
    },
    {
     "name": "stdout",
     "output_type": "stream",
     "text": [
      "  Batch 1,500  of  5,832. Loss: 0.5017622113227844.   Elapsed: 261.9314091205597.\n",
      "0:  DomesticBought on sale because it was very easy to read, but didn't include in my purchase list as well as some of the other books.\n"
     ]
    },
    {
     "name": "stderr",
     "output_type": "stream",
     "text": [
      "Setting `pad_token_id` to `eos_token_id`:50256 for open-end generation.\n"
     ]
    },
    {
     "name": "stdout",
     "output_type": "stream",
     "text": [
      "  Batch 1,600  of  5,832. Loss: 1.2047659158706665.   Elapsed: 279.223952293396.\n",
      "0:  beneficiariesI am a big fan of these series. I liked the first book, but Martin made some changes to it.  It wasn't all that great, but I was happy to hear about how Martin made some of his changes on some of the characters.  It was enjoyable to read all the way through and see how Martin changed his characters.\n",
      "I would recommend this to anyone who enjoys this kind of series.\n"
     ]
    },
    {
     "name": "stderr",
     "output_type": "stream",
     "text": [
      "Setting `pad_token_id` to `eos_token_id`:50256 for open-end generation.\n"
     ]
    },
    {
     "name": "stdout",
     "output_type": "stream",
     "text": [
      "  Batch 1,700  of  5,832. Loss: 0.761501133441925.   Elapsed: 296.56312012672424.\n",
      "0:  TitleThis book is wonderful. All the great parts of the story are well written. If you like it, you'll love it. There are great and exciting moments. I'll watch the movie.\n"
     ]
    },
    {
     "name": "stderr",
     "output_type": "stream",
     "text": [
      "Setting `pad_token_id` to `eos_token_id`:50256 for open-end generation.\n"
     ]
    },
    {
     "name": "stdout",
     "output_type": "stream",
     "text": [
      "  Batch 1,800  of  5,832. Loss: 0.9885531067848206.   Elapsed: 314.0858383178711.\n",
      "0:  μI can't wait for the sixth book of the series!!  They have amazing writing and it is really a wonderful world filled with people that I cannot even imagine!!  I have enjoyed every moment of it!  Can't wait for Winds of Winter!\n"
     ]
    },
    {
     "name": "stderr",
     "output_type": "stream",
     "text": [
      "Setting `pad_token_id` to `eos_token_id`:50256 for open-end generation.\n"
     ]
    },
    {
     "name": "stdout",
     "output_type": "stream",
     "text": [
      "  Batch 1,900  of  5,832. Loss: 1.3255326747894287.   Elapsed: 331.6357271671295.\n",
      "0:  sellingI love this series and am very happy with the continuation to the book.  I would not recommend this book but I would recommend getting it as soon as I get out of bed.\n"
     ]
    },
    {
     "name": "stderr",
     "output_type": "stream",
     "text": [
      "Setting `pad_token_id` to `eos_token_id`:50256 for open-end generation.\n"
     ]
    },
    {
     "name": "stdout",
     "output_type": "stream",
     "text": [
      "  Batch 2,000  of  5,832. Loss: 2.0687246322631836.   Elapsed: 349.19028759002686.\n",
      "0:  migrantI don't think we should take this book seriously, so many negative reviews have already been made on the book.  However, after being a fan of the first 3 books, I found it to be a very engaging read.  I also loved the first four books that were based on historical facts.  However, I still feel this is the most poorly written.  I also felt that this book is not realistic enough.  I find myself skipping over a lot of character's to get to the core.  I am also left wondering at the end what else they are trying to learn from the other three books.  I also feel like the author's efforts to paint an unrealistic, linear world does a poor job of describing and shaping the characters to fit the story.  This was evident in the story itself, though not by comparing it to the actual story.\n",
      "\n",
      "The book itself is a very well-organized, readable, engaging set up.  The book moves to the\n"
     ]
    },
    {
     "name": "stderr",
     "output_type": "stream",
     "text": [
      "Setting `pad_token_id` to `eos_token_id`:50256 for open-end generation.\n"
     ]
    },
    {
     "name": "stdout",
     "output_type": "stream",
     "text": [
      "  Batch 2,100  of  5,832. Loss: 1.4099022150039673.   Elapsed: 366.4850993156433.\n",
      "0: ivelyI am so glad you read this book. It started out slow, but was really enjoyable. I feel like I got the feeling the world had taken over the whole of India.\n"
     ]
    },
    {
     "name": "stderr",
     "output_type": "stream",
     "text": [
      "Setting `pad_token_id` to `eos_token_id`:50256 for open-end generation.\n"
     ]
    },
    {
     "name": "stdout",
     "output_type": "stream",
     "text": [
      "  Batch 2,200  of  5,832. Loss: 0.35492998361587524.   Elapsed: 383.92985439300537.\n",
      "0:  orderI've enjoyed the first 3 books, though the 4th book had a lot more going on.  I can't wait for book 6.  You'll have a wonderful ride with the series.\n"
     ]
    },
    {
     "name": "stderr",
     "output_type": "stream",
     "text": [
      "Setting `pad_token_id` to `eos_token_id`:50256 for open-end generation.\n"
     ]
    },
    {
     "name": "stdout",
     "output_type": "stream",
     "text": [
      "  Batch 2,300  of  5,832. Loss: 1.6906460523605347.   Elapsed: 401.9228005409241.\n",
      "0:  VPNThis is a very informative book on this amazing subject! As a general rule, if you don't know about certain subjects you will probably not read this book. I am very much looking forward to the 6th installment!\n"
     ]
    },
    {
     "name": "stderr",
     "output_type": "stream",
     "text": [
      "Setting `pad_token_id` to `eos_token_id`:50256 for open-end generation.\n"
     ]
    },
    {
     "name": "stdout",
     "output_type": "stream",
     "text": [
      "  Batch 2,400  of  5,832. Loss: 1.042588233947754.   Elapsed: 419.44172716140747.\n",
      "0:  explanationFor starters, this book contains very little information regarding the various kingdoms in Westeros.  I can certainly read the history of the various kingdoms, but without even a cursory examination, I feel like a child reading a chapter by chapter.  At times, you may have to wait for chapter after chapter until you're finished reading, or for that matter, a few chapters until you're done with what you're reading.  Characters like Daenerys and Bran the Great and the Catelyn remain an important part of the story, but, in this instance, the main characters are somewhat superfluous and do little.  I'm really not sure who the main characters in this book really are.  None of them really serve any purpose.  If you've read Martin's other work, however, it is still a good read.  The first three books of his books are filled with characters that are never introduced or who really have any bearing whatsoever in the story.  This book\n"
     ]
    },
    {
     "name": "stderr",
     "output_type": "stream",
     "text": [
      "Setting `pad_token_id` to `eos_token_id`:50256 for open-end generation.\n"
     ]
    },
    {
     "name": "stdout",
     "output_type": "stream",
     "text": [
      "  Batch 2,500  of  5,832. Loss: 2.0319104194641113.   Elapsed: 436.89848732948303.\n",
      "0:  BachGood read in the series.\n",
      "\n",
      "I have read many books in this series, and it was good to see the story move ahead.  I love Martin.  Book 5 was just a good read, though.\n"
     ]
    },
    {
     "name": "stderr",
     "output_type": "stream",
     "text": [
      "Setting `pad_token_id` to `eos_token_id`:50256 for open-end generation.\n"
     ]
    },
    {
     "name": "stdout",
     "output_type": "stream",
     "text": [
      "  Batch 2,600  of  5,832. Loss: 1.4896928071975708.   Elapsed: 454.5129761695862.\n",
      "0:  folderAnother of the best series that I have read yet.  I love the way Tyrion has developed his backstory with his love interest.  I love having the characters stay as it is with him throughout the story.  Now, I know I will get it over with.  I have already read one of the 5 books and am ready to enjoy it.  If you want a little more depth you may want to read some of the other books in the series!\n"
     ]
    },
    {
     "name": "stderr",
     "output_type": "stream",
     "text": [
      "Setting `pad_token_id` to `eos_token_id`:50256 for open-end generation.\n"
     ]
    },
    {
     "name": "stdout",
     "output_type": "stream",
     "text": [
      "  Batch 2,700  of  5,832. Loss: 1.0847315788269043.   Elapsed: 472.5789580345154.\n",
      "0:  buildingI was able to read several of the chapters on this and the first three books in the series.  There is so much character development.  I couldn't wait for the next one so I skipped them completely.  This book is amazing and has a lot of twists and turns from this time.\n"
     ]
    },
    {
     "name": "stderr",
     "output_type": "stream",
     "text": [
      "Setting `pad_token_id` to `eos_token_id`:50256 for open-end generation.\n"
     ]
    },
    {
     "name": "stdout",
     "output_type": "stream",
     "text": [
      "  Batch 2,800  of  5,832. Loss: 1.0679047107696533.   Elapsed: 490.7704164981842.\n",
      "0:  BabylonI did not read the book at first but only re-read the book twice because it was so bad.  I will probably re-read some of the other books because they are so bad and I do not know why I did not read them before I did.  What happened to Martin who made the book so bad?\n"
     ]
    },
    {
     "name": "stderr",
     "output_type": "stream",
     "text": [
      "Setting `pad_token_id` to `eos_token_id`:50256 for open-end generation.\n"
     ]
    },
    {
     "name": "stdout",
     "output_type": "stream",
     "text": [
      "  Batch 2,900  of  5,832. Loss: 2.4211015701293945.   Elapsed: 508.3792128562927.\n",
      "0: perialIn this book the book is just as good as the movie. It is well written and quite a beautiful story - a true gem - even though it is a very big time story.\n"
     ]
    },
    {
     "name": "stderr",
     "output_type": "stream",
     "text": [
      "Setting `pad_token_id` to `eos_token_id`:50256 for open-end generation.\n"
     ]
    },
    {
     "name": "stdout",
     "output_type": "stream",
     "text": [
      "  Batch 3,000  of  5,832. Loss: 1.7908481359481812.   Elapsed: 525.8518104553223.\n",
      "0:  rentsOne of the best books of this genre.  I didn't get this book for Kindle, and I found it a few times to put it down.\n"
     ]
    },
    {
     "name": "stderr",
     "output_type": "stream",
     "text": [
      "Setting `pad_token_id` to `eos_token_id`:50256 for open-end generation.\n"
     ]
    },
    {
     "name": "stdout",
     "output_type": "stream",
     "text": [
      "  Batch 3,100  of  5,832. Loss: 1.3242267370224.   Elapsed: 543.1945083141327.\n",
      "0:  RegI like these books.  They really bring the story alive.  I think this book was my favorite in the series.  My daughter loved it.  So much so that we spent a whole year reading them together to her.  This was great.  We read them in the evenings at work.  Her favorite book, the one I gave my 9-year-old to read in his class, was the last one we read together.  We would read each other, even though it was a very long book, because her favorite book would be \"Pumpkin and Salt\".  I couldn't get enough, just reading and thinking!  Then we started the last book together (I gave that to my 5-year-old to read to her after bed).  She had no idea what happened to the other books and decided to go for the last one.\n",
      "\n",
      "This book is so good.  She reads it after breakfast.  She loves it so much\n"
     ]
    },
    {
     "name": "stderr",
     "output_type": "stream",
     "text": [
      "Setting `pad_token_id` to `eos_token_id`:50256 for open-end generation.\n"
     ]
    },
    {
     "name": "stdout",
     "output_type": "stream",
     "text": [
      "  Batch 3,200  of  5,832. Loss: 1.1245191097259521.   Elapsed: 560.7065196037292.\n",
      "0: olasSo many characters are introduced for each book - but no story-line. It is a great story line for this one.\n"
     ]
    },
    {
     "name": "stderr",
     "output_type": "stream",
     "text": [
      "Setting `pad_token_id` to `eos_token_id`:50256 for open-end generation.\n"
     ]
    },
    {
     "name": "stdout",
     "output_type": "stream",
     "text": [
      "  Batch 3,300  of  5,832. Loss: 1.085819959640503.   Elapsed: 578.5401194095612.\n",
      "0:  responsesYou're not a bad writer, but you can't always keep up, and this book is just too damn close to the first three books. Too many characters, too many battles, too many plots, too many twists and turns.\n"
     ]
    },
    {
     "name": "stderr",
     "output_type": "stream",
     "text": [
      "Setting `pad_token_id` to `eos_token_id`:50256 for open-end generation.\n"
     ]
    },
    {
     "name": "stdout",
     "output_type": "stream",
     "text": [
      "  Batch 3,400  of  5,832. Loss: 0.9657508134841919.   Elapsed: 595.9169263839722.\n",
      "0:  attendanceGood book\n"
     ]
    },
    {
     "name": "stderr",
     "output_type": "stream",
     "text": [
      "Setting `pad_token_id` to `eos_token_id`:50256 for open-end generation.\n"
     ]
    },
    {
     "name": "stdout",
     "output_type": "stream",
     "text": [
      "  Batch 3,500  of  5,832. Loss: 0.7211039066314697.   Elapsed: 613.6844363212585.\n",
      "0:  rigidExcellent\n"
     ]
    },
    {
     "name": "stderr",
     "output_type": "stream",
     "text": [
      "Setting `pad_token_id` to `eos_token_id`:50256 for open-end generation.\n"
     ]
    },
    {
     "name": "stdout",
     "output_type": "stream",
     "text": [
      "  Batch 3,600  of  5,832. Loss: 1.7271974086761475.   Elapsed: 631.3942770957947.\n",
      "0: groI didn't like this book so much as the last one because it ended in the middle of some cliff hangers. It was more like the previous two novels. I am not sure how long it will take to finish these books to get them off the ground, but it is still an amazing read. I enjoyed how it ties together all the characters. I was actually quite disappointed with the ending of the book due to the lack of closure. I don't think that will happen because I think that it would be unnecessary to continue the storyline. But I do think that there will be some plot twists and what could make for a great book. Hopefully the book can tie up the various loose ends so we can see what happens. It was very boring for the most part.\n"
     ]
    },
    {
     "name": "stderr",
     "output_type": "stream",
     "text": [
      "Setting `pad_token_id` to `eos_token_id`:50256 for open-end generation.\n"
     ]
    },
    {
     "name": "stdout",
     "output_type": "stream",
     "text": [
      "  Batch 3,700  of  5,832. Loss: 0.6805335283279419.   Elapsed: 649.0647811889648.\n",
      "0:  GreI love the story. I love the story of the \"big bad man\" and the \"little ones\". I love the characters and the personalities. I love the characters, love the characters, love characters. I love the characters, love the characters that live their lives. We are a happy, loving, loving family. The reader has a love for the family. You have a great appreciation for the family. I believe that everyone will love you for a long time, and all the characters will enjoy their lives.\n"
     ]
    },
    {
     "name": "stderr",
     "output_type": "stream",
     "text": [
      "Setting `pad_token_id` to `eos_token_id`:50256 for open-end generation.\n"
     ]
    },
    {
     "name": "stdout",
     "output_type": "stream",
     "text": [
      "  Batch 3,800  of  5,832. Loss: 0.8058816194534302.   Elapsed: 666.7377321720123.\n",
      "0: uraI haven't finished reading this story so far, but it's still a great read.  I'm always a fan of George R.R Martin but I had a feeling this was going to be the last book.  I don't know if I'll finish the series, but I'm looking forward to the next one.\n"
     ]
    },
    {
     "name": "stderr",
     "output_type": "stream",
     "text": [
      "Setting `pad_token_id` to `eos_token_id`:50256 for open-end generation.\n"
     ]
    },
    {
     "name": "stdout",
     "output_type": "stream",
     "text": [
      "  Batch 3,900  of  5,832. Loss: 1.3706711530685425.   Elapsed: 685.3833591938019.\n",
      "0:  2020Very good.\n"
     ]
    },
    {
     "name": "stderr",
     "output_type": "stream",
     "text": [
      "Setting `pad_token_id` to `eos_token_id`:50256 for open-end generation.\n"
     ]
    },
    {
     "name": "stdout",
     "output_type": "stream",
     "text": [
      "  Batch 4,000  of  5,832. Loss: 1.2907267808914185.   Elapsed: 703.4649217128754.\n",
      "0:  chargingOne of the first book I read when I was a boy I read it to my teenage boys.  It was so good the boys picked it up and started reading it.  It's good as a parent to read all your children reading to them.\n"
     ]
    },
    {
     "name": "stderr",
     "output_type": "stream",
     "text": [
      "Setting `pad_token_id` to `eos_token_id`:50256 for open-end generation.\n"
     ]
    },
    {
     "name": "stdout",
     "output_type": "stream",
     "text": [
      "  Batch 4,100  of  5,832. Loss: 2.2662062644958496.   Elapsed: 721.2794106006622.\n",
      "0:  SarI don't understand the motivation for this whole \"Ain't a dullin' thing.\" I have never read a book that was so very long. I'm glad that I chose this book.\n"
     ]
    },
    {
     "name": "stderr",
     "output_type": "stream",
     "text": [
      "Setting `pad_token_id` to `eos_token_id`:50256 for open-end generation.\n"
     ]
    },
    {
     "name": "stdout",
     "output_type": "stream",
     "text": [
      "  Batch 4,200  of  5,832. Loss: 0.40175342559814453.   Elapsed: 738.8552210330963.\n",
      "0:  JasA very long book, but well worth the time. I bought the book over 20 years ago, and couldn't put it down. I love the series.\n"
     ]
    },
    {
     "name": "stderr",
     "output_type": "stream",
     "text": [
      "Setting `pad_token_id` to `eos_token_id`:50256 for open-end generation.\n"
     ]
    },
    {
     "name": "stdout",
     "output_type": "stream",
     "text": [
      "  Batch 4,300  of  5,832. Loss: 0.2651459872722626.   Elapsed: 757.093120098114.\n",
      "0:  permitI haven't finished it yet but just finished reading A Dance with Dragons.  My son enjoys it.\n"
     ]
    },
    {
     "name": "stderr",
     "output_type": "stream",
     "text": [
      "Setting `pad_token_id` to `eos_token_id`:50256 for open-end generation.\n"
     ]
    },
    {
     "name": "stdout",
     "output_type": "stream",
     "text": [
      "  Batch 4,400  of  5,832. Loss: 1.0844348669052124.   Elapsed: 775.3177065849304.\n",
      "0:  AdministratorFirst book, the second book is a bit dull and it really takes a long time to read.  Not really sure if I would get through each chapter.  It was hard to read it in this time period - the characters aren't much like my favorite characters, but the whole family is well developed.  This book started off with the characters not having their own lives like most of the others.  The book seemed to take forever as they only got to know each other at a later time.  The only character that I really liked at all was a lowly maid.  I really wish book five would have ended where book 4 started - the way some of the new characters are brought into the story, and that's not actually how it started off.  For example, Beth was the main character that got me so excited and interested in her first book - she really started to learn about life.  I wonder how she ended up here.  My only regret is that I couldn\n"
     ]
    },
    {
     "name": "stderr",
     "output_type": "stream",
     "text": [
      "Setting `pad_token_id` to `eos_token_id`:50256 for open-end generation.\n"
     ]
    },
    {
     "name": "stdout",
     "output_type": "stream",
     "text": [
      "  Batch 4,500  of  5,832. Loss: 2.4614710807800293.   Elapsed: 793.8530404567719.\n",
      "0:  EVENTSThis is a great book and it came with the condition of not being an invoice and I don't expect the seller to charge us for shipping (for example the invoice is from the seller rather than for shipping to an address).  It is the very best in the series, I have ordered more than 1,000 of these and many others and all of these are in excellent condition.\n",
      "\n",
      "It is definitely worth the money.\n"
     ]
    },
    {
     "name": "stderr",
     "output_type": "stream",
     "text": [
      "Setting `pad_token_id` to `eos_token_id`:50256 for open-end generation.\n"
     ]
    },
    {
     "name": "stdout",
     "output_type": "stream",
     "text": [
      "  Batch 4,600  of  5,832. Loss: 0.24958311021327972.   Elapsed: 812.5043396949768.\n",
      "0:  MentalAs always, the characters and characters were excellent, and I look forward to the next book in the series.  I loved this book immensely, but as usual, I just don't see the ending as satisfying as the previous book.\n"
     ]
    },
    {
     "name": "stderr",
     "output_type": "stream",
     "text": [
      "Setting `pad_token_id` to `eos_token_id`:50256 for open-end generation.\n"
     ]
    },
    {
     "name": "stdout",
     "output_type": "stream",
     "text": [
      "  Batch 4,700  of  5,832. Loss: 2.5463147163391113.   Elapsed: 830.7385537624359.\n",
      "0: idsGreat book but at times tedious.   It's only been three books, but I've read it once for more.\n"
     ]
    },
    {
     "name": "stderr",
     "output_type": "stream",
     "text": [
      "Setting `pad_token_id` to `eos_token_id`:50256 for open-end generation.\n"
     ]
    },
    {
     "name": "stdout",
     "output_type": "stream",
     "text": [
      "  Batch 4,800  of  5,832. Loss: 2.4746179580688477.   Elapsed: 849.6732957363129.\n",
      "0: ceansLove the whole series.\n"
     ]
    },
    {
     "name": "stderr",
     "output_type": "stream",
     "text": [
      "Setting `pad_token_id` to `eos_token_id`:50256 for open-end generation.\n"
     ]
    },
    {
     "name": "stdout",
     "output_type": "stream",
     "text": [
      "  Batch 4,900  of  5,832. Loss: 2.499020576477051.   Elapsed: 868.0137767791748.\n",
      "0:  geneticallyThis review, however, is for one copy of this book. It is a copy not included. The size is only a fraction of that required to read this edition. It is the same in size as the original edition.\n",
      "\n",
      "This book is full of great information and is a classic book to get. But the cover is too small, the font is a little thin and the print is not in the best shape of the text.\n",
      "\n",
      "I will buy from Amazon again.\n"
     ]
    },
    {
     "name": "stderr",
     "output_type": "stream",
     "text": [
      "Setting `pad_token_id` to `eos_token_id`:50256 for open-end generation.\n"
     ]
    },
    {
     "name": "stdout",
     "output_type": "stream",
     "text": [
      "  Batch 5,000  of  5,832. Loss: 2.541639566421509.   Elapsed: 886.1920511722565.\n",
      "0:  adviceThis book is a complete manual on the survival of plants, animals, and plants only to help those in need of it. It covers everything from camping in the wilderness to bushcraft, and everything in between. It also covers the basics of gathering edible plants, traps, and cooking and making fire/salt. It has everything from the edible plants on the market to poisonous plants. It is very comprehensive.\n"
     ]
    },
    {
     "name": "stderr",
     "output_type": "stream",
     "text": [
      "Setting `pad_token_id` to `eos_token_id`:50256 for open-end generation.\n"
     ]
    },
    {
     "name": "stdout",
     "output_type": "stream",
     "text": [
      "  Batch 5,100  of  5,832. Loss: 1.3991279602050781.   Elapsed: 904.43115401268.\n",
      "0:  incompleteExcellent book. It is a very informative way to explain a situation and how people are coping and how they react to situations.\n"
     ]
    },
    {
     "name": "stderr",
     "output_type": "stream",
     "text": [
      "Setting `pad_token_id` to `eos_token_id`:50256 for open-end generation.\n"
     ]
    },
    {
     "name": "stdout",
     "output_type": "stream",
     "text": [
      "  Batch 5,200  of  5,832. Loss: 0.6382827758789062.   Elapsed: 922.3705132007599.\n",
      "0: commentI have been a huge fan of \"The Chronicles of Narnia.\" The book, as described, is a retelling of the book by a non-English girl (actually a young girl, born a few hundred years after the Chronicles were published). The Chronicles of Narnia is one of the greatest works of historical fiction I have ever read. I am also rereading the first three books in \"Dance With Dragons.\"\n",
      "\n",
      "\"Dance With Dragons\" is, to me, not too dissapointing. The plot of this story falls apart, as most people do, and the main characters (the \"Little Women\") are not strong enough to survive to the fourth book, in which they meet a magical land where winter dwells forever, which is an alternative world with no gods and no dragons. Instead of taking the land as an alternate history from its origins in the past, the children of the land, along with the rest of the Narnians come to\n"
     ]
    },
    {
     "name": "stderr",
     "output_type": "stream",
     "text": [
      "Setting `pad_token_id` to `eos_token_id`:50256 for open-end generation.\n"
     ]
    },
    {
     "name": "stdout",
     "output_type": "stream",
     "text": [
      "  Batch 5,300  of  5,832. Loss: 0.3523886799812317.   Elapsed: 939.9260816574097.\n",
      "0:  pilotI wanted it all to go faster, more realistic and to show more of the characters.  The author is still really talented and his writing is in perfect condition.  The plot of this book was gripping and interesting.  I would be purchasing again to watch the tv show when I need something better than this one.\n"
     ]
    },
    {
     "name": "stderr",
     "output_type": "stream",
     "text": [
      "Setting `pad_token_id` to `eos_token_id`:50256 for open-end generation.\n"
     ]
    },
    {
     "name": "stdout",
     "output_type": "stream",
     "text": [
      "  Batch 5,400  of  5,832. Loss: 0.8292219638824463.   Elapsed: 958.1699600219727.\n",
      "0: gersGreat book to read after a long stay.\n"
     ]
    },
    {
     "name": "stderr",
     "output_type": "stream",
     "text": [
      "Setting `pad_token_id` to `eos_token_id`:50256 for open-end generation.\n"
     ]
    },
    {
     "name": "stdout",
     "output_type": "stream",
     "text": [
      "  Batch 5,500  of  5,832. Loss: 0.28252455592155457.   Elapsed: 976.8560271263123.\n",
      "0:  mutationI had to put this book down! If there is to be a movie about \"A Dance With Dragons\" I would think it would be a great time to buy it! Now I'm reading it all the time and it's like I just bought a pocket sized book. It was hard to put down!\n"
     ]
    },
    {
     "name": "stderr",
     "output_type": "stream",
     "text": [
      "Setting `pad_token_id` to `eos_token_id`:50256 for open-end generation.\n"
     ]
    },
    {
     "name": "stdout",
     "output_type": "stream",
     "text": [
      "  Batch 5,600  of  5,832. Loss: 0.458103209733963.   Elapsed: 995.7252531051636.\n",
      "0:  DriverThe book is worth your money in no way.  I was a bit disappointed at the first 4, but now this one does it for me.\n"
     ]
    },
    {
     "name": "stderr",
     "output_type": "stream",
     "text": [
      "Setting `pad_token_id` to `eos_token_id`:50256 for open-end generation.\n"
     ]
    },
    {
     "name": "stdout",
     "output_type": "stream",
     "text": [
      "  Batch 5,700  of  5,832. Loss: 1.4769293069839478.   Elapsed: 1014.4325067996979.\n",
      "0: itiThis is a fantastic book with great ideas and information.  Roy is absolutely a great reader and the illustrations are just breathtaking.\n"
     ]
    },
    {
     "name": "stderr",
     "output_type": "stream",
     "text": [
      "Setting `pad_token_id` to `eos_token_id`:50256 for open-end generation.\n"
     ]
    },
    {
     "name": "stdout",
     "output_type": "stream",
     "text": [
      "  Batch 5,800  of  5,832. Loss: 0.9512032866477966.   Elapsed: 1032.181794166565.\n",
      "0: fffThis is a great introduction. This is a novel that leaves you wanting more!\n",
      "\n",
      "  Average training loss: 1.13\n",
      "  Training epoch took: 1039.647360086441\n",
      "Running Validation...\n",
      "  Validation Loss: 1.14\n",
      "  Validation took: 1151.9490110874176\n",
      "======== Epoch 3 / 5 ========\n"
     ]
    },
    {
     "name": "stderr",
     "output_type": "stream",
     "text": [
      "Setting `pad_token_id` to `eos_token_id`:50256 for open-end generation.\n"
     ]
    },
    {
     "name": "stdout",
     "output_type": "stream",
     "text": [
      "  Batch   100  of  5,832. Loss: 1.4675483703613281.   Elapsed: 15.005195140838623.\n",
      "0: riminationI loved it!!\n"
     ]
    },
    {
     "name": "stderr",
     "output_type": "stream",
     "text": [
      "Setting `pad_token_id` to `eos_token_id`:50256 for open-end generation.\n"
     ]
    },
    {
     "name": "stdout",
     "output_type": "stream",
     "text": [
      "  Batch   200  of  5,832. Loss: 1.1132053136825562.   Elapsed: 32.33651065826416.\n",
      "0: aqueGreat book and I have enjoyed reading every single page.  I do need to learn all about the British military, the Queen, and the various factions within her organization.  This book helped me get through all the bad times for her.  I highly recommend this book to anyone who can read the military.\n"
     ]
    },
    {
     "name": "stderr",
     "output_type": "stream",
     "text": [
      "Setting `pad_token_id` to `eos_token_id`:50256 for open-end generation.\n"
     ]
    },
    {
     "name": "stdout",
     "output_type": "stream",
     "text": [
      "  Batch   300  of  5,832. Loss: 0.6165301203727722.   Elapsed: 49.870934009552.\n",
      "0: leeMy brother just found out that i made it to the end. My brother was so happy when i finished book #4... I am so happy the books were available from Amazon....\n"
     ]
    },
    {
     "name": "stderr",
     "output_type": "stream",
     "text": [
      "Setting `pad_token_id` to `eos_token_id`:50256 for open-end generation.\n"
     ]
    },
    {
     "name": "stdout",
     "output_type": "stream",
     "text": [
      "  Batch   400  of  5,832. Loss: 2.3796586990356445.   Elapsed: 67.65679430961609.\n",
      "0:  AlzheimerI think the one exception is the fact that this book (and all its sequel) were written with an abridged version of Wordsworth's The Lion, the Witch and the Wardrobe, the first published edition of which was \"The Lion, The Witch and the Wardrobe\", published by HarperCollins in 1995. This copy does the same thing, except that there is a change to the original Wordsworth's version that makes reading this far too confusing. In order to have the proper versions available for free, an individual can request a copy of this volume as well as buying a copy for himself or his family as gifts.  I encourage anyone who likes reading an original story to check out the original Wordsworth's copy.\n"
     ]
    },
    {
     "name": "stderr",
     "output_type": "stream",
     "text": [
      "Setting `pad_token_id` to `eos_token_id`:50256 for open-end generation.\n"
     ]
    },
    {
     "name": "stdout",
     "output_type": "stream",
     "text": [
      "  Batch   500  of  5,832. Loss: 0.8955605626106262.   Elapsed: 85.61524772644043.\n",
      "0:  checkingMy son loves the whole series and we have all come to appreciate the characters and the quality of the TV show. Very informative!\n"
     ]
    },
    {
     "name": "stderr",
     "output_type": "stream",
     "text": [
      "Setting `pad_token_id` to `eos_token_id`:50256 for open-end generation.\n"
     ]
    },
    {
     "name": "stdout",
     "output_type": "stream",
     "text": [
      "  Batch   600  of  5,832. Loss: 0.48215392231941223.   Elapsed: 104.0121557712555.\n",
      "0: nesiumThis is one of my favorite books!  The first 4 were very interesting and now I'm just dying to know what happens next.  Lots of suspense and intrigue, and more!  I can't wait for the next two in the series.\n"
     ]
    },
    {
     "name": "stderr",
     "output_type": "stream",
     "text": [
      "Setting `pad_token_id` to `eos_token_id`:50256 for open-end generation.\n"
     ]
    },
    {
     "name": "stdout",
     "output_type": "stream",
     "text": [
      "  Batch   700  of  5,832. Loss: 2.3412768840789795.   Elapsed: 122.75130128860474.\n",
      "0:  1957I have read a couple of books and this was the first one I read. I was impressed with the characterizations and the overall writing style, the characters, the story line and a few other important aspects that make the books such a pleasure to read. It's a classic.\n"
     ]
    },
    {
     "name": "stderr",
     "output_type": "stream",
     "text": [
      "Setting `pad_token_id` to `eos_token_id`:50256 for open-end generation.\n"
     ]
    },
    {
     "name": "stdout",
     "output_type": "stream",
     "text": [
      "  Batch   800  of  5,832. Loss: 2.07240891456604.   Elapsed: 141.0866413116455.\n",
      "0: manshipThis book is not great but it did do have some great things to say about the subject.  I would recommend it highly and will probably buy another one.  You don't really need to read this book and its a good buy for all time folks, so don't take anything wrong with it.\n"
     ]
    },
    {
     "name": "stderr",
     "output_type": "stream",
     "text": [
      "Setting `pad_token_id` to `eos_token_id`:50256 for open-end generation.\n"
     ]
    },
    {
     "name": "stdout",
     "output_type": "stream",
     "text": [
      "  Batch   900  of  5,832. Loss: 1.2312935590744019.   Elapsed: 159.45397210121155.\n",
      "0:  understandI have not read it myself but it is an engrossing account of my life. A very well read book. I recommend it.\n"
     ]
    },
    {
     "name": "stderr",
     "output_type": "stream",
     "text": [
      "Setting `pad_token_id` to `eos_token_id`:50256 for open-end generation.\n"
     ]
    },
    {
     "name": "stdout",
     "output_type": "stream",
     "text": [
      "  Batch 1,000  of  5,832. Loss: 1.1297190189361572.   Elapsed: 177.77682042121887.\n",
      "0:  passionThe Lion, the Witch and the Wardrobe is a magical world set in an alternate history in England.  The characters of the four young boys are sent to live with a professor who has decided to bring them to Europe.  They are told that their lives will not last forever, but only when they fight hard to become friends.  They must decide to make up their minds in a world beyond reach by traveling with other students and staying with a professor during a storm.  Soon the three young boys must turn to stone and begin to fight their way out.  A magical land filled with beasts, children, and curses.  The Witch, the son of a White Witch is an excellent character, but is not always the best.  There is also the magical battle with many wicked people, such as the evil witch and many strong men, that are not happy with the evil.  As always, there are surprises and lots of people who will love them for who they are. \n"
     ]
    },
    {
     "name": "stderr",
     "output_type": "stream",
     "text": [
      "Setting `pad_token_id` to `eos_token_id`:50256 for open-end generation.\n"
     ]
    },
    {
     "name": "stdout",
     "output_type": "stream",
     "text": [
      "  Batch 1,100  of  5,832. Loss: 0.4755416810512543.   Elapsed: 196.58237028121948.\n",
      "0:  curvedI can't stand the \"War and Peace\" books!  They are simply too graphic.  I will not buy them.\n"
     ]
    },
    {
     "name": "stderr",
     "output_type": "stream",
     "text": [
      "Setting `pad_token_id` to `eos_token_id`:50256 for open-end generation.\n"
     ]
    },
    {
     "name": "stdout",
     "output_type": "stream",
     "text": [
      "  Batch 1,200  of  5,832. Loss: 1.3309006690979004.   Elapsed: 214.54270696640015.\n",
      "0:  AnThe author seems to have forgotten many elements of survival, or his lack thereof.  There's a great deal of symbolism here, and the names sound familiar.  I was surprised at how well-explained the story and symbolism was in the  characters in the book.  I still feel a little cheated after reading it, but I think this story is  definitely worth read and enjoyed.\n"
     ]
    },
    {
     "name": "stderr",
     "output_type": "stream",
     "text": [
      "Setting `pad_token_id` to `eos_token_id`:50256 for open-end generation.\n"
     ]
    },
    {
     "name": "stdout",
     "output_type": "stream",
     "text": [
      "  Batch 1,300  of  5,832. Loss: 0.715949535369873.   Elapsed: 233.07306241989136.\n",
      "0: ottiThis book was great. I recommend it to everyone!\n"
     ]
    },
    {
     "name": "stderr",
     "output_type": "stream",
     "text": [
      "Setting `pad_token_id` to `eos_token_id`:50256 for open-end generation.\n"
     ]
    },
    {
     "name": "stdout",
     "output_type": "stream",
     "text": [
      "  Batch 1,400  of  5,832. Loss: 3.262826919555664.   Elapsed: 251.45998883247375.\n",
      "0:  intakeI love this series. My son enjoyed it\n"
     ]
    },
    {
     "name": "stderr",
     "output_type": "stream",
     "text": [
      "Setting `pad_token_id` to `eos_token_id`:50256 for open-end generation.\n"
     ]
    },
    {
     "name": "stdout",
     "output_type": "stream",
     "text": [
      "  Batch 1,500  of  5,832. Loss: 0.6341379284858704.   Elapsed: 270.6518874168396.\n",
      "0:  TsJust finished the fifth book in the Game of Thrones series. It's a great read as usual for me, not just because of the fantastic content of the books, but because I love the series. It's been said that this was by far the best book of the series. And I agree. I feel bad for those of you who are impatient readers, but I hope that HBO is not forced to turn it's back on for the series. I hope that the author is just a bit too big of a bastard for us readers, that he'll finish the series and that he will finally give us the satisfying ending. But for what it is worth, we're still left with no resolution in sight.\n"
     ]
    },
    {
     "name": "stderr",
     "output_type": "stream",
     "text": [
      "Setting `pad_token_id` to `eos_token_id`:50256 for open-end generation.\n"
     ]
    },
    {
     "name": "stdout",
     "output_type": "stream",
     "text": [
      "  Batch 1,600  of  5,832. Loss: 1.3146255016326904.   Elapsed: 288.09707283973694.\n",
      "0:  MainI can't wait to read the rest!\n"
     ]
    },
    {
     "name": "stderr",
     "output_type": "stream",
     "text": [
      "Setting `pad_token_id` to `eos_token_id`:50256 for open-end generation.\n"
     ]
    },
    {
     "name": "stdout",
     "output_type": "stream",
     "text": [
      "  Batch 1,700  of  5,832. Loss: 1.7869783639907837.   Elapsed: 306.0842134952545.\n",
      "0:  temGreat\n"
     ]
    },
    {
     "name": "stderr",
     "output_type": "stream",
     "text": [
      "Setting `pad_token_id` to `eos_token_id`:50256 for open-end generation.\n"
     ]
    },
    {
     "name": "stdout",
     "output_type": "stream",
     "text": [
      "  Batch 1,800  of  5,832. Loss: 1.1030305624008179.   Elapsed: 323.86707639694214.\n",
      "0:  ClickLove this classic\n"
     ]
    },
    {
     "name": "stderr",
     "output_type": "stream",
     "text": [
      "Setting `pad_token_id` to `eos_token_id`:50256 for open-end generation.\n"
     ]
    },
    {
     "name": "stdout",
     "output_type": "stream",
     "text": [
      "  Batch 1,900  of  5,832. Loss: 1.1204793453216553.   Elapsed: 341.6185746192932.\n",
      "0:  XVAll the plots are going nowhere. Martin's book will never get finished.  Some good twists and turns.  I am waiting to find out what happens next.  I am hoping to have this all solved by now.  My only regret is that it didn't.\n"
     ]
    },
    {
     "name": "stderr",
     "output_type": "stream",
     "text": [
      "Setting `pad_token_id` to `eos_token_id`:50256 for open-end generation.\n"
     ]
    },
    {
     "name": "stdout",
     "output_type": "stream",
     "text": [
      "  Batch 2,000  of  5,832. Loss: 1.9396326541900635.   Elapsed: 359.6312427520752.\n",
      "0:  dormA great read.  I read it before I moved to California but this one made me crazy.  Love it.\n"
     ]
    },
    {
     "name": "stderr",
     "output_type": "stream",
     "text": [
      "Setting `pad_token_id` to `eos_token_id`:50256 for open-end generation.\n"
     ]
    },
    {
     "name": "stdout",
     "output_type": "stream",
     "text": [
      "  Batch 2,100  of  5,832. Loss: 1.642745852470398.   Elapsed: 377.88358879089355.\n",
      "0:  upstreamI really enjoyed the Game of Thrones series. The writing is so great and the story is so beautiful. I could not put the book down!! Can not wait for book 6!!!!!\n"
     ]
    },
    {
     "name": "stderr",
     "output_type": "stream",
     "text": [
      "Setting `pad_token_id` to `eos_token_id`:50256 for open-end generation.\n"
     ]
    },
    {
     "name": "stdout",
     "output_type": "stream",
     "text": [
      "  Batch 2,200  of  5,832. Loss: 1.0871912240982056.   Elapsed: 396.25011134147644.\n",
      "0: الGreat series. Can't wait for #6! Looking forward to waiting for the next book!!\n"
     ]
    },
    {
     "name": "stderr",
     "output_type": "stream",
     "text": [
      "Setting `pad_token_id` to `eos_token_id`:50256 for open-end generation.\n"
     ]
    },
    {
     "name": "stdout",
     "output_type": "stream",
     "text": [
      "  Batch 2,300  of  5,832. Loss: 1.708967924118042.   Elapsed: 415.57801938056946.\n",
      "0: ariaThis is an interesting short story in the style of Tolkein. It follows the course of events leading up to the war, but with a unique perspective. A lot of symbolism is explained, and Tolkein is an excellent writer.\n"
     ]
    },
    {
     "name": "stderr",
     "output_type": "stream",
     "text": [
      "Setting `pad_token_id` to `eos_token_id`:50256 for open-end generation.\n"
     ]
    },
    {
     "name": "stdout",
     "output_type": "stream",
     "text": [
      "  Batch 2,400  of  5,832. Loss: 1.2326664924621582.   Elapsed: 435.00534987449646.\n",
      "0: PGMartin has created a rich but complex world with characters whose story is complex and often tragic but not necessarily epic. He is a true master of character development and a master of his ability to add something new to the story. I've loved this series since the first book, but having watched the movie, I've been eager to read more about the characters and settings. This book leaves you wanting more.\n"
     ]
    },
    {
     "name": "stderr",
     "output_type": "stream",
     "text": [
      "Setting `pad_token_id` to `eos_token_id`:50256 for open-end generation.\n"
     ]
    },
    {
     "name": "stdout",
     "output_type": "stream",
     "text": [
      "  Batch 2,500  of  5,832. Loss: 0.716050386428833.   Elapsed: 453.18181920051575.\n",
      "0: IllI can't wait until the next one and hope it doesn't take too long....\n"
     ]
    },
    {
     "name": "stderr",
     "output_type": "stream",
     "text": [
      "Setting `pad_token_id` to `eos_token_id`:50256 for open-end generation.\n"
     ]
    },
    {
     "name": "stdout",
     "output_type": "stream",
     "text": [
      "  Batch 2,600  of  5,832. Loss: 0.6977556943893433.   Elapsed: 471.0238196849823.\n",
      "0:  automatedThis book was better than the rest but there are some issues that I feel I should have read before I bought. It is too long and too thick.\n"
     ]
    },
    {
     "name": "stderr",
     "output_type": "stream",
     "text": [
      "Setting `pad_token_id` to `eos_token_id`:50256 for open-end generation.\n"
     ]
    },
    {
     "name": "stdout",
     "output_type": "stream",
     "text": [
      "  Batch 2,700  of  5,832. Loss: 0.9758646488189697.   Elapsed: 488.29934000968933.\n",
      "0:  hiringThe book is fantastic but the characters are very small. There are a few of them but they drag, drag, drag. It gets pretty boring as they are never really introduced.\n"
     ]
    },
    {
     "name": "stderr",
     "output_type": "stream",
     "text": [
      "Setting `pad_token_id` to `eos_token_id`:50256 for open-end generation.\n"
     ]
    },
    {
     "name": "stdout",
     "output_type": "stream",
     "text": [
      "  Batch 2,800  of  5,832. Loss: 1.5360318422317505.   Elapsed: 505.567364692688.\n",
      "0:  tweetingThis book started out slow.  It started out with a bunch of boring characters not in much of a running order or action.  Then the story picked up with more and more chapters about people being killed off, etc.  Then it picked up with more characters that are interesting to read and that get killed off.  Then it got more complicated and boring.\n",
      "\n",
      "I would recommend this book for the fantasy readers and fans of a good story line.  You just need to enjoy it to begin the series and learn the details.\n"
     ]
    },
    {
     "name": "stderr",
     "output_type": "stream",
     "text": [
      "Setting `pad_token_id` to `eos_token_id`:50256 for open-end generation.\n"
     ]
    },
    {
     "name": "stdout",
     "output_type": "stream",
     "text": [
      "  Batch 2,900  of  5,832. Loss: 0.8658061027526855.   Elapsed: 522.6307818889618.\n",
      "0: abitThe book is amazing!!!\n"
     ]
    },
    {
     "name": "stderr",
     "output_type": "stream",
     "text": [
      "Setting `pad_token_id` to `eos_token_id`:50256 for open-end generation.\n"
     ]
    },
    {
     "name": "stdout",
     "output_type": "stream",
     "text": [
      "  Batch 3,000  of  5,832. Loss: 1.5202968120574951.   Elapsed: 540.2813994884491.\n",
      "0:  iiThis book is a well read and in my opinion it is one of the finest works I have read in several years. I also highly recommend this book.  It is a gripping tale of four young women, their struggles against hard times, how the family experiences a big event in the process.  It's the perfect, emotional story to share with family and friends.\n"
     ]
    },
    {
     "name": "stderr",
     "output_type": "stream",
     "text": [
      "Setting `pad_token_id` to `eos_token_id`:50256 for open-end generation.\n"
     ]
    },
    {
     "name": "stdout",
     "output_type": "stream",
     "text": [
      "  Batch 3,100  of  5,832. Loss: 0.6252968907356262.   Elapsed: 557.1953966617584.\n",
      "0: clipIf you like the TV series, it is highly recommended.  I have read this book twice and  can only say that it is not \"real\".  The main characters are real.  Characters are believable.  I am sorry I have to give these books 5 stars.\n"
     ]
    },
    {
     "name": "stderr",
     "output_type": "stream",
     "text": [
      "Setting `pad_token_id` to `eos_token_id`:50256 for open-end generation.\n"
     ]
    },
    {
     "name": "stdout",
     "output_type": "stream",
     "text": [
      "  Batch 3,200  of  5,832. Loss: 0.5842456221580505.   Elapsed: 574.4853978157043.\n",
      "0:  FrancI enjoyed reading this book and the entire series by George R. R. Martin.  When you are reading a series with only one book published, you have probably heard enough about the first book already.  If only there were more books written by author.\n",
      "\n",
      "I've read so many books, I cannot wait until he completes each one.  And I hope you have all enjoyed it as much as I did.  I am sorry to say that no one has yet told me if I'm going to get them all.\n"
     ]
    },
    {
     "name": "stderr",
     "output_type": "stream",
     "text": [
      "Setting `pad_token_id` to `eos_token_id`:50256 for open-end generation.\n"
     ]
    },
    {
     "name": "stdout",
     "output_type": "stream",
     "text": [
      "  Batch 3,300  of  5,832. Loss: 0.25397008657455444.   Elapsed: 591.9413976669312.\n",
      "0:  listeningI have read the whole series once before this one.  It is the last in the series, so I am eagerly anticipating the release date of this one, but I felt like I had to slog through it to get to it.  I also felt like it would drag on for too long as Martin wrote about all the characters we meet - the ones that actually mattered, as we are introduced to a host of new (and unrelated) characters that he has introduced and have no interest in continuing to add to the story.  It just seemed like a chore to finish the book after all.\n"
     ]
    },
    {
     "name": "stderr",
     "output_type": "stream",
     "text": [
      "Setting `pad_token_id` to `eos_token_id`:50256 for open-end generation.\n"
     ]
    },
    {
     "name": "stdout",
     "output_type": "stream",
     "text": [
      "  Batch 3,400  of  5,832. Loss: 0.49480730295181274.   Elapsed: 609.6256449222565.\n",
      "0:  EUI thought I had seen the movie before, but it never occurred to me until I finished the books.  I am sorry I waited so long, and am so sorry that I waited so long on this one.  Martin always gets into the \"game\" of thrones.  I have been reading his books and watching the shows but have not seen anything from him in any way.  I do not understand why the author so eagerly awaited a book that was so great to read.  You can tell he is not afraid to leave you guessing.\n"
     ]
    },
    {
     "name": "stderr",
     "output_type": "stream",
     "text": [
      "Setting `pad_token_id` to `eos_token_id`:50256 for open-end generation.\n"
     ]
    },
    {
     "name": "stdout",
     "output_type": "stream",
     "text": [
      "  Batch 3,500  of  5,832. Loss: 0.9273051619529724.   Elapsed: 626.7326536178589.\n",
      "0:  incredibleThis is what he came up with. I think he is just fine.  I have enjoyed the first three books as well.  But, that is the point.  If you enjoy the first three books, you are going to want to go back and read the last three because you will want to go back to it after the last two books.\n",
      "\n",
      "You will be glad to read the last two books after this one and wish you weren't having to buy the hardback that the book has with it.  The books are good and the hardback is amazing.  The only book that I don't like about the series is Martin, as the author kept telling me all the time that this book was going to be so bad, but I didn't know he was telling the truth.  So if I have to read the hardback if the only book you like is Martin, go ahead and buy the book that has the hardback, and have him be your hero or\n"
     ]
    },
    {
     "name": "stderr",
     "output_type": "stream",
     "text": [
      "Setting `pad_token_id` to `eos_token_id`:50256 for open-end generation.\n"
     ]
    },
    {
     "name": "stdout",
     "output_type": "stream",
     "text": [
      "  Batch 3,600  of  5,832. Loss: 0.5857874751091003.   Elapsed: 643.1216549873352.\n",
      "0:  TYI have a collection of her books and they are not for everyone.  They can be good for a rainy day or just a book club for some people!  Also, I don't have the time to put this book down!\n"
     ]
    },
    {
     "name": "stderr",
     "output_type": "stream",
     "text": [
      "Setting `pad_token_id` to `eos_token_id`:50256 for open-end generation.\n"
     ]
    },
    {
     "name": "stdout",
     "output_type": "stream",
     "text": [
      "  Batch 3,700  of  5,832. Loss: 0.40570467710494995.   Elapsed: 659.5286540985107.\n",
      "0:  230It has been six years since I last read this book, and I think it's time I should start again. I started it on Kindle back in 2005, a year before the HBO series arrived. After reading the first three books in the series it was well worth it. The problem is that now, after having the last two books ordered, and having already completed my review, it's no longer easy to get there.\n",
      "\n",
      "This is where the problems start. It is very hard to review books in their current state. I do not know how many times I have to re-read a book, it's a tedious process, and the publishers can't keep all the characters straight from start to finish. It might not seem that complicated for some in the audience. But once you start to get to the point, all the good guys are either killed, and the plot simply implodes without any progress made or storylines can't hold together. This will not happen with the next book,\n"
     ]
    },
    {
     "name": "stderr",
     "output_type": "stream",
     "text": [
      "Setting `pad_token_id` to `eos_token_id`:50256 for open-end generation.\n"
     ]
    },
    {
     "name": "stdout",
     "output_type": "stream",
     "text": [
      "  Batch 3,800  of  5,832. Loss: 0.5237655639648438.   Elapsed: 676.4071688652039.\n",
      "0:  TigersAs others have stated, this installment of A Feast for Crows continues George R.R. Martin's epic storytelling style.  While sometimes frustrating, the first three books have been extremely enjoyable and filled with compelling action.  This fifth installment picks up right where we left off, with further twists and turns throughout the series, and is the first book we've seen in quite some time.  I can't comment about the quality of the overall quality of the book.  While we've seen glimpses of Martin's other books, I can't wait for Book 6 to be released.\n"
     ]
    },
    {
     "name": "stderr",
     "output_type": "stream",
     "text": [
      "Setting `pad_token_id` to `eos_token_id`:50256 for open-end generation.\n"
     ]
    },
    {
     "name": "stdout",
     "output_type": "stream",
     "text": [
      "  Batch 3,900  of  5,832. Loss: 0.4636645019054413.   Elapsed: 693.6466717720032.\n",
      "0: CDGood book\n"
     ]
    },
    {
     "name": "stderr",
     "output_type": "stream",
     "text": [
      "Setting `pad_token_id` to `eos_token_id`:50256 for open-end generation.\n"
     ]
    },
    {
     "name": "stdout",
     "output_type": "stream",
     "text": [
      "  Batch 4,000  of  5,832. Loss: 1.5590490102767944.   Elapsed: 710.8766841888428.\n",
      "0:  unbelievableGreat book.\n"
     ]
    },
    {
     "name": "stderr",
     "output_type": "stream",
     "text": [
      "Setting `pad_token_id` to `eos_token_id`:50256 for open-end generation.\n"
     ]
    },
    {
     "name": "stdout",
     "output_type": "stream",
     "text": [
      "  Batch 4,100  of  5,832. Loss: 1.4033443927764893.   Elapsed: 727.6939525604248.\n",
      "0: RobertThe book was a very well written story and you can sense some of the emotions that the characters were dealing with. The book could be divided into two parts. The first part describes the hardships that the characters face, and the second part discusses the main characters emotions. The only negative thing is, it is more for me and for those who read the series rather than the people that are reading them. The story is very well written and really makes you care about the main characters.\n"
     ]
    },
    {
     "name": "stderr",
     "output_type": "stream",
     "text": [
      "Setting `pad_token_id` to `eos_token_id`:50256 for open-end generation.\n"
     ]
    },
    {
     "name": "stdout",
     "output_type": "stream",
     "text": [
      "  Batch 4,200  of  5,832. Loss: 0.2903066873550415.   Elapsed: 745.0659651756287.\n",
      "0:  ContactGreat book, just got one more\n"
     ]
    },
    {
     "name": "stderr",
     "output_type": "stream",
     "text": [
      "Setting `pad_token_id` to `eos_token_id`:50256 for open-end generation.\n"
     ]
    },
    {
     "name": "stdout",
     "output_type": "stream",
     "text": [
      "  Batch 4,300  of  5,832. Loss: 0.09235619008541107.   Elapsed: 761.9199109077454.\n",
      "0:  fountainThe story is great. I found the writing to be a little weak, but then I was hooked. I hope there is a book out soon!\n"
     ]
    },
    {
     "name": "stderr",
     "output_type": "stream",
     "text": [
      "Setting `pad_token_id` to `eos_token_id`:50256 for open-end generation.\n"
     ]
    },
    {
     "name": "stdout",
     "output_type": "stream",
     "text": [
      "  Batch 4,400  of  5,832. Loss: 0.9648092985153198.   Elapsed: 778.9270305633545.\n",
      "0:  clashMy son is very fond of this book.  The stories are vivid.  He does not know much about India and only the people in India.  The characters are charming, wise, etc.  This is my second favorite book of all time, so much so that I'm really enjoying this book!\n"
     ]
    },
    {
     "name": "stderr",
     "output_type": "stream",
     "text": [
      "Setting `pad_token_id` to `eos_token_id`:50256 for open-end generation.\n"
     ]
    },
    {
     "name": "stdout",
     "output_type": "stream",
     "text": [
      "  Batch 4,500  of  5,832. Loss: 1.2226886749267578.   Elapsed: 796.0498712062836.\n",
      "0:  commodI am still reading the books and they hold so much importance. I do enjoy reading the series so much. I think the characters are truly unique. They are so realistic, just as any other person could be!\n"
     ]
    },
    {
     "name": "stderr",
     "output_type": "stream",
     "text": [
      "Setting `pad_token_id` to `eos_token_id`:50256 for open-end generation.\n"
     ]
    },
    {
     "name": "stdout",
     "output_type": "stream",
     "text": [
      "  Batch 4,600  of  5,832. Loss: 0.7648426294326782.   Elapsed: 813.5438680648804.\n",
      "0:  algorithmOne of my favorite novels and a MUST for any kid. It is the type of story that I want to read as an adult. It's a wonderful story about morals, power, kindness, and family. It is about the evils of the mother of the young girl. I loved it because, well, she's pretty much always the bad one. When I first read this book, I thought I had seen the movie version. When I got the book, I thought it was okay. I was actually disappointed. I thought the book was a mess because I read it with my own eyes. This book, I thought was a real mess. I felt like I just wasn't paying attention. This is one of those books that just can't get by. It's like I'm on a diet for some time. But the book went on and on and on and on until all the loose ends come together. I hope that book 4 is as good or better.\n"
     ]
    },
    {
     "name": "stderr",
     "output_type": "stream",
     "text": [
      "Setting `pad_token_id` to `eos_token_id`:50256 for open-end generation.\n"
     ]
    },
    {
     "name": "stdout",
     "output_type": "stream",
     "text": [
      "  Batch 4,700  of  5,832. Loss: 0.49380555748939514.   Elapsed: 830.3378796577454.\n",
      "0:  accurateOne of the most wonderful books I ever read.  This book is absolutely awesome!  The story is vivid and it is truly a family story, which can be overwhelming.  There is a lot going on in this family and every page is exciting.  It has a very rich background of characters and family that helps to understand the meaning of words, and the ending was worth it.  The ending was really interesting and I believe it helped me to come to understand the real meaning of these words that have influenced my own lives.\n"
     ]
    },
    {
     "name": "stderr",
     "output_type": "stream",
     "text": [
      "Setting `pad_token_id` to `eos_token_id`:50256 for open-end generation.\n"
     ]
    },
    {
     "name": "stdout",
     "output_type": "stream",
     "text": [
      "  Batch 4,800  of  5,832. Loss: 1.6221317052841187.   Elapsed: 846.7138781547546.\n",
      "0: adoA great survival guide.  Great story and illustrations and it is easy to follow, is easy to read and has much info on every aspect of life.  Great guide for just about anything. I read it several times before getting into camping and camping. My wife likes it and I think it's a good value item, not the only survivalist guide available.\n"
     ]
    },
    {
     "name": "stderr",
     "output_type": "stream",
     "text": [
      "Setting `pad_token_id` to `eos_token_id`:50256 for open-end generation.\n"
     ]
    },
    {
     "name": "stdout",
     "output_type": "stream",
     "text": [
      "  Batch 4,900  of  5,832. Loss: 0.09503642469644547.   Elapsed: 863.0998792648315.\n",
      "0:  regulateBook was great, but I thought there was a lot left unresolved in a lot of places.  I can't wait to get the next one, it's one of my favorite books of the 20th century.\n"
     ]
    },
    {
     "name": "stderr",
     "output_type": "stream",
     "text": [
      "Setting `pad_token_id` to `eos_token_id`:50256 for open-end generation.\n"
     ]
    },
    {
     "name": "stdout",
     "output_type": "stream",
     "text": [
      "  Batch 5,000  of  5,832. Loss: 1.2822632789611816.   Elapsed: 879.4998800754547.\n",
      "0: ewaygreat book about a woman's struggle with success. I will buy the next book.\n"
     ]
    },
    {
     "name": "stderr",
     "output_type": "stream",
     "text": [
      "Setting `pad_token_id` to `eos_token_id`:50256 for open-end generation.\n"
     ]
    },
    {
     "name": "stdout",
     "output_type": "stream",
     "text": [
      "  Batch 5,100  of  5,832. Loss: 0.5842598080635071.   Elapsed: 895.9768779277802.\n",
      "0: itteeGreat read, has more knowledge than most books you could ever need. The stories are good and full of ideas. The books are interesting from a young age and you get to experience the people and environments and stories in the world in a way you wouldn't normally be able to. This book is like a travelogue with lots of information. Great information from the author.\n"
     ]
    },
    {
     "name": "stderr",
     "output_type": "stream",
     "text": [
      "Setting `pad_token_id` to `eos_token_id`:50256 for open-end generation.\n"
     ]
    },
    {
     "name": "stdout",
     "output_type": "stream",
     "text": [
      "  Batch 5,200  of  5,832. Loss: 1.5680458545684814.   Elapsed: 912.3128786087036.\n",
      "0:  JackieThe writer had a great grasp of Indian culture with his 'Sithic' tales.  The book is full of beautiful tales of a girl who is found in a deserted district.  Her life was not without adventure and she was very intelligent and adventurous.  The book contains a wealth of useful information about life in India in the late 1800's.\n"
     ]
    },
    {
     "name": "stderr",
     "output_type": "stream",
     "text": [
      "Setting `pad_token_id` to `eos_token_id`:50256 for open-end generation.\n"
     ]
    },
    {
     "name": "stdout",
     "output_type": "stream",
     "text": [
      "  Batch 5,300  of  5,832. Loss: 2.2659475803375244.   Elapsed: 928.6868779659271.\n",
      "0: HeGreat book and I would like to read the others.  I'm reading them all together because I feel like a great read\n"
     ]
    },
    {
     "name": "stderr",
     "output_type": "stream",
     "text": [
      "Setting `pad_token_id` to `eos_token_id`:50256 for open-end generation.\n"
     ]
    },
    {
     "name": "stdout",
     "output_type": "stream",
     "text": [
      "  Batch 5,400  of  5,832. Loss: 0.5486178994178772.   Elapsed: 945.0718791484833.\n",
      "0:  wiredI love this book.  I know there are certain people in there, like me, who would hate this book, but I don't even really see how it compares to the 4 book series.\n"
     ]
    },
    {
     "name": "stderr",
     "output_type": "stream",
     "text": [
      "Setting `pad_token_id` to `eos_token_id`:50256 for open-end generation.\n"
     ]
    },
    {
     "name": "stdout",
     "output_type": "stream",
     "text": [
      "  Batch 5,500  of  5,832. Loss: 1.650956392288208.   Elapsed: 961.5158805847168.\n",
      "0:  frequThis is not the book for anybody who likes action/adventure/survival. I read this book mainly as a \"backpacker.\"  I bought it for myself and a friend to carry with us when we travelled to places.  I can say this book is very easy to read.  Most people would like to read a book by a young adult.  I recommend this book for anyone who loves survival and adventure!\n"
     ]
    },
    {
     "name": "stderr",
     "output_type": "stream",
     "text": [
      "Setting `pad_token_id` to `eos_token_id`:50256 for open-end generation.\n"
     ]
    },
    {
     "name": "stdout",
     "output_type": "stream",
     "text": [
      "  Batch 5,600  of  5,832. Loss: 1.1612622737884521.   Elapsed: 977.8128788471222.\n",
      "0:  viewsI thoroughly enjoyed it but had to put it down...it seems like there is too much description of plants, animals and the time period.\n"
     ]
    },
    {
     "name": "stderr",
     "output_type": "stream",
     "text": [
      "Setting `pad_token_id` to `eos_token_id`:50256 for open-end generation.\n"
     ]
    },
    {
     "name": "stdout",
     "output_type": "stream",
     "text": [
      "  Batch 5,700  of  5,832. Loss: 1.1800870895385742.   Elapsed: 994.1878786087036.\n",
      "0:  StrategyI was very pleased when I found this book available at Amazon.com. Now I'm not very satisfied with it. My favourite character and the one most hated is a lion. The story is long but very funny. I really liked how the Lion saw his family during his adventures. Very good reading\n"
     ]
    },
    {
     "name": "stderr",
     "output_type": "stream",
     "text": [
      "Setting `pad_token_id` to `eos_token_id`:50256 for open-end generation.\n"
     ]
    },
    {
     "name": "stdout",
     "output_type": "stream",
     "text": [
      "  Batch 5,800  of  5,832. Loss: 2.122898817062378.   Elapsed: 1010.5639657974243.\n",
      "0:  radioAs a \"Game of Thrones\" fan, it's hard to argue with how much hype this novel could have received. I was looking for something to cheer me up for the HBO series (which I am anxiously awaiting), and this was not it. A little slow going at times, but overall a satisfying read.\n",
      "\n",
      "  Average training loss: 1.06\n",
      "  Training epoch took: 1017.3809652328491\n",
      "Running Validation...\n",
      "  Validation Loss: 1.14\n",
      "  Validation took: 1118.9429655075073\n",
      "======== Epoch 4 / 5 ========\n"
     ]
    },
    {
     "name": "stderr",
     "output_type": "stream",
     "text": [
      "Setting `pad_token_id` to `eos_token_id`:50256 for open-end generation.\n"
     ]
    },
    {
     "name": "stdout",
     "output_type": "stream",
     "text": [
      "  Batch   100  of  5,832. Loss: 0.21624237298965454.   Elapsed: 14.001001358032227.\n",
      "0: oultI did not like it.\n"
     ]
    },
    {
     "name": "stderr",
     "output_type": "stream",
     "text": [
      "Setting `pad_token_id` to `eos_token_id`:50256 for open-end generation.\n"
     ]
    },
    {
     "name": "stdout",
     "output_type": "stream",
     "text": [
      "  Batch   200  of  5,832. Loss: 1.3930588960647583.   Elapsed: 30.395999908447266.\n",
      "0:  ReinIt's just so much better! I like the author so much, but I really have to admit that sometimes I am kind of scared for the series to end. You need to start with book six!\n"
     ]
    },
    {
     "name": "stderr",
     "output_type": "stream",
     "text": [
      "Setting `pad_token_id` to `eos_token_id`:50256 for open-end generation.\n"
     ]
    },
    {
     "name": "stdout",
     "output_type": "stream",
     "text": [
      "  Batch   300  of  5,832. Loss: 1.2100141048431396.   Elapsed: 46.781002044677734.\n",
      "0:  procNot all dragons appear to be equal.\n"
     ]
    },
    {
     "name": "stderr",
     "output_type": "stream",
     "text": [
      "Setting `pad_token_id` to `eos_token_id`:50256 for open-end generation.\n"
     ]
    },
    {
     "name": "stdout",
     "output_type": "stream",
     "text": [
      "  Batch   400  of  5,832. Loss: 1.0993491411209106.   Elapsed: 63.2190043926239.\n",
      "0:  abusesThis book is great because it covers a lot of territory and it covers so many different areas.  I love the size of it and it's pocket size so you can be a little less easily with this book.\n"
     ]
    },
    {
     "name": "stderr",
     "output_type": "stream",
     "text": [
      "Setting `pad_token_id` to `eos_token_id`:50256 for open-end generation.\n"
     ]
    },
    {
     "name": "stdout",
     "output_type": "stream",
     "text": [
      "  Batch   500  of  5,832. Loss: 1.6439772844314575.   Elapsed: 79.56999969482422.\n",
      "0:  waBook four had a ton of characters but book five left me cold. It's a shame that there isn't more in store for us. The characters are still interesting and still have some of the core elements of the first three books which is really satisfying. Still, I have to ask, is there an explanation for the ending?  If there is, how can the author explain it?  Did he just decide on a new character and left the reader hanging???  I think he knew he was going to make his way through book four but ended up with nothing. I'm sorry.\n"
     ]
    },
    {
     "name": "stderr",
     "output_type": "stream",
     "text": [
      "Setting `pad_token_id` to `eos_token_id`:50256 for open-end generation.\n"
     ]
    },
    {
     "name": "stdout",
     "output_type": "stream",
     "text": [
      "  Batch   600  of  5,832. Loss: 1.1425600051879883.   Elapsed: 95.89200210571289.\n",
      "0: lectedThe title is a bit misleading, but it is not the way I expected.\n",
      "This is not one of Agatha's best books. I am still shocked that we have just seen another of her most infamous characters, but this is far from my least favorite of her novels. I hope she is following the same pattern as her first three books - not so much the romance/sadism, but the fact that she has too much soap opera at her disposal to keep going.\n",
      "I think it is a good idea to follow the books. I enjoyed each one in it's own right, I did not get too attached to one character and found that each book was worth the read.\n",
      "My least favorite characters of the series are Tyrion, Cersei, and Jamie Lannister. I also think that there is a very low point of the series in that Jaime's character development is way off.\n",
      "The final two books don't really feature Martin's main characters, mostly Sansa\n"
     ]
    },
    {
     "name": "stderr",
     "output_type": "stream",
     "text": [
      "Setting `pad_token_id` to `eos_token_id`:50256 for open-end generation.\n"
     ]
    },
    {
     "name": "stdout",
     "output_type": "stream",
     "text": [
      "  Batch   700  of  5,832. Loss: 1.2965189218521118.   Elapsed: 112.24099731445312.\n",
      "0:  templeI love the writing of this book. The story continues, and the twists are surprising and unexpected. The book is very well drawn, and I am looking forward to the next book.\n"
     ]
    },
    {
     "name": "stderr",
     "output_type": "stream",
     "text": [
      "Setting `pad_token_id` to `eos_token_id`:50256 for open-end generation.\n"
     ]
    },
    {
     "name": "stdout",
     "output_type": "stream",
     "text": [
      "  Batch   800  of  5,832. Loss: 1.4289097785949707.   Elapsed: 128.60499691963196.\n",
      "0:  lodThis is a really great book.  The first few chapters are really exciting.  The only bad part is that I found the last chapter to be boring and not good enough to warrant another.\n"
     ]
    },
    {
     "name": "stderr",
     "output_type": "stream",
     "text": [
      "Setting `pad_token_id` to `eos_token_id`:50256 for open-end generation.\n"
     ]
    },
    {
     "name": "stdout",
     "output_type": "stream",
     "text": [
      "  Batch   900  of  5,832. Loss: 0.6896936297416687.   Elapsed: 145.02999687194824.\n",
      "0:  RioLove this. If only I could force myself to read it! My kids enjoy reading it for a few hours each day.\n"
     ]
    },
    {
     "name": "stderr",
     "output_type": "stream",
     "text": [
      "Setting `pad_token_id` to `eos_token_id`:50256 for open-end generation.\n"
     ]
    },
    {
     "name": "stdout",
     "output_type": "stream",
     "text": [
      "  Batch 1,000  of  5,832. Loss: 0.50318443775177.   Elapsed: 161.3271038532257.\n",
      "0:  PenceThe God of Small Things is by far one of my favorite childrens' literature.  Even if you don't like fantasy, you'll enjoy this book anyway.\n"
     ]
    },
    {
     "name": "stderr",
     "output_type": "stream",
     "text": [
      "Setting `pad_token_id` to `eos_token_id`:50256 for open-end generation.\n"
     ]
    },
    {
     "name": "stdout",
     "output_type": "stream",
     "text": [
      "  Batch 1,100  of  5,832. Loss: 1.2204760313034058.   Elapsed: 177.648104429245.\n",
      "0:  StevenIt was an outstanding work of literature with great character development and a great plot.  A hardcover copy of this work was the same size as a hardcover.  There are plenty of small, medium, and big illustrations in the book.  This was my first reading of this masterpiece, especially since I've spent so much time in England in the past few years.  The author uses the English language well, which makes for a wonderfully believable world and world of its own.  I'm really looking forward to future editions of the Chronicles.\n"
     ]
    },
    {
     "name": "stderr",
     "output_type": "stream",
     "text": [
      "Setting `pad_token_id` to `eos_token_id`:50256 for open-end generation.\n"
     ]
    },
    {
     "name": "stdout",
     "output_type": "stream",
     "text": [
      "  Batch 1,200  of  5,832. Loss: 1.2339892387390137.   Elapsed: 194.0301148891449.\n",
      "0:  discourseThis is the first book I have read about this man's incredible accomplishment.  I believe that his name was Gerald Durrell, born\n"
     ]
    },
    {
     "name": "stderr",
     "output_type": "stream",
     "text": [
      "Setting `pad_token_id` to `eos_token_id`:50256 for open-end generation.\n"
     ]
    },
    {
     "name": "stdout",
     "output_type": "stream",
     "text": [
      "  Batch 1,300  of  5,832. Loss: 0.8500158786773682.   Elapsed: 210.45011281967163.\n",
      "0:  accessoryA great read.  I would recommend this one to anyone who likes to read poetry.  It has great illustrations so you can be sure to see if you need some clarity.\n"
     ]
    },
    {
     "name": "stderr",
     "output_type": "stream",
     "text": [
      "Setting `pad_token_id` to `eos_token_id`:50256 for open-end generation.\n"
     ]
    },
    {
     "name": "stdout",
     "output_type": "stream",
     "text": [
      "  Batch 1,400  of  5,832. Loss: 0.04470514506101608.   Elapsed: 226.80511283874512.\n",
      "0: ulI have always loved this book.  It is very well written and the story and characters are very well crafted and you are left wanting more.\n"
     ]
    },
    {
     "name": "stderr",
     "output_type": "stream",
     "text": [
      "Setting `pad_token_id` to `eos_token_id`:50256 for open-end generation.\n"
     ]
    },
    {
     "name": "stdout",
     "output_type": "stream",
     "text": [
      "  Batch 1,500  of  5,832. Loss: 1.265068531036377.   Elapsed: 243.120112657547.\n",
      "0:  slidingWell written, very good.\n"
     ]
    },
    {
     "name": "stderr",
     "output_type": "stream",
     "text": [
      "Setting `pad_token_id` to `eos_token_id`:50256 for open-end generation.\n"
     ]
    },
    {
     "name": "stdout",
     "output_type": "stream",
     "text": [
      "  Batch 1,600  of  5,832. Loss: 0.563681423664093.   Elapsed: 259.47511529922485.\n",
      "0:  DellBeautiful and easy to read.\n"
     ]
    },
    {
     "name": "stderr",
     "output_type": "stream",
     "text": [
      "Setting `pad_token_id` to `eos_token_id`:50256 for open-end generation.\n"
     ]
    },
    {
     "name": "stdout",
     "output_type": "stream",
     "text": [
      "  Batch 1,700  of  5,832. Loss: 1.0681182146072388.   Elapsed: 275.82011246681213.\n",
      "0: iusI purchased this book not knowing it was coming from the same seller, but from a different author in India who told me that this book was more authentic.\n",
      "\n",
      "It's not even the story of the events portrayed in the movie. This book deals with the Indian political turmoil from the beginning of the 19th century. This story is a page turner.\n",
      "\n",
      "I recommend this book because of the way it deals with the Indian Communist Party and its relationship with Gandhi who was assassinated in 1960 and continues to be a key player in the politics. I hope I will buy more of his works in the future.\n"
     ]
    },
    {
     "name": "stderr",
     "output_type": "stream",
     "text": [
      "Setting `pad_token_id` to `eos_token_id`:50256 for open-end generation.\n"
     ]
    },
    {
     "name": "stdout",
     "output_type": "stream",
     "text": [
      "  Batch 1,800  of  5,832. Loss: 1.2179819345474243.   Elapsed: 292.2331295013428.\n",
      "0: sidedAs described - with plenty of research and illustrations. For the price and the information that is included in the price, I'm happy to add it to my shopping list.\n"
     ]
    },
    {
     "name": "stderr",
     "output_type": "stream",
     "text": [
      "Setting `pad_token_id` to `eos_token_id`:50256 for open-end generation.\n"
     ]
    },
    {
     "name": "stdout",
     "output_type": "stream",
     "text": [
      "  Batch 1,900  of  5,832. Loss: 2.0322654247283936.   Elapsed: 308.55512619018555.\n",
      "0:  WPI could not put this book down,  I had read all of it before.  As one of my very friends said, \"the author really gets the point across.\"  That said, the  style itself is a little too simplistic and not in the same league with the other books in the series as it could be.  I do not mind reading a story with names  that are more like  \"The Lion, the Witch, and the Wardrobe\" or \"The Hobbit: The Magician's Nephew,  but there is not much of that in this one.  I am looking for a 5 star rating.\n"
     ]
    },
    {
     "name": "stderr",
     "output_type": "stream",
     "text": [
      "Setting `pad_token_id` to `eos_token_id`:50256 for open-end generation.\n"
     ]
    },
    {
     "name": "stdout",
     "output_type": "stream",
     "text": [
      "  Batch 2,000  of  5,832. Loss: 1.5751745700836182.   Elapsed: 324.92812728881836.\n",
      "0:  exertI love the series! Can't wait for the next!\n"
     ]
    },
    {
     "name": "stderr",
     "output_type": "stream",
     "text": [
      "Setting `pad_token_id` to `eos_token_id`:50256 for open-end generation.\n"
     ]
    },
    {
     "name": "stdout",
     "output_type": "stream",
     "text": [
      "  Batch 2,100  of  5,832. Loss: 0.9799208641052246.   Elapsed: 341.28113055229187.\n",
      "0: inianThis is a wonderful book... It has lots of useful information in it, and a very nice descriptive and entertaining writing style.  It also has many pictures on everything from traps to plants to trees to poisonous plants to plants to poisonous plants to edible plants.  I couldn't  get past the first 4 books and it was difficult to read.  I enjoyed it  immensely.  I will try another book in the series.\n"
     ]
    },
    {
     "name": "stderr",
     "output_type": "stream",
     "text": [
      "Setting `pad_token_id` to `eos_token_id`:50256 for open-end generation.\n"
     ]
    },
    {
     "name": "stdout",
     "output_type": "stream",
     "text": [
      "  Batch 2,200  of  5,832. Loss: 0.8060542941093445.   Elapsed: 357.632128238678.\n",
      "0:  electricityI was impressed with the new condition of the story line and the characters.\n"
     ]
    },
    {
     "name": "stderr",
     "output_type": "stream",
     "text": [
      "Setting `pad_token_id` to `eos_token_id`:50256 for open-end generation.\n"
     ]
    },
    {
     "name": "stdout",
     "output_type": "stream",
     "text": [
      "  Batch 2,300  of  5,832. Loss: 0.2737131714820862.   Elapsed: 374.0031294822693.\n",
      "0:  AviationI don't think I'll be reading this in the future, because I'm tired of waiting years for it to come out.  If there isn't another book by Hakeswill that follows that, I'm lost!\n",
      "  This book does everything, but it takes a long time to get there!  I am so glad I skipped it.  When I saw this, I knew I would have to stop reading it.  But, hey, it's a great, if sometimes tedious read.\n"
     ]
    },
    {
     "name": "stderr",
     "output_type": "stream",
     "text": [
      "Setting `pad_token_id` to `eos_token_id`:50256 for open-end generation.\n"
     ]
    },
    {
     "name": "stdout",
     "output_type": "stream",
     "text": [
      "  Batch 2,400  of  5,832. Loss: 0.3684957027435303.   Elapsed: 390.29812717437744.\n",
      "0:  encodingI like this book.  I recommend it to everyone.  A great introduction to the story and a good introduction to the characters.  I bought this for my son who is reading his first book.\n"
     ]
    },
    {
     "name": "stderr",
     "output_type": "stream",
     "text": [
      "Setting `pad_token_id` to `eos_token_id`:50256 for open-end generation.\n"
     ]
    },
    {
     "name": "stdout",
     "output_type": "stream",
     "text": [
      "  Batch 2,500  of  5,832. Loss: 0.6746243834495544.   Elapsed: 406.61313033103943.\n",
      "0: fitIn a series of short stories that make up the overall Saga of Narnia, author A. T. Ross creates a reader who is immersed and mesmerized with his characters.  A story that can stand in the middle and be enjoyed as an independent work and one that will take you to an enchanted world and hold you hostage.\n",
      "\n",
      "When it's over, what you care about and what you want are the main characters.  So the reader is guided into many different viewpoints and viewpoints and into a world that allows him to take you into his world and not just another book of the same character.\n",
      "\n",
      "The characters are so well presented that when you realize you're getting something you didn't even imagine coming.  The story doesn't have a point.  The world of Narnia is not set in stone, although the author believes it is.  I have yet to have a single reader experience that was this engaging and enthralling.\n",
      "\n",
      "A great read,\n"
     ]
    },
    {
     "name": "stderr",
     "output_type": "stream",
     "text": [
      "Setting `pad_token_id` to `eos_token_id`:50256 for open-end generation.\n"
     ]
    },
    {
     "name": "stdout",
     "output_type": "stream",
     "text": [
      "  Batch 2,600  of  5,832. Loss: 0.40994903445243835.   Elapsed: 422.95512795448303.\n",
      "0:  wifeGreat book\n"
     ]
    },
    {
     "name": "stderr",
     "output_type": "stream",
     "text": [
      "Setting `pad_token_id` to `eos_token_id`:50256 for open-end generation.\n"
     ]
    },
    {
     "name": "stdout",
     "output_type": "stream",
     "text": [
      "  Batch 2,700  of  5,832. Loss: 0.9621200561523438.   Elapsed: 439.32412910461426.\n",
      "0: ileyI was very disappointed.  I had already read two of the Sharpe books that preceded this novel.  I was disappointed with the whole set up and I am looking forward to the next book.\n"
     ]
    },
    {
     "name": "stderr",
     "output_type": "stream",
     "text": [
      "Setting `pad_token_id` to `eos_token_id`:50256 for open-end generation.\n"
     ]
    },
    {
     "name": "stdout",
     "output_type": "stream",
     "text": [
      "  Batch 2,800  of  5,832. Loss: 0.34848806262016296.   Elapsed: 455.72112679481506.\n",
      "0: stageThis was a good read, it is very easy to read in the first 2 or 3 pages and then after about 3rd through it you can pick up some pages and read the final chapter. I read this because it had to.  There were times where the author used a word or phrase that I didn't remember correctly when reading it.  Sometimes you would think that if you read a sentence you would hear it first, or if the text was a paragraph long you would read that sentence first.  I found it very funny and a funny part of life when reading this book. I found the lines to be very similar to those of the original book.\n"
     ]
    },
    {
     "name": "stderr",
     "output_type": "stream",
     "text": [
      "Setting `pad_token_id` to `eos_token_id`:50256 for open-end generation.\n"
     ]
    },
    {
     "name": "stdout",
     "output_type": "stream",
     "text": [
      "  Batch 2,900  of  5,832. Loss: 0.6864762306213379.   Elapsed: 472.0291368961334.\n",
      "0: hatGood book...not that small.\n"
     ]
    },
    {
     "name": "stderr",
     "output_type": "stream",
     "text": [
      "Setting `pad_token_id` to `eos_token_id`:50256 for open-end generation.\n"
     ]
    },
    {
     "name": "stdout",
     "output_type": "stream",
     "text": [
      "  Batch 3,000  of  5,832. Loss: 0.7474047541618347.   Elapsed: 488.3361372947693.\n",
      "0: RichI will not get into the book and will say that the 4th was in terrible shape.  Not my cup of tea! I will say I was able to finish the 4th and was extremely satisfied with the product.  The 2nd and 3rd book were terrible but in all they were good.  I recommend to anyone who likes to read fast books with great plots and great character development.\n"
     ]
    },
    {
     "name": "stderr",
     "output_type": "stream",
     "text": [
      "Setting `pad_token_id` to `eos_token_id`:50256 for open-end generation.\n"
     ]
    },
    {
     "name": "stdout",
     "output_type": "stream",
     "text": [
      "  Batch 3,100  of  5,832. Loss: 0.904924213886261.   Elapsed: 504.6891369819641.\n",
      "0: �What a wonderful thing to read about a family that was once great.  My daughter has been reading through the book and is amazed at how many things she finds about the characters of the past.  My husband loves the story and his family is very pleased with it.\n"
     ]
    },
    {
     "name": "stderr",
     "output_type": "stream",
     "text": [
      "Setting `pad_token_id` to `eos_token_id`:50256 for open-end generation.\n"
     ]
    },
    {
     "name": "stdout",
     "output_type": "stream",
     "text": [
      "  Batch 3,200  of  5,832. Loss: 1.7812966108322144.   Elapsed: 521.1981365680695.\n",
      "0:  pretendingA book that we all know and love.  Can't wait for the next one!  Will the story line continue its own path?\n"
     ]
    },
    {
     "name": "stderr",
     "output_type": "stream",
     "text": [
      "Setting `pad_token_id` to `eos_token_id`:50256 for open-end generation.\n"
     ]
    },
    {
     "name": "stdout",
     "output_type": "stream",
     "text": [
      "  Batch 3,300  of  5,832. Loss: 0.8458500504493713.   Elapsed: 537.5591361522675.\n",
      "0:  PCBA very clever, and wonderful series.  It's also an amazing read.  It's a pleasure to revisit my favorites, and to read a truly epic story of the world that can never be explained or described.\n"
     ]
    },
    {
     "name": "stderr",
     "output_type": "stream",
     "text": [
      "Setting `pad_token_id` to `eos_token_id`:50256 for open-end generation.\n"
     ]
    },
    {
     "name": "stdout",
     "output_type": "stream",
     "text": [
      "  Batch 3,400  of  5,832. Loss: 1.343839406967163.   Elapsed: 553.9002318382263.\n",
      "0:  retrospectMartin is one of my favorite writers and he does a good job. He seems to be on the verge of doing a very good job of telling all the twists and turns. I don't see much point with this particular book as the author has killed off all the main characters. I don't know if Martin will take any creative pleasure in this particular series because I don't know when the next one will come out. I'm looking forward to book 6.\n"
     ]
    },
    {
     "name": "stderr",
     "output_type": "stream",
     "text": [
      "Setting `pad_token_id` to `eos_token_id`:50256 for open-end generation.\n"
     ]
    },
    {
     "name": "stdout",
     "output_type": "stream",
     "text": [
      "  Batch 3,500  of  5,832. Loss: 0.8681243658065796.   Elapsed: 570.2622313499451.\n",
      "0:  plainGreat Book for Bikers and Bikers with lots of info\n"
     ]
    },
    {
     "name": "stderr",
     "output_type": "stream",
     "text": [
      "Setting `pad_token_id` to `eos_token_id`:50256 for open-end generation.\n"
     ]
    },
    {
     "name": "stdout",
     "output_type": "stream",
     "text": [
      "  Batch 3,600  of  5,832. Loss: 0.30983591079711914.   Elapsed: 586.6482396125793.\n",
      "0:  disclosedCan't wait for book six! Can't wait for book six!\n"
     ]
    },
    {
     "name": "stderr",
     "output_type": "stream",
     "text": [
      "Setting `pad_token_id` to `eos_token_id`:50256 for open-end generation.\n"
     ]
    },
    {
     "name": "stdout",
     "output_type": "stream",
     "text": [
      "  Batch 3,700  of  5,832. Loss: 0.8625277876853943.   Elapsed: 603.062237739563.\n",
      "0:  beveragegreat.  will buy again.\n"
     ]
    },
    {
     "name": "stderr",
     "output_type": "stream",
     "text": [
      "Setting `pad_token_id` to `eos_token_id`:50256 for open-end generation.\n"
     ]
    },
    {
     "name": "stdout",
     "output_type": "stream",
     "text": [
      "  Batch 3,800  of  5,832. Loss: 0.35995030403137207.   Elapsed: 619.3908531665802.\n",
      "0:  (\"I have been an avid reader of William Shakespeare for many years and I would highly recommend reading this volume to my friends.  A perfect companion for a Shakespeare-loving adult!\n"
     ]
    },
    {
     "name": "stderr",
     "output_type": "stream",
     "text": [
      "Setting `pad_token_id` to `eos_token_id`:50256 for open-end generation.\n"
     ]
    },
    {
     "name": "stdout",
     "output_type": "stream",
     "text": [
      "  Batch 3,900  of  5,832. Loss: 0.6818243861198425.   Elapsed: 635.7298512458801.\n",
      "0:  foundingThere is a lot of good literature on this subject, but it fails to address the many myths and legends of the \"other religions\". This book, however, provides useful illustrations of several religions' history, and makes it easy to keep up with their beliefs and practices.\n"
     ]
    },
    {
     "name": "stderr",
     "output_type": "stream",
     "text": [
      "Setting `pad_token_id` to `eos_token_id`:50256 for open-end generation.\n"
     ]
    },
    {
     "name": "stdout",
     "output_type": "stream",
     "text": [
      "  Batch 4,000  of  5,832. Loss: 1.2026699781417847.   Elapsed: 652.0838532447815.\n",
      "0:  filesystemAs the name implies the entire series is a must read.  This book introduces characters of many of the main characters from previous books.\n"
     ]
    },
    {
     "name": "stderr",
     "output_type": "stream",
     "text": [
      "Setting `pad_token_id` to `eos_token_id`:50256 for open-end generation.\n"
     ]
    },
    {
     "name": "stdout",
     "output_type": "stream",
     "text": [
      "  Batch 4,100  of  5,832. Loss: 1.20699143409729.   Elapsed: 668.441853761673.\n",
      "0:  normalA good read and I was hooked throughout, but I really wanted to find out what happens next. I have not read the entire book yet, but I will keep you close.\n"
     ]
    },
    {
     "name": "stderr",
     "output_type": "stream",
     "text": [
      "Setting `pad_token_id` to `eos_token_id`:50256 for open-end generation.\n"
     ]
    },
    {
     "name": "stdout",
     "output_type": "stream",
     "text": [
      "  Batch 4,200  of  5,832. Loss: 0.5878444910049438.   Elapsed: 684.8548512458801.\n",
      "0:  MartialMy first time reading the Sharpe series but I loved the way he made each character come alive! This is a series that is as unique and suspenseful as the Sharpe series. All time favorite and well thought out. Also had a hard time putting it down as it is such a book!\n"
     ]
    },
    {
     "name": "stderr",
     "output_type": "stream",
     "text": [
      "Setting `pad_token_id` to `eos_token_id`:50256 for open-end generation.\n"
     ]
    },
    {
     "name": "stdout",
     "output_type": "stream",
     "text": [
      "  Batch 4,300  of  5,832. Loss: 1.2712925672531128.   Elapsed: 701.1388521194458.\n",
      "0: HumanI really like all the characters.  I feel as though I really understood who was going to win.  In order to get through this book I would have to read chapters to really get into the storyline.\n"
     ]
    },
    {
     "name": "stderr",
     "output_type": "stream",
     "text": [
      "Setting `pad_token_id` to `eos_token_id`:50256 for open-end generation.\n"
     ]
    },
    {
     "name": "stdout",
     "output_type": "stream",
     "text": [
      "  Batch 4,400  of  5,832. Loss: 1.1794699430465698.   Elapsed: 717.43985414505.\n",
      "0:  discountJust reading the book once again was worth it\n"
     ]
    },
    {
     "name": "stderr",
     "output_type": "stream",
     "text": [
      "Setting `pad_token_id` to `eos_token_id`:50256 for open-end generation.\n"
     ]
    },
    {
     "name": "stdout",
     "output_type": "stream",
     "text": [
      "  Batch 4,500  of  5,832. Loss: 0.26500749588012695.   Elapsed: 733.7638521194458.\n",
      "0:  frontiergreat product.\n"
     ]
    },
    {
     "name": "stderr",
     "output_type": "stream",
     "text": [
      "Setting `pad_token_id` to `eos_token_id`:50256 for open-end generation.\n"
     ]
    },
    {
     "name": "stdout",
     "output_type": "stream",
     "text": [
      "  Batch 4,600  of  5,832. Loss: 0.6267825961112976.   Elapsed: 750.104855298996.\n",
      "0:  atmosphericI read this book over and over and over. When the first page hit the bottom of page two, the next page jumped back to cover A. I couldn't put this book down. The story is great, but the plot moves slow. I don't care for the way that the author keeps going on and on with the characters while their story is told. The characters are all shallow and pointless. I don't care for the way that the story keeps going. The only characters I like are the poor guy who is thrown into a depression after his mom gets shot. I also don't care about how he survives or how long he takes to get through his treatment. The author gives a very poor summary of everything in the book. I find it almost impossible to follow the whole story and understand the thoughts and actions that the poor guy is being led into and the way the author presents the events for the story. The only characters I really care about are the poor guy who is thrown into\n"
     ]
    },
    {
     "name": "stderr",
     "output_type": "stream",
     "text": [
      "Setting `pad_token_id` to `eos_token_id`:50256 for open-end generation.\n"
     ]
    },
    {
     "name": "stdout",
     "output_type": "stream",
     "text": [
      "  Batch 4,700  of  5,832. Loss: 0.20307882130146027.   Elapsed: 766.4978518486023.\n",
      "0:  foundingThis is an excellent read.  It is a beautiful book, as far as the English language goes, though not by much.  Martin's style of writing is one of great pleasure, and he has his own distinct quirks.  But the book succeeds at creating a beautiful, yet fascinating world with great values.  A true story.\n"
     ]
    },
    {
     "name": "stderr",
     "output_type": "stream",
     "text": [
      "Setting `pad_token_id` to `eos_token_id`:50256 for open-end generation.\n"
     ]
    },
    {
     "name": "stdout",
     "output_type": "stream",
     "text": [
      "  Batch 4,800  of  5,832. Loss: 1.095139503479004.   Elapsed: 782.8168518543243.\n",
      "0:  medievalGreat\n"
     ]
    },
    {
     "name": "stderr",
     "output_type": "stream",
     "text": [
      "Setting `pad_token_id` to `eos_token_id`:50256 for open-end generation.\n"
     ]
    },
    {
     "name": "stdout",
     "output_type": "stream",
     "text": [
      "  Batch 4,900  of  5,832. Loss: 0.930454671382904.   Elapsed: 799.1438639163971.\n",
      "0:  channelThe premise is compelling and the plot is enticing, but the ending leaves the reader with unsatisfied feelings.\n"
     ]
    },
    {
     "name": "stderr",
     "output_type": "stream",
     "text": [
      "Setting `pad_token_id` to `eos_token_id`:50256 for open-end generation.\n"
     ]
    },
    {
     "name": "stdout",
     "output_type": "stream",
     "text": [
      "  Batch 5,000  of  5,832. Loss: 1.9937950372695923.   Elapsed: 815.485862493515.\n",
      "0:  viewsGreat read!\n"
     ]
    },
    {
     "name": "stderr",
     "output_type": "stream",
     "text": [
      "Setting `pad_token_id` to `eos_token_id`:50256 for open-end generation.\n"
     ]
    },
    {
     "name": "stdout",
     "output_type": "stream",
     "text": [
      "  Batch 5,100  of  5,832. Loss: 0.2881156802177429.   Elapsed: 831.8648755550385.\n",
      "0:  revolutionaryI have been a big fan of the show for long before watching the series but never had time to read this book.  I was very disappointed in the book because the main characters were not even mentioned.  I am very disappointed in Martin.\n"
     ]
    },
    {
     "name": "stderr",
     "output_type": "stream",
     "text": [
      "Setting `pad_token_id` to `eos_token_id`:50256 for open-end generation.\n"
     ]
    },
    {
     "name": "stdout",
     "output_type": "stream",
     "text": [
      "  Batch 5,200  of  5,832. Loss: 0.7292768955230713.   Elapsed: 848.2078773975372.\n",
      "0:  interactingMy husband loved it, especially when he came home from work in the evening and found me wanting to read it.  He was pleased to read this one!  You never know what can happen!  Can't wait to read it.  Great story for kids and adults.\n"
     ]
    },
    {
     "name": "stderr",
     "output_type": "stream",
     "text": [
      "Setting `pad_token_id` to `eos_token_id`:50256 for open-end generation.\n"
     ]
    },
    {
     "name": "stdout",
     "output_type": "stream",
     "text": [
      "  Batch 5,300  of  5,832. Loss: 2.2572426795959473.   Elapsed: 864.5378758907318.\n",
      "0:  subscGreat book to start the series.\n"
     ]
    },
    {
     "name": "stderr",
     "output_type": "stream",
     "text": [
      "Setting `pad_token_id` to `eos_token_id`:50256 for open-end generation.\n"
     ]
    },
    {
     "name": "stdout",
     "output_type": "stream",
     "text": [
      "  Batch 5,400  of  5,832. Loss: 1.1238813400268555.   Elapsed: 880.8668775558472.\n",
      "0:  remainderMy favorite books in series.\n"
     ]
    },
    {
     "name": "stderr",
     "output_type": "stream",
     "text": [
      "Setting `pad_token_id` to `eos_token_id`:50256 for open-end generation.\n"
     ]
    },
    {
     "name": "stdout",
     "output_type": "stream",
     "text": [
      "  Batch 5,500  of  5,832. Loss: 0.2641582787036896.   Elapsed: 897.2348761558533.\n",
      "0: SaySo disappointed... it will not be the end of my favorite series, The Game of Thrones.  I'm sure I may have to wait another few years for the next book, but I'm already hooked.  This could have been another 10 books in the series.\n",
      "\n",
      "The only negative I have about this book is that I have read the whole series in one sitting since it was published.  I don't know how many times I have read this many books, but I always forget where I started with this story.\n",
      "\n",
      "If you liked the previous books, then you would love this one.  Thank you Mr. Martin for bringing you the series.\n"
     ]
    },
    {
     "name": "stderr",
     "output_type": "stream",
     "text": [
      "Setting `pad_token_id` to `eos_token_id`:50256 for open-end generation.\n"
     ]
    },
    {
     "name": "stdout",
     "output_type": "stream",
     "text": [
      "  Batch 5,600  of  5,832. Loss: 1.2538857460021973.   Elapsed: 913.6358768939972.\n",
      "0:  jarThis is NOT the first book I've read, and I've read it multiple times before. I've read a few books from George R. R. Martin's other series (A Song of Ice and Fire, Game of Thrones, and now A Dance With Dragons). I really enjoy them. I do love Arya, though. I do think some of her character development makes her a good storyteller, and she's a bit difficult to control. I've seen a few of her appearances in the television shows and have read a couple. The book was well-written, and if you like a good storyteller, I strongly encourage you to pick it up.\n"
     ]
    },
    {
     "name": "stderr",
     "output_type": "stream",
     "text": [
      "Setting `pad_token_id` to `eos_token_id`:50256 for open-end generation.\n"
     ]
    },
    {
     "name": "stdout",
     "output_type": "stream",
     "text": [
      "  Batch 5,700  of  5,832. Loss: 1.1062358617782593.   Elapsed: 929.9658768177032.\n",
      "0: 4This is the complete book about Eliza, an orphan adopted by a Greek family during the plague. Although the books are divided up, the main character Eliza is the one who is first to be separated from her family, and later found to have married off to someone else as well. I am looking forward to the next book!\n"
     ]
    },
    {
     "name": "stderr",
     "output_type": "stream",
     "text": [
      "Setting `pad_token_id` to `eos_token_id`:50256 for open-end generation.\n"
     ]
    },
    {
     "name": "stdout",
     "output_type": "stream",
     "text": [
      "  Batch 5,800  of  5,832. Loss: 0.7372706532478333.   Elapsed: 946.303876876831.\n",
      "0:  JeffreyI love this book and I am glad I did.  A little slow in the beginning but builds up to a climax and when he does it, it is worth the wait.  I hope you enjoyed the rest of the series and will buy it now, although I will probably read it again in the future if the time is right.\n",
      "\n",
      "  Average training loss: 1.01\n",
      "  Training epoch took: 953.0478765964508\n",
      "Running Validation...\n",
      "  Validation Loss: 1.13\n",
      "  Validation took: 1054.4347069263458\n",
      "======== Epoch 5 / 5 ========\n"
     ]
    },
    {
     "name": "stderr",
     "output_type": "stream",
     "text": [
      "Setting `pad_token_id` to `eos_token_id`:50256 for open-end generation.\n"
     ]
    },
    {
     "name": "stdout",
     "output_type": "stream",
     "text": [
      "  Batch   100  of  5,832. Loss: 2.236147880554199.   Elapsed: 13.986998081207275.\n",
      "0:  corruptI loved this book!  It did not drag much.  The twist and turns with Beth and Jeremy were the best parts of the book and my daughter read it to me in no time.  I would highly recommend this to any fan of any of the series.\n"
     ]
    },
    {
     "name": "stderr",
     "output_type": "stream",
     "text": [
      "Setting `pad_token_id` to `eos_token_id`:50256 for open-end generation.\n"
     ]
    },
    {
     "name": "stdout",
     "output_type": "stream",
     "text": [
      "  Batch   200  of  5,832. Loss: 1.2845754623413086.   Elapsed: 30.306997537612915.\n",
      "0:  mistakenThis book is not for everyone and the information in it is very accurate, just not accurate at all. It's all about plants, animals and everything. I would prefer to know the basic ingredients but I'm not sure I would have a problem with that information. If you are in any doubt as to where this book is headed, I would suggest looking into it online.\n"
     ]
    },
    {
     "name": "stderr",
     "output_type": "stream",
     "text": [
      "Setting `pad_token_id` to `eos_token_id`:50256 for open-end generation.\n"
     ]
    },
    {
     "name": "stdout",
     "output_type": "stream",
     "text": [
      "  Batch   300  of  5,832. Loss: 0.8663946390151978.   Elapsed: 46.66650462150574.\n",
      "0:  becAll of the books have me enthralled in them.  All of the books are so well written and so realistic.  I just wish they had a little more depth and depth in character development that I find in other writers.\n"
     ]
    },
    {
     "name": "stderr",
     "output_type": "stream",
     "text": [
      "Setting `pad_token_id` to `eos_token_id`:50256 for open-end generation.\n"
     ]
    },
    {
     "name": "stdout",
     "output_type": "stream",
     "text": [
      "  Batch   400  of  5,832. Loss: 0.9275248646736145.   Elapsed: 63.13650369644165.\n",
      "0: MyI really like this book. It's a very interesting and imaginative story of India.  I enjoyed the historical and philosophical aspects, as well as the psychological.  The only drawback, is the fact that there are not a lot of the characters.  I was expecting the main character, Ammu, to die, and I did not.\n",
      "This book seems to be a little \"hbo\", but it was very good.  The author seems to love his genre.\n"
     ]
    },
    {
     "name": "stderr",
     "output_type": "stream",
     "text": [
      "Setting `pad_token_id` to `eos_token_id`:50256 for open-end generation.\n"
     ]
    },
    {
     "name": "stdout",
     "output_type": "stream",
     "text": [
      "  Batch   500  of  5,832. Loss: 1.2326582670211792.   Elapsed: 79.53250575065613.\n",
      "0:  FOLove it but just wanted to add another layer of joy to the series.\n"
     ]
    },
    {
     "name": "stderr",
     "output_type": "stream",
     "text": [
      "Setting `pad_token_id` to `eos_token_id`:50256 for open-end generation.\n"
     ]
    },
    {
     "name": "stdout",
     "output_type": "stream",
     "text": [
      "  Batch   600  of  5,832. Loss: 0.8361636400222778.   Elapsed: 95.81950688362122.\n",
      "0: qqaI am only going to finish this book because I will not finish any other books in this series.  If I read this series, the last book, I will have no issues reading this series.  George Martin has taken a massive amount of labor building this fifth book, the fourth one to be exact.  This book was written for a TV show, as opposed to the books that came before it.  The tv series has not produced any progress in the story or in the timeline of the story.  I read all 5 books of the series through the app, and I have not noticed anything wrong with the TV show or the series.  I know that Martin will use this series to build the next series.  There are probably other writers doing this already that will come out soon.\n"
     ]
    },
    {
     "name": "stderr",
     "output_type": "stream",
     "text": [
      "Setting `pad_token_id` to `eos_token_id`:50256 for open-end generation.\n"
     ]
    },
    {
     "name": "stdout",
     "output_type": "stream",
     "text": [
      "  Batch   700  of  5,832. Loss: 1.2698825597763062.   Elapsed: 112.14050364494324.\n",
      "0:  206I'm reading this book with my daughter and she loves the illustrations.\n",
      "I read and re-read it after many years with each passing day.\n",
      "My daughter is a natural writer and we are excited to be reading this novel when she is older.\n"
     ]
    },
    {
     "name": "stderr",
     "output_type": "stream",
     "text": [
      "Setting `pad_token_id` to `eos_token_id`:50256 for open-end generation.\n"
     ]
    },
    {
     "name": "stdout",
     "output_type": "stream",
     "text": [
      "  Batch   800  of  5,832. Loss: 1.3270018100738525.   Elapsed: 128.4475040435791.\n",
      "0: SimpleCan't wait for the next book...\n"
     ]
    },
    {
     "name": "stderr",
     "output_type": "stream",
     "text": [
      "Setting `pad_token_id` to `eos_token_id`:50256 for open-end generation.\n"
     ]
    },
    {
     "name": "stdout",
     "output_type": "stream",
     "text": [
      "  Batch   900  of  5,832. Loss: 1.355492115020752.   Elapsed: 144.81250619888306.\n",
      "0:  HurGeorge R. R. Martin keeps you engaged on the battlefield, with twists and turns that are even more impressive than what the TV show shows.  You will be surprised what happens next with all of the characters you love.\n"
     ]
    },
    {
     "name": "stderr",
     "output_type": "stream",
     "text": [
      "Setting `pad_token_id` to `eos_token_id`:50256 for open-end generation.\n"
     ]
    },
    {
     "name": "stdout",
     "output_type": "stream",
     "text": [
      "  Batch 1,000  of  5,832. Loss: 1.4421950578689575.   Elapsed: 161.2385036945343.\n",
      "0:  murdThis is a good old fashioned story, if a little dull at times.  But good for a quick read.\n"
     ]
    },
    {
     "name": "stderr",
     "output_type": "stream",
     "text": [
      "Setting `pad_token_id` to `eos_token_id`:50256 for open-end generation.\n"
     ]
    },
    {
     "name": "stdout",
     "output_type": "stream",
     "text": [
      "  Batch 1,100  of  5,832. Loss: 0.25197118520736694.   Elapsed: 177.51350617408752.\n",
      "0: 60I bought this for my son as a Christmas present. He has already taken it with him on his trip to Mexico. The pictures were beautiful and very descriptive.\n"
     ]
    },
    {
     "name": "stderr",
     "output_type": "stream",
     "text": [
      "Setting `pad_token_id` to `eos_token_id`:50256 for open-end generation.\n"
     ]
    },
    {
     "name": "stdout",
     "output_type": "stream",
     "text": [
      "  Batch 1,200  of  5,832. Loss: 1.7214670181274414.   Elapsed: 193.84550428390503.\n",
      "0:  asksThis is an engrossing historical novel which transports and entertains.  It is set in 1947 and is well researched.  The only problem I have with this book is that it makes me want to re-read the books.  The book is not very descriptive, but if you like historical fiction it might be the best thing to read in this genre.  I wish GRRM would give a detailed explanation of each of the characters.  He gives them names, places and events which I do not remember, because I felt I wasn't quite sure of which, but it is well worth the read.\n"
     ]
    },
    {
     "name": "stderr",
     "output_type": "stream",
     "text": [
      "Setting `pad_token_id` to `eos_token_id`:50256 for open-end generation.\n"
     ]
    },
    {
     "name": "stdout",
     "output_type": "stream",
     "text": [
      "  Batch 1,300  of  5,832. Loss: 1.8453620672225952.   Elapsed: 210.15550422668457.\n",
      "0: 399I've been reading the classics for a long time, and this is one of my favorites. This tale is gripping. The language is captivating, especially from the British accents. There is no mystery or tragedy - the reader is left completely involved. In the end, I believe it is a classic.\n"
     ]
    },
    {
     "name": "stderr",
     "output_type": "stream",
     "text": [
      "Setting `pad_token_id` to `eos_token_id`:50256 for open-end generation.\n"
     ]
    },
    {
     "name": "stdout",
     "output_type": "stream",
     "text": [
      "  Batch 1,400  of  5,832. Loss: 0.30089104175567627.   Elapsed: 226.55050349235535.\n",
      "0:  SunniI am reading this book for my English class...a must for a teacher. The style is like a \"classic\" book, with the characters drawn from classic literature.\n"
     ]
    },
    {
     "name": "stderr",
     "output_type": "stream",
     "text": [
      "Setting `pad_token_id` to `eos_token_id`:50256 for open-end generation.\n"
     ]
    },
    {
     "name": "stdout",
     "output_type": "stream",
     "text": [
      "  Batch 1,500  of  5,832. Loss: 0.6432797908782959.   Elapsed: 242.9065043926239.\n",
      "0:  requestThis was the best book I have ever read!  It left you wanting to know more and finding out what happened.\n"
     ]
    },
    {
     "name": "stderr",
     "output_type": "stream",
     "text": [
      "Setting `pad_token_id` to `eos_token_id`:50256 for open-end generation.\n"
     ]
    },
    {
     "name": "stdout",
     "output_type": "stream",
     "text": [
      "  Batch 1,600  of  5,832. Loss: 0.3879813849925995.   Elapsed: 259.22250390052795.\n",
      "0:  ChinaMy wife and I have read this book many times over the years and both of us enjoyed it greatly.  She said it was very descriptive and interesting. I would recommend it to anyone that enjoys historical fiction and fiction.  I was very impressed with how well it portrayed life in Scotland during the siege of Stirling during the early English middle ages.  It was definitely a challenging read.\n"
     ]
    },
    {
     "name": "stderr",
     "output_type": "stream",
     "text": [
      "Setting `pad_token_id` to `eos_token_id`:50256 for open-end generation.\n"
     ]
    },
    {
     "name": "stdout",
     "output_type": "stream",
     "text": [
      "  Batch 1,700  of  5,832. Loss: 0.5785180926322937.   Elapsed: 275.5475060939789.\n",
      "0: \"></A Classic...a must for any young adult.\n"
     ]
    },
    {
     "name": "stderr",
     "output_type": "stream",
     "text": [
      "Setting `pad_token_id` to `eos_token_id`:50256 for open-end generation.\n"
     ]
    },
    {
     "name": "stdout",
     "output_type": "stream",
     "text": [
      "  Batch 1,800  of  5,832. Loss: 1.1914182901382446.   Elapsed: 291.8895046710968.\n",
      "0:  midstI have just finished this book and will have to wait years for book 6 to come out.  I really hate waiting for the next book to come out so that the wait will end more quickly.  I have already begun the Amazon Payments channel which will keep me busy for years to come.\n"
     ]
    },
    {
     "name": "stderr",
     "output_type": "stream",
     "text": [
      "Setting `pad_token_id` to `eos_token_id`:50256 for open-end generation.\n"
     ]
    },
    {
     "name": "stdout",
     "output_type": "stream",
     "text": [
      "  Batch 1,900  of  5,832. Loss: 0.8221624493598938.   Elapsed: 308.2905056476593.\n",
      "0:  ConstitutionalGreat book. It's the type of thing that makes you want to pull up your glasses and say, \"This is what I need.\" It's also fun to read since it's written in a style I didn't know very well. It's not as dense as some of the other books I've made, but it is still a worthwhile read. The only thing I'm not sure I liked about the book is that it was pretty predictable. It's hard to picture it at all. It was also a little wordy at times. I was interested to see how things were going to play out at the time so I had a hard time reading it after being exposed to the various personalities of certain characters. Definitely worth reading if you like fiction, fantasy, mystery, whatever.\n"
     ]
    },
    {
     "name": "stderr",
     "output_type": "stream",
     "text": [
      "Setting `pad_token_id` to `eos_token_id`:50256 for open-end generation.\n"
     ]
    },
    {
     "name": "stdout",
     "output_type": "stream",
     "text": [
      "  Batch 2,000  of  5,832. Loss: 0.9834657311439514.   Elapsed: 324.57650566101074.\n",
      "0: vironAs with all Agatha Christie stories, she is very interesting.\n"
     ]
    },
    {
     "name": "stderr",
     "output_type": "stream",
     "text": [
      "Setting `pad_token_id` to `eos_token_id`:50256 for open-end generation.\n"
     ]
    },
    {
     "name": "stdout",
     "output_type": "stream",
     "text": [
      "  Batch 2,100  of  5,832. Loss: 1.4287961721420288.   Elapsed: 340.864506483078.\n",
      "0:  bloGeorge R.R. Martin is better known for A Feast For Crows than A Dance with Dragons, though the latter has its own controversy.  The characters are still interesting and engaging, though it takes a bit for them to develop and evolve, and as such, there's a fair amount of plot lag between the two books.  Still, it's still worth waiting for, and enjoying with each read.\n"
     ]
    },
    {
     "name": "stderr",
     "output_type": "stream",
     "text": [
      "Setting `pad_token_id` to `eos_token_id`:50256 for open-end generation.\n"
     ]
    },
    {
     "name": "stdout",
     "output_type": "stream",
     "text": [
      "  Batch 2,200  of  5,832. Loss: 0.6616637110710144.   Elapsed: 357.15250420570374.\n",
      "0:  ChileYou know that book by now? If you aren't familiar, I'm a little impatient. Not so much as bored, but that's the author. I found it hard to follow who was in what chapter. I guess I've just become a recluse after waiting so long to finally pick up A Dance With Dragons. It is only a matter of time until I get the next book in my life to see who Martin is.\n"
     ]
    },
    {
     "name": "stderr",
     "output_type": "stream",
     "text": [
      "Setting `pad_token_id` to `eos_token_id`:50256 for open-end generation.\n"
     ]
    },
    {
     "name": "stdout",
     "output_type": "stream",
     "text": [
      "  Batch 2,300  of  5,832. Loss: 0.6861823797225952.   Elapsed: 373.5029149055481.\n",
      "0: KnI bought this for my daughter because it was the only one I was going to have for Christmas.  The book is very long, and I thought I would have to give it a try to see what was going to happen.  The book goes through very carefully and is quite small.  I guess it's why I thought I should just give it a try anyway.\n"
     ]
    },
    {
     "name": "stderr",
     "output_type": "stream",
     "text": [
      "Setting `pad_token_id` to `eos_token_id`:50256 for open-end generation.\n"
     ]
    },
    {
     "name": "stdout",
     "output_type": "stream",
     "text": [
      "  Batch 2,400  of  5,832. Loss: 0.8833528161048889.   Elapsed: 389.86791372299194.\n",
      "0: yanSo many characters to read before you know them (and there's plenty of them) and the timeline moves very slowly. The book doesn't feel like a book for my taste. It's good and it's fun and the ending isn't that far off but not satisfying.\n"
     ]
    },
    {
     "name": "stderr",
     "output_type": "stream",
     "text": [
      "Setting `pad_token_id` to `eos_token_id`:50256 for open-end generation.\n"
     ]
    },
    {
     "name": "stdout",
     "output_type": "stream",
     "text": [
      "  Batch 2,500  of  5,832. Loss: 0.16809393465518951.   Elapsed: 406.18792963027954.\n",
      "0:  exercI did not have a copy of the book to read in addition to looking for it. A little confusing, and I was surprised to find this item was not printed in color. It is a \"complete\" book. The paper is thin and hard. It seems to have been glued on with no glue at all to cover the pages. It was not in color when I tried it on my Kindle. I had to re-read it from different angles.\n"
     ]
    },
    {
     "name": "stderr",
     "output_type": "stream",
     "text": [
      "Setting `pad_token_id` to `eos_token_id`:50256 for open-end generation.\n"
     ]
    },
    {
     "name": "stdout",
     "output_type": "stream",
     "text": [
      "  Batch 2,600  of  5,832. Loss: 0.8063026666641235.   Elapsed: 422.49593806266785.\n",
      "0:  mystI had never been so upset by this series for so long. I read them before they arrived. I read them again and again through Amazon's reviews and even get a pass on Amazon's Kindle e-version because of the slow delivery. Now I'm back to book five. A dance with dragons continues with Martin's writing. Now it's up to the book 6 producers to write the next one.\n"
     ]
    },
    {
     "name": "stderr",
     "output_type": "stream",
     "text": [
      "Setting `pad_token_id` to `eos_token_id`:50256 for open-end generation.\n"
     ]
    },
    {
     "name": "stdout",
     "output_type": "stream",
     "text": [
      "  Batch 2,700  of  5,832. Loss: 1.8814122676849365.   Elapsed: 438.83293890953064.\n",
      "0:  puzzA very clever mystery story, I enjoyed the plot, but was a bit disappointed when it got to a point that I could no longer stand the suspense. The ending was disappointing.\n",
      "\n",
      "It would have been great if the author actually started the next book in series instead of merely ending the story and splitting the two.\n",
      "\n",
      "Don't expect the same level of enjoyment out of the three books in the series as those released earlier in the series.\n"
     ]
    },
    {
     "name": "stderr",
     "output_type": "stream",
     "text": [
      "Setting `pad_token_id` to `eos_token_id`:50256 for open-end generation.\n"
     ]
    },
    {
     "name": "stdout",
     "output_type": "stream",
     "text": [
      "  Batch 2,800  of  5,832. Loss: 0.9694198369979858.   Elapsed: 455.17394614219666.\n",
      "0:  moralityI was disappointed with this book. The character of Asha goes through much life's problems and is never quite ready to put them to rest. There is very little substance in this book. It seems that Agatha Christie would have gone to another author who had better know the emotional and psychological depths to each character and it was depressing. I understand it was written over a period of about 2 weeks and a half. I think that it really falls somewhere in the middle.\n"
     ]
    },
    {
     "name": "stderr",
     "output_type": "stream",
     "text": [
      "Setting `pad_token_id` to `eos_token_id`:50256 for open-end generation.\n"
     ]
    },
    {
     "name": "stdout",
     "output_type": "stream",
     "text": [
      "  Batch 2,900  of  5,832. Loss: 0.5980383157730103.   Elapsed: 471.52195620536804.\n",
      "0: aniaI'm so excited to see this book come out! It is such a page turner!  This is a must read!\n"
     ]
    },
    {
     "name": "stderr",
     "output_type": "stream",
     "text": [
      "Setting `pad_token_id` to `eos_token_id`:50256 for open-end generation.\n"
     ]
    },
    {
     "name": "stdout",
     "output_type": "stream",
     "text": [
      "  Batch 3,000  of  5,832. Loss: 0.7023143172264099.   Elapsed: 487.8019554615021.\n",
      "0:  assignedThis is the first Clancy novel I have read. It's an adventure story that I found fascinating. The characters are complex but the action is engaging. Clancy manages to combine the real life events of the Vietnam War, world events and world religions and provides the reader a fascinating view of the minds of the men who fought in the wars of the 20th Century and around the turn of the century. The real world events in these novels reflect the experiences of many people in the 1800's and early 1900's. I would recommend this novel to anybody.\n"
     ]
    },
    {
     "name": "stderr",
     "output_type": "stream",
     "text": [
      "Setting `pad_token_id` to `eos_token_id`:50256 for open-end generation.\n"
     ]
    },
    {
     "name": "stdout",
     "output_type": "stream",
     "text": [
      "  Batch 3,100  of  5,832. Loss: 1.2058640718460083.   Elapsed: 504.08895683288574.\n",
      "0:  sometimeAnother great Agatha Christie mystery mystery.\n"
     ]
    },
    {
     "name": "stderr",
     "output_type": "stream",
     "text": [
      "Setting `pad_token_id` to `eos_token_id`:50256 for open-end generation.\n"
     ]
    },
    {
     "name": "stdout",
     "output_type": "stream",
     "text": [
      "  Batch 3,200  of  5,832. Loss: 0.6252654790878296.   Elapsed: 520.4509565830231.\n",
      "0: ewitnessI liked the previous 3 books but this volume I think was a bit tedious. There were parts that were interesting but nothing really really happened, mainly characters that you have a lot of trust with. It appears that George is planning to put all his characters in one book, like on HBO series.\n"
     ]
    },
    {
     "name": "stderr",
     "output_type": "stream",
     "text": [
      "Setting `pad_token_id` to `eos_token_id`:50256 for open-end generation.\n"
     ]
    },
    {
     "name": "stdout",
     "output_type": "stream",
     "text": [
      "  Batch 3,300  of  5,832. Loss: 0.5395045876502991.   Elapsed: 536.8579545021057.\n",
      "0:  coordinationI've enjoyed reading this one a lot. I can't wait to start reading the next.\n"
     ]
    },
    {
     "name": "stderr",
     "output_type": "stream",
     "text": [
      "Setting `pad_token_id` to `eos_token_id`:50256 for open-end generation.\n"
     ]
    },
    {
     "name": "stdout",
     "output_type": "stream",
     "text": [
      "  Batch 3,400  of  5,832. Loss: 2.0657474994659424.   Elapsed: 553.2059555053711.\n",
      "0: bageThis book is as good as the first one, the 2nd and most amazing one. I cant wait for the final two and to find out how this end has ever been. The story just keeps on getting better. So much happens, so much is revealed and nothing can be expected in this book. I hate how many pages are wasted on useless information. I wish all the good guys would be back and they deserve all the glory they can get them in.\n"
     ]
    },
    {
     "name": "stderr",
     "output_type": "stream",
     "text": [
      "Setting `pad_token_id` to `eos_token_id`:50256 for open-end generation.\n"
     ]
    },
    {
     "name": "stdout",
     "output_type": "stream",
     "text": [
      "  Batch 3,500  of  5,832. Loss: 0.36875665187835693.   Elapsed: 569.5199556350708.\n",
      "0:  moI read this book years ago when I was a teenager, and I loved it as a kid. While reading the book the moment Ms Martin tells us that she has lost her focus for a good 1000 pages or so, I immediately read it again! Now that I have finished reading the book, I cannot begin to describe how wonderful it is to read a story like this again and again. The writing is beautiful, there is much depth to the characters, and the characters are real. I look forward to the next one, but can't recommend it enough.\n"
     ]
    },
    {
     "name": "stderr",
     "output_type": "stream",
     "text": [
      "Setting `pad_token_id` to `eos_token_id`:50256 for open-end generation.\n"
     ]
    },
    {
     "name": "stdout",
     "output_type": "stream",
     "text": [
      "  Batch 3,600  of  5,832. Loss: 2.6695151329040527.   Elapsed: 585.8479564189911.\n",
      "0:  1965I've loved all the books that Martin has written.  I'm a big fan of the HBO series ( Game of Thrones). I have no problem rating this book.  Martin uses great technical detail throughout the book to provide a clear explanation. It's not easy to read on a computer, but the writing was just right to describe the world Martin created.  I'm in for a long wait....\n"
     ]
    },
    {
     "name": "stderr",
     "output_type": "stream",
     "text": [
      "Setting `pad_token_id` to `eos_token_id`:50256 for open-end generation.\n"
     ]
    },
    {
     "name": "stdout",
     "output_type": "stream",
     "text": [
      "  Batch 3,700  of  5,832. Loss: 1.5804551839828491.   Elapsed: 602.1949565410614.\n",
      "0: BusinessMartin has created a masterpiece that we all love and admire.\n"
     ]
    },
    {
     "name": "stderr",
     "output_type": "stream",
     "text": [
      "Setting `pad_token_id` to `eos_token_id`:50256 for open-end generation.\n"
     ]
    },
    {
     "name": "stdout",
     "output_type": "stream",
     "text": [
      "  Batch 3,800  of  5,832. Loss: 1.453696370124817.   Elapsed: 618.6119558811188.\n",
      "0: CryptThis series is great, it is hard to wait for book six, and I am so sorry you are hanging on!\n"
     ]
    },
    {
     "name": "stderr",
     "output_type": "stream",
     "text": [
      "Setting `pad_token_id` to `eos_token_id`:50256 for open-end generation.\n"
     ]
    },
    {
     "name": "stdout",
     "output_type": "stream",
     "text": [
      "  Batch 3,900  of  5,832. Loss: 1.910848617553711.   Elapsed: 634.9179556369781.\n",
      "0: maleGeorge Martin must be a master at building characters with words. This book is filled with action and it brings my favorite characters to life...and makes you wish they were alive now. I could not put it down!\n"
     ]
    },
    {
     "name": "stderr",
     "output_type": "stream",
     "text": [
      "Setting `pad_token_id` to `eos_token_id`:50256 for open-end generation.\n"
     ]
    },
    {
     "name": "stdout",
     "output_type": "stream",
     "text": [
      "  Batch 4,000  of  5,832. Loss: 0.7054458260536194.   Elapsed: 651.2379558086395.\n",
      "0: jaThere is little I can say about this book and a few things that may be true.  The first is that it takes a lot of time to get bogged down in a large number of storylines.  At first it appeared to be a good yarn, but the writing drags on and on in too many locations.  Some chapters make you wonder what's actually happening, but the most interesting character is at the end, when all the characters are dead and not much else.  I wish George would write more of these characters and not add them up.  The reason I didn't like it so much was that it seemed like there was a lot more action to get to in these 5 books.  I don't think anyone will like this book if you're interested in seeing what happened to them and why it bothered you.\n"
     ]
    },
    {
     "name": "stderr",
     "output_type": "stream",
     "text": [
      "Setting `pad_token_id` to `eos_token_id`:50256 for open-end generation.\n"
     ]
    },
    {
     "name": "stdout",
     "output_type": "stream",
     "text": [
      "  Batch 4,100  of  5,832. Loss: 0.5713055729866028.   Elapsed: 667.6219553947449.\n",
      "0: 189The story is full of very interesting characters. This book started out with characters that could be mentioned a lot more. I did wonder at characters that you don't care about until the end because they are not there.  This book is better than the last but I find it is a bit hard to finish it. The ending was a little disappointing as I like suspense in fiction. I also like a good story.\n"
     ]
    },
    {
     "name": "stderr",
     "output_type": "stream",
     "text": [
      "Setting `pad_token_id` to `eos_token_id`:50256 for open-end generation.\n"
     ]
    },
    {
     "name": "stdout",
     "output_type": "stream",
     "text": [
      "  Batch 4,200  of  5,832. Loss: 2.009465456008911.   Elapsed: 683.9779560565948.\n",
      "0: corI was totally turned off by this book. The first time I read this book, I was very disappointed. I was totally swept away by a brilliant story telling. I love the first four books of the series but this was an incredible mess. The fifth book was a disappointment. The stories had no rhythm and no plot. Even the ending was dull, nothing really happened. I will just watch The HBO series of The Game of Thrones.\n"
     ]
    },
    {
     "name": "stderr",
     "output_type": "stream",
     "text": [
      "Setting `pad_token_id` to `eos_token_id`:50256 for open-end generation.\n"
     ]
    },
    {
     "name": "stdout",
     "output_type": "stream",
     "text": [
      "  Batch 4,300  of  5,832. Loss: 0.1319490373134613.   Elapsed: 700.3409643173218.\n",
      "0:  JerryI am so excited to read this! I started out by reading a couple of books ago,  but I will try them again and again. The characters are all so human, and are believable, that i couldn't stop reading.  I love how the author makes you care about them and how the others can and must fight for them.  My son loves reading it and can't wait for the next one.\n"
     ]
    },
    {
     "name": "stderr",
     "output_type": "stream",
     "text": [
      "Setting `pad_token_id` to `eos_token_id`:50256 for open-end generation.\n"
     ]
    },
    {
     "name": "stdout",
     "output_type": "stream",
     "text": [
      "  Batch 4,400  of  5,832. Loss: 0.5071689486503601.   Elapsed: 716.6069650650024.\n",
      "0:  uraniumGreat novel.  Lots of great characters.  A great story.\n"
     ]
    },
    {
     "name": "stderr",
     "output_type": "stream",
     "text": [
      "Setting `pad_token_id` to `eos_token_id`:50256 for open-end generation.\n"
     ]
    },
    {
     "name": "stdout",
     "output_type": "stream",
     "text": [
      "  Batch 4,500  of  5,832. Loss: 0.39120808243751526.   Elapsed: 732.8999643325806.\n",
      "0:  ironyMy husband had a copy of this book so he read it. He is hooked on the characters and he just doesn't think you should read it unless you want to.\n"
     ]
    },
    {
     "name": "stderr",
     "output_type": "stream",
     "text": [
      "Setting `pad_token_id` to `eos_token_id`:50256 for open-end generation.\n"
     ]
    },
    {
     "name": "stdout",
     "output_type": "stream",
     "text": [
      "  Batch 4,600  of  5,832. Loss: 0.7621214985847473.   Elapsed: 749.2369644641876.\n",
      "0: ″My copy read \"The God of Small Things\" by Arundhati Roy, not \"Son of Adam\" by Arundhati Roy, as expected, since she is the granddaughter of a Muslim leader and the daughter of the late Nobel Prize winner Ammu Shek.  In this novel, she tells us what lives are like in a Kerala village in the 1950s with a young English professor and a gang of angry mobs.  While exploring, she meets a Chinese man, whom she has befriended, and their clash of love intensifies.  Roy is very good at creating a picture of the real-life population of a rural town, but unlike most children's novels, she has a knack for drawing the reader deeply into the story.  While all of Roy's characters are human, there are quite a few of them - Adam, an atheist with a strong religious bent, and Mama Fresia, a spinster who is a bit more intellectual than a little\n"
     ]
    },
    {
     "name": "stderr",
     "output_type": "stream",
     "text": [
      "Setting `pad_token_id` to `eos_token_id`:50256 for open-end generation.\n"
     ]
    },
    {
     "name": "stdout",
     "output_type": "stream",
     "text": [
      "  Batch 4,700  of  5,832. Loss: 0.5681504607200623.   Elapsed: 765.5619645118713.\n",
      "0:  AWA story of the life of a beautiful young man who sailed with her husband on her honeymoon.  What a wonderful place in a wonderful and lovely country.  We love the book and we are looking forward to seeing the rest of it, so watch out for The End Of The Watch!\n"
     ]
    },
    {
     "name": "stderr",
     "output_type": "stream",
     "text": [
      "Setting `pad_token_id` to `eos_token_id`:50256 for open-end generation.\n"
     ]
    },
    {
     "name": "stdout",
     "output_type": "stream",
     "text": [
      "  Batch 4,800  of  5,832. Loss: 1.4433581829071045.   Elapsed: 781.9239642620087.\n",
      "0:  RenewI would recommend this book to everyone.  Great book on life in a lot of situations I never get anywhere.\n"
     ]
    },
    {
     "name": "stderr",
     "output_type": "stream",
     "text": [
      "Setting `pad_token_id` to `eos_token_id`:50256 for open-end generation.\n"
     ]
    },
    {
     "name": "stdout",
     "output_type": "stream",
     "text": [
      "  Batch 4,900  of  5,832. Loss: 1.0594744682312012.   Elapsed: 798.2209644317627.\n",
      "0: GPIf you enjoyed The Song of Ice and Fire, then you will enjoy The Winds of Winter.  George Martin has it covered in a wonderfully detailed  descriptive way.  He keeps the tension with this novel, and keeps the reader's interest in the world through  several different plots that lead from the center stage to the end.  The book is an entertaining read, and it  brings back so many favorite characters from the past that some of them reappear  all over the place.  George R. R. Martin really brings back your favorite characters, and the world that the series has created.  He puts you right in the  mind of all the different characters that are involved in the story.  I highly recommend it.\n"
     ]
    },
    {
     "name": "stderr",
     "output_type": "stream",
     "text": [
      "Setting `pad_token_id` to `eos_token_id`:50256 for open-end generation.\n"
     ]
    },
    {
     "name": "stdout",
     "output_type": "stream",
     "text": [
      "  Batch 5,000  of  5,832. Loss: 0.48896321654319763.   Elapsed: 814.5089643001556.\n",
      "0: uvThis little book is very helpful for those of us that like to read to our children but want something much larger. In my opinion this is NOT my favorite book of the series or that I'll read again for the rest of my life.\n"
     ]
    },
    {
     "name": "stderr",
     "output_type": "stream",
     "text": [
      "Setting `pad_token_id` to `eos_token_id`:50256 for open-end generation.\n"
     ]
    },
    {
     "name": "stdout",
     "output_type": "stream",
     "text": [
      "  Batch 5,100  of  5,832. Loss: 0.5075415968894958.   Elapsed: 830.8249628543854.\n",
      "0:  OhGreat book\n"
     ]
    },
    {
     "name": "stderr",
     "output_type": "stream",
     "text": [
      "Setting `pad_token_id` to `eos_token_id`:50256 for open-end generation.\n"
     ]
    },
    {
     "name": "stdout",
     "output_type": "stream",
     "text": [
      "  Batch 5,200  of  5,832. Loss: 0.35496655106544495.   Elapsed: 847.2189645767212.\n",
      "0:  Carlgreat book! it has it all!  it just keeps on going!\n"
     ]
    },
    {
     "name": "stderr",
     "output_type": "stream",
     "text": [
      "Setting `pad_token_id` to `eos_token_id`:50256 for open-end generation.\n"
     ]
    },
    {
     "name": "stdout",
     "output_type": "stream",
     "text": [
      "  Batch 5,300  of  5,832. Loss: 1.266706109046936.   Elapsed: 863.49396443367.\n",
      "0:  liesGreat book!!\n"
     ]
    },
    {
     "name": "stderr",
     "output_type": "stream",
     "text": [
      "Setting `pad_token_id` to `eos_token_id`:50256 for open-end generation.\n"
     ]
    },
    {
     "name": "stdout",
     "output_type": "stream",
     "text": [
      "  Batch 5,400  of  5,832. Loss: 1.7076966762542725.   Elapsed: 879.7579643726349.\n",
      "0:  typeThis is a fantastic book. I recommend to anyone who likes to travel, adventure, and adventure. My son loved this book and would not hesitate to recommend it to others.\n"
     ]
    },
    {
     "name": "stderr",
     "output_type": "stream",
     "text": [
      "Setting `pad_token_id` to `eos_token_id`:50256 for open-end generation.\n"
     ]
    },
    {
     "name": "stdout",
     "output_type": "stream",
     "text": [
      "  Batch 5,500  of  5,832. Loss: 0.41191014647483826.   Elapsed: 896.1179640293121.\n",
      "0:  ViceI am not a science-fantasy hiker, but I found this book to be compelling. I found several characters with a complex backstory and interesting stories. I do however, wish to point out that the author kept creating new characters to keep the reader guessing until the very end. This is an entertaining book that will keep you guessing until the very end.\n"
     ]
    },
    {
     "name": "stderr",
     "output_type": "stream",
     "text": [
      "Setting `pad_token_id` to `eos_token_id`:50256 for open-end generation.\n"
     ]
    },
    {
     "name": "stdout",
     "output_type": "stream",
     "text": [
      "  Batch 5,600  of  5,832. Loss: 1.8369140625.   Elapsed: 912.4952254295349.\n",
      "0: versMy favorite of the book. I never grow tired of listening to it.\n"
     ]
    },
    {
     "name": "stderr",
     "output_type": "stream",
     "text": [
      "Setting `pad_token_id` to `eos_token_id`:50256 for open-end generation.\n"
     ]
    },
    {
     "name": "stdout",
     "output_type": "stream",
     "text": [
      "  Batch 5,700  of  5,832. Loss: 0.7422986030578613.   Elapsed: 928.8882257938385.\n",
      "0:  starkA real classic for my very own collection.  I would highly recommend it.\n"
     ]
    },
    {
     "name": "stderr",
     "output_type": "stream",
     "text": [
      "Setting `pad_token_id` to `eos_token_id`:50256 for open-end generation.\n"
     ]
    },
    {
     "name": "stdout",
     "output_type": "stream",
     "text": [
      "  Batch 5,800  of  5,832. Loss: 0.8833153247833252.   Elapsed: 945.1732261180878.\n",
      "0:  smartphonesAfter the fourth book, there is still plenty to come! But I can't wait for Winds of Winter to come out so I can finish the books before it does.\n",
      "\n",
      "  Average training loss: 0.98\n",
      "  Training epoch took: 951.8892257213593\n",
      "Running Validation...\n",
      "  Validation Loss: 1.14\n",
      "  Validation took: 1053.0892252922058\n"
     ]
    }
   ],
   "source": [
    "timestat = time.time()\n",
    "\n",
    "stats = []\n",
    "\n",
    "model = model.to(device)\n",
    "\n",
    "for epoch_i in range(0, epochs):\n",
    "\n",
    "    # training loop\n",
    "    print('======== Epoch {:} / {:} ========'.format(epoch_i + 1, epochs))\n",
    "\n",
    "    timestat = time.time()\n",
    "\n",
    "    total_train_loss = 0\n",
    "\n",
    "    model.train()\n",
    "\n",
    "    for step, batch in enumerate(train_dataloader):\n",
    "\n",
    "        b_input_ids = batch[0].to(device)\n",
    "        b_labels = batch[0].to(device)\n",
    "        b_masks = batch[1].to(device)\n",
    "\n",
    "        model.zero_grad()        \n",
    "\n",
    "        outputs = model(  b_input_ids,\n",
    "                          labels=b_labels, \n",
    "                          attention_mask = b_masks,\n",
    "                          token_type_ids=None\n",
    "                        )\n",
    "\n",
    "        loss = outputs[0]  \n",
    "\n",
    "        batch_loss = loss.item()\n",
    "        total_train_loss += batch_loss\n",
    "\n",
    "        # Get sample every x batches.\n",
    "        if step % sample_every == 0 and not step == 0:\n",
    "\n",
    "            elapsed = time.time() - timestat\n",
    "            print('  Batch {:>5,}  of  {:>5,}. Loss: {:>5,}.   Elapsed: {:}.'.format(step, len(train_dataloader), batch_loss, elapsed))\n",
    "\n",
    "            model.eval()\n",
    "\n",
    "            sample_outputs = model.generate(\n",
    "                                    bos_token_id=random.randint(1,30000),\n",
    "                                    do_sample=True,   \n",
    "                                    top_k=50, \n",
    "                                    max_length = 200,\n",
    "                                    top_p=0.95, \n",
    "                                    num_return_sequences=1\n",
    "                                )\n",
    "            for i, sample_output in enumerate(sample_outputs):\n",
    "                  print(\"{}: {}\".format(i, tokenizer.decode(sample_output, skip_special_tokens=True)))\n",
    "            \n",
    "            model.train()\n",
    "\n",
    "        loss.backward()\n",
    "\n",
    "        optimizer.step()\n",
    "\n",
    "        scheduler.step()\n",
    "\n",
    "    # Calculate the average loss over all of the batches.\n",
    "    avg_train_loss = total_train_loss / len(train_dataloader)       \n",
    "    \n",
    "    # Measure how long this epoch took.\n",
    "    training_time = time.time() - timestat\n",
    "\n",
    "    print(\"\")\n",
    "    print(\"  Average training loss: {0:.2f}\".format(avg_train_loss))\n",
    "    print(\"  Training epoch took: {:}\".format(training_time))\n",
    "\n",
    "    # Testing loop\n",
    "    print(\"Running Validation...\")\n",
    "\n",
    "    t0 = time.time()\n",
    "\n",
    "    model.eval()\n",
    "\n",
    "    total_eval_loss = 0\n",
    "    nb_eval_steps = 0\n",
    "\n",
    "    # Evaluate data for one epoch\n",
    "    for batch in test_dataloader:\n",
    "        \n",
    "        b_input_ids = batch[0].to(device)\n",
    "        b_labels = batch[0].to(device)\n",
    "        b_masks = batch[1].to(device)\n",
    "        \n",
    "        with torch.no_grad():        \n",
    "\n",
    "            outputs  = model(b_input_ids, \n",
    "#                            token_type_ids=None, \n",
    "                             attention_mask = b_masks,\n",
    "                            labels=b_labels)\n",
    "          \n",
    "            loss = outputs[0]  \n",
    "            \n",
    "        batch_loss = loss.item()\n",
    "        total_eval_loss += batch_loss        \n",
    "\n",
    "    avg_val_loss = total_eval_loss / len(test_dataloader)\n",
    "    \n",
    "    validation_time = time.time() - timestat \n",
    "\n",
    "    print(\"  Validation Loss: {0:.2f}\".format(avg_val_loss))\n",
    "    print(\"  Validation took: {:}\".format(validation_time))\n",
    "\n",
    "    # Record all statistics from this epoch.\n",
    "    stats.append(\n",
    "        {\n",
    "            'epoch': epoch_i + 1,\n",
    "            'Training Loss': avg_train_loss,\n",
    "            'Valid. Loss': avg_val_loss,\n",
    "            'Training Time': training_time,\n",
    "            'Validation Time': validation_time\n",
    "        }\n",
    "    )"
   ]
  },
  {
   "cell_type": "code",
   "execution_count": 29,
   "metadata": {
    "ExecuteTime": {
     "end_time": "2020-11-13T18:39:45.293263Z",
     "start_time": "2020-11-13T18:39:45.250263Z"
    }
   },
   "outputs": [
    {
     "data": {
      "text/html": [
       "<div>\n",
       "<style scoped>\n",
       "    .dataframe tbody tr th:only-of-type {\n",
       "        vertical-align: middle;\n",
       "    }\n",
       "\n",
       "    .dataframe tbody tr th {\n",
       "        vertical-align: top;\n",
       "    }\n",
       "\n",
       "    .dataframe thead th {\n",
       "        text-align: right;\n",
       "    }\n",
       "</style>\n",
       "<table border=\"1\" class=\"dataframe\">\n",
       "  <thead>\n",
       "    <tr style=\"text-align: right;\">\n",
       "      <th></th>\n",
       "      <th>Training Loss</th>\n",
       "      <th>Valid. Loss</th>\n",
       "      <th>Training Time</th>\n",
       "      <th>Validation Time</th>\n",
       "    </tr>\n",
       "    <tr>\n",
       "      <th>epoch</th>\n",
       "      <th></th>\n",
       "      <th></th>\n",
       "      <th></th>\n",
       "      <th></th>\n",
       "    </tr>\n",
       "  </thead>\n",
       "  <tbody>\n",
       "    <tr>\n",
       "      <th>1</th>\n",
       "      <td>1.460307</td>\n",
       "      <td>1.164096</td>\n",
       "      <td>1031.701300</td>\n",
       "      <td>1141.545871</td>\n",
       "    </tr>\n",
       "    <tr>\n",
       "      <th>2</th>\n",
       "      <td>1.131266</td>\n",
       "      <td>1.142229</td>\n",
       "      <td>1039.647360</td>\n",
       "      <td>1151.949011</td>\n",
       "    </tr>\n",
       "    <tr>\n",
       "      <th>3</th>\n",
       "      <td>1.061829</td>\n",
       "      <td>1.135312</td>\n",
       "      <td>1017.380965</td>\n",
       "      <td>1118.942966</td>\n",
       "    </tr>\n",
       "    <tr>\n",
       "      <th>4</th>\n",
       "      <td>1.010875</td>\n",
       "      <td>1.134004</td>\n",
       "      <td>953.047877</td>\n",
       "      <td>1054.434707</td>\n",
       "    </tr>\n",
       "    <tr>\n",
       "      <th>5</th>\n",
       "      <td>0.976582</td>\n",
       "      <td>1.139549</td>\n",
       "      <td>951.889226</td>\n",
       "      <td>1053.089225</td>\n",
       "    </tr>\n",
       "  </tbody>\n",
       "</table>\n",
       "</div>"
      ],
      "text/plain": [
       "       Training Loss  Valid. Loss  Training Time  Validation Time\n",
       "epoch                                                            \n",
       "1           1.460307     1.164096    1031.701300      1141.545871\n",
       "2           1.131266     1.142229    1039.647360      1151.949011\n",
       "3           1.061829     1.135312    1017.380965      1118.942966\n",
       "4           1.010875     1.134004     953.047877      1054.434707\n",
       "5           0.976582     1.139549     951.889226      1053.089225"
      ]
     },
     "execution_count": 29,
     "metadata": {},
     "output_type": "execute_result"
    }
   ],
   "source": [
    "training_df = pd.DataFrame(data=stats)\n",
    "\n",
    "training_df = training_df.set_index('epoch')\n",
    "\n",
    "training_df"
   ]
  },
  {
   "cell_type": "code",
   "execution_count": 35,
   "metadata": {
    "ExecuteTime": {
     "end_time": "2020-11-13T19:31:45.046163Z",
     "start_time": "2020-11-13T19:31:44.924162Z"
    }
   },
   "outputs": [
    {
     "data": {
      "image/png": "[encoded data removed]",
      "text/plain": [
       "<Figure size 864x432 with 1 Axes>"
      ]
     },
     "metadata": {},
     "output_type": "display_data"
    }
   ],
   "source": [
    "sns.set(font_scale=1.5)\n",
    "plt.rcParams[\"figure.figsize\"] = (12,6)\n",
    "plt.plot(training_df['Training Loss'], 'r-o', label=\"Training\")\n",
    "plt.plot(training_df['Valid. Loss'], 'b-o', label=\"Testing\")\n",
    "plt.title(\"Training & Testing Loss\")\n",
    "plt.xlabel(\"Epoch\")\n",
    "plt.ylabel(\"Loss\")\n",
    "plt.legend()\n",
    "plt.xticks([1, 2, 3, 4])\n",
    "plt.show()"
   ]
  },
  {
   "cell_type": "code",
   "execution_count": 44,
   "metadata": {
    "ExecuteTime": {
     "end_time": "2020-11-13T19:44:13.346877Z",
     "start_time": "2020-11-13T19:44:13.343876Z"
    }
   },
   "outputs": [],
   "source": [
    "params = list(model.named_parameters())"
   ]
  },
  {
   "cell_type": "code",
   "execution_count": 52,
   "metadata": {
    "ExecuteTime": {
     "end_time": "2020-11-13T19:45:54.186803Z",
     "start_time": "2020-11-13T19:45:54.181805Z"
    }
   },
   "outputs": [
    {
     "name": "stdout",
     "output_type": "stream",
     "text": [
      "transformer.wte.weight\n",
      "transformer.wpe.weight\n",
      "transformer.h.0.ln_1.weight\n",
      "transformer.h.0.ln_1.bias\n",
      "transformer.h.0.attn.c_attn.weight\n",
      "transformer.h.0.attn.c_attn.bias\n",
      "transformer.h.0.attn.c_proj.weight\n",
      "transformer.h.0.attn.c_proj.bias\n",
      "transformer.h.0.ln_2.weight\n",
      "transformer.h.0.ln_2.bias\n",
      "transformer.h.0.mlp.c_fc.weight\n",
      "transformer.h.0.mlp.c_fc.bias\n",
      "transformer.h.0.mlp.c_proj.weight\n",
      "transformer.h.0.mlp.c_proj.bias\n",
      "transformer.h.1.ln_1.weight\n",
      "transformer.h.1.ln_1.bias\n",
      "transformer.h.1.attn.c_attn.weight\n",
      "transformer.h.1.attn.c_attn.bias\n",
      "transformer.h.1.attn.c_proj.weight\n",
      "transformer.h.1.attn.c_proj.bias\n",
      "transformer.h.1.ln_2.weight\n",
      "transformer.h.1.ln_2.bias\n",
      "transformer.h.1.mlp.c_fc.weight\n",
      "transformer.h.1.mlp.c_fc.bias\n",
      "transformer.h.1.mlp.c_proj.weight\n",
      "transformer.h.1.mlp.c_proj.bias\n",
      "transformer.h.2.ln_1.weight\n",
      "transformer.h.2.ln_1.bias\n",
      "transformer.h.2.attn.c_attn.weight\n",
      "transformer.h.2.attn.c_attn.bias\n",
      "transformer.h.2.attn.c_proj.weight\n",
      "transformer.h.2.attn.c_proj.bias\n",
      "transformer.h.2.ln_2.weight\n",
      "transformer.h.2.ln_2.bias\n",
      "transformer.h.2.mlp.c_fc.weight\n",
      "transformer.h.2.mlp.c_fc.bias\n",
      "transformer.h.2.mlp.c_proj.weight\n",
      "transformer.h.2.mlp.c_proj.bias\n",
      "transformer.h.3.ln_1.weight\n",
      "transformer.h.3.ln_1.bias\n",
      "transformer.h.3.attn.c_attn.weight\n",
      "transformer.h.3.attn.c_attn.bias\n",
      "transformer.h.3.attn.c_proj.weight\n",
      "transformer.h.3.attn.c_proj.bias\n",
      "transformer.h.3.ln_2.weight\n",
      "transformer.h.3.ln_2.bias\n",
      "transformer.h.3.mlp.c_fc.weight\n",
      "transformer.h.3.mlp.c_fc.bias\n",
      "transformer.h.3.mlp.c_proj.weight\n",
      "transformer.h.3.mlp.c_proj.bias\n",
      "transformer.h.4.ln_1.weight\n",
      "transformer.h.4.ln_1.bias\n",
      "transformer.h.4.attn.c_attn.weight\n",
      "transformer.h.4.attn.c_attn.bias\n",
      "transformer.h.4.attn.c_proj.weight\n",
      "transformer.h.4.attn.c_proj.bias\n",
      "transformer.h.4.ln_2.weight\n",
      "transformer.h.4.ln_2.bias\n",
      "transformer.h.4.mlp.c_fc.weight\n",
      "transformer.h.4.mlp.c_fc.bias\n",
      "transformer.h.4.mlp.c_proj.weight\n",
      "transformer.h.4.mlp.c_proj.bias\n",
      "transformer.h.5.ln_1.weight\n",
      "transformer.h.5.ln_1.bias\n",
      "transformer.h.5.attn.c_attn.weight\n",
      "transformer.h.5.attn.c_attn.bias\n",
      "transformer.h.5.attn.c_proj.weight\n",
      "transformer.h.5.attn.c_proj.bias\n",
      "transformer.h.5.ln_2.weight\n",
      "transformer.h.5.ln_2.bias\n",
      "transformer.h.5.mlp.c_fc.weight\n",
      "transformer.h.5.mlp.c_fc.bias\n",
      "transformer.h.5.mlp.c_proj.weight\n",
      "transformer.h.5.mlp.c_proj.bias\n",
      "transformer.h.6.ln_1.weight\n",
      "transformer.h.6.ln_1.bias\n",
      "transformer.h.6.attn.c_attn.weight\n",
      "transformer.h.6.attn.c_attn.bias\n",
      "transformer.h.6.attn.c_proj.weight\n",
      "transformer.h.6.attn.c_proj.bias\n",
      "transformer.h.6.ln_2.weight\n",
      "transformer.h.6.ln_2.bias\n",
      "transformer.h.6.mlp.c_fc.weight\n",
      "transformer.h.6.mlp.c_fc.bias\n",
      "transformer.h.6.mlp.c_proj.weight\n",
      "transformer.h.6.mlp.c_proj.bias\n",
      "transformer.h.7.ln_1.weight\n",
      "transformer.h.7.ln_1.bias\n",
      "transformer.h.7.attn.c_attn.weight\n",
      "transformer.h.7.attn.c_attn.bias\n",
      "transformer.h.7.attn.c_proj.weight\n",
      "transformer.h.7.attn.c_proj.bias\n",
      "transformer.h.7.ln_2.weight\n",
      "transformer.h.7.ln_2.bias\n",
      "transformer.h.7.mlp.c_fc.weight\n",
      "transformer.h.7.mlp.c_fc.bias\n",
      "transformer.h.7.mlp.c_proj.weight\n",
      "transformer.h.7.mlp.c_proj.bias\n",
      "transformer.h.8.ln_1.weight\n",
      "transformer.h.8.ln_1.bias\n",
      "transformer.h.8.attn.c_attn.weight\n",
      "transformer.h.8.attn.c_attn.bias\n",
      "transformer.h.8.attn.c_proj.weight\n",
      "transformer.h.8.attn.c_proj.bias\n",
      "transformer.h.8.ln_2.weight\n",
      "transformer.h.8.ln_2.bias\n",
      "transformer.h.8.mlp.c_fc.weight\n",
      "transformer.h.8.mlp.c_fc.bias\n",
      "transformer.h.8.mlp.c_proj.weight\n",
      "transformer.h.8.mlp.c_proj.bias\n",
      "transformer.h.9.ln_1.weight\n",
      "transformer.h.9.ln_1.bias\n",
      "transformer.h.9.attn.c_attn.weight\n",
      "transformer.h.9.attn.c_attn.bias\n",
      "transformer.h.9.attn.c_proj.weight\n",
      "transformer.h.9.attn.c_proj.bias\n",
      "transformer.h.9.ln_2.weight\n",
      "transformer.h.9.ln_2.bias\n",
      "transformer.h.9.mlp.c_fc.weight\n",
      "transformer.h.9.mlp.c_fc.bias\n",
      "transformer.h.9.mlp.c_proj.weight\n",
      "transformer.h.9.mlp.c_proj.bias\n",
      "transformer.h.10.ln_1.weight\n",
      "transformer.h.10.ln_1.bias\n",
      "transformer.h.10.attn.c_attn.weight\n",
      "transformer.h.10.attn.c_attn.bias\n",
      "transformer.h.10.attn.c_proj.weight\n",
      "transformer.h.10.attn.c_proj.bias\n",
      "transformer.h.10.ln_2.weight\n",
      "transformer.h.10.ln_2.bias\n",
      "transformer.h.10.mlp.c_fc.weight\n",
      "transformer.h.10.mlp.c_fc.bias\n",
      "transformer.h.10.mlp.c_proj.weight\n",
      "transformer.h.10.mlp.c_proj.bias\n",
      "transformer.h.11.ln_1.weight\n",
      "transformer.h.11.ln_1.bias\n",
      "transformer.h.11.attn.c_attn.weight\n",
      "transformer.h.11.attn.c_attn.bias\n",
      "transformer.h.11.attn.c_proj.weight\n",
      "transformer.h.11.attn.c_proj.bias\n",
      "transformer.h.11.ln_2.weight\n",
      "transformer.h.11.ln_2.bias\n",
      "transformer.h.11.mlp.c_fc.weight\n",
      "transformer.h.11.mlp.c_fc.bias\n",
      "transformer.h.11.mlp.c_proj.weight\n",
      "transformer.h.11.mlp.c_proj.bias\n",
      "transformer.ln_f.weight\n",
      "transformer.ln_f.bias\n"
     ]
    }
   ],
   "source": [
    "for param in params:\n",
    "    print(param[0])"
   ]
  },
  {
   "cell_type": "code",
   "execution_count": 53,
   "metadata": {
    "ExecuteTime": {
     "end_time": "2020-11-13T19:48:42.171694Z",
     "start_time": "2020-11-13T19:48:42.166693Z"
    }
   },
   "outputs": [],
   "source": [
    "output_dir = './model_save/'\n",
    "\n",
    "if not os.path.exists(output_dir):\n",
    "    os.makedirs(output_dir)"
   ]
  },
  {
   "cell_type": "code",
   "execution_count": 55,
   "metadata": {
    "ExecuteTime": {
     "end_time": "2020-11-13T19:49:20.881724Z",
     "start_time": "2020-11-13T19:49:20.878724Z"
    }
   },
   "outputs": [
    {
     "name": "stdout",
     "output_type": "stream",
     "text": [
      "Saving model to ./model_save/\n"
     ]
    }
   ],
   "source": [
    "print(\"Saving model to {}\".format(output_dir))"
   ]
  },
  {
   "cell_type": "code",
   "execution_count": 56,
   "metadata": {
    "ExecuteTime": {
     "end_time": "2020-11-13T19:52:16.026553Z",
     "start_time": "2020-11-13T19:52:14.581877Z"
    }
   },
   "outputs": [
    {
     "data": {
      "text/plain": [
       "('./model_save/tokenizer_config.json',\n",
       " './model_save/special_tokens_map.json',\n",
       " './model_save/vocab.json',\n",
       " './model_save/merges.txt',\n",
       " './model_save/added_tokens.json')"
      ]
     },
     "execution_count": 56,
     "metadata": {},
     "output_type": "execute_result"
    }
   ],
   "source": [
    "model_to_save = model.module if hasattr(model, 'module') else model\n",
    "model_to_save.save_pretrained(output_dir)\n",
    "tokenizer.save_pretrained(output_dir)"
   ]
  },
  {
   "cell_type": "code",
   "execution_count": 67,
   "metadata": {
    "ExecuteTime": {
     "end_time": "2020-11-13T20:19:16.609693Z",
     "start_time": "2020-11-13T20:19:09.581689Z"
    }
   },
   "outputs": [
    {
     "name": "stderr",
     "output_type": "stream",
     "text": [
      "Setting `pad_token_id` to `eos_token_id`:50256 for open-end generation.\n"
     ]
    },
    {
     "name": "stdout",
     "output_type": "stream",
     "text": [
      "tensor([[  27,   91, 9688, 1659, 5239,   91,   29,  383, 1492]],\n",
      "       device='cuda:0')\n",
      "0: <|startoftext|> The book was written in a time period when the average American girl was still learning to read.\n",
      "\n",
      "It was not only good for the young girl, but it was also a very good story for the man in the picture.\n",
      "\n",
      "I read about the book once, but I think that it took longer for me to read, due to the many times I had to re-read it over and over again.\n",
      "\n",
      "I guess that is why it is considered a classic.\n",
      "\n",
      "\n",
      "1: <|startoftext|> The book, A Feast for Crows (1968), was originally published in English by Simon & Shuster and released in 1967.  This story, A Dance with Dragons, begins at the end of the Song of Ice and Fire series but is essentially the same book from the first book.\n",
      "The first chapter of this book starts with Jon Snow being taken prisoner in King's Landing while he is being taken in.  In the next chapter, he is taken to the battlefield of the Seven Kingdoms to serve as a hostage to the Targaryen fleet.  Jon, the youngest Stark son, is given the task of serving as the head of the fleet to protect Daenerys Targaryen from an attack on the Wall, only to be rescued by Catelyn Stark.  In the end of the novel, the characters in this story are mainly Sansa Stark, Tyrion Lannister, Daenerys Targaryen and Arya Stark.\n",
      "The plot of this book is pretty much the same as the first two novels but in some parts it is not nearly as interesting as the first two novels.  There is a lot of description and dialogue between the characters throughout the book but the plot does not move as much as the first two novels did.  The only character that I really liked about this book was Daenerys.  There were so many characters that it was hard to keep track of but I would recommend reading the book if you haven't read the first three novels.  Although the plot is moving at a good pace and does move at a decent pace towards the end, this book felt a bit boring at times.  Overall, I did not like it.\n",
      "Overall, if you read the last two novels that were based on this story the second half of the book did not stand up to the first two novels.  I also feel that the book is a bit too long for the plot line that was the first three novels but still leaves a great deal of cliff hangers.  In fact, I would have been better off having read the novels instead of waiting for the last few pages for the last book.\n",
      "\n",
      "\n",
      "2: <|startoftext|> The book begins with a brief introduction by a man who lived with his grandfather in Scotland.  Mr. Beard describes himself in a way that makes  that description even more relevant to his subject.  He also describes himself in  a way that makes it difficult for readers to understand what's actually happening, because  you are given the impression that it is the kind of story that can be told if one reads  quite clearly.\n",
      "\n",
      "The novel begins in  1770 in London and proceeds through the period between that time and that of the  independence of Scotland from England, making clear that the events of the book are not in  order.\n",
      "\n",
      "It's interesting to note that Mr. Beard states that he lived with his grandfather, and is also mentioned as the son of a  Scottish clerk at the Scottish Court.\n",
      "\n",
      "Mr. Beard also states that he went to work in London when he was twenty-one and that his father was a doctor.  This is clearly evident in his descriptions of the  people of Scotland as they grew up and the ways in which their customs were  adopted and changed by their parents.\n",
      "\n",
      "The book is a fast-paced novel that is not predictable.  It's difficult to believe that his grandfather actually lived in Scotland, and that the author was not familiar with either.  The book is very engaging in that it was written by someone who did not live  there, and the author's ability  to relate the people's stories was extremely impressive.\n",
      "\n",
      "The only problem I have with this book is the ending.  The book left me hanging and frustrated with it.  I'm not sure why I would bother with a third of the book and buy the fifth.  It does  seem more appropriate to read if Mr. Beard actually lived there.\n",
      "\n",
      "\n",
      "3: <|startoftext|> The book is in excellent condition, and very helpful!  The only problem I have with this one is the print.  I wanted the book to be smaller, but I was happy to get smaller, as I have no other printed books, so maybe that would be a plus.\n",
      "\n",
      "If you're looking for a small book with a tiny print this will be the kind of book for you.  You would have to be a little extra light to read this, but overall I'm happy with the size.\n",
      "\n",
      "\n",
      "4: <|startoftext|> The book's format is  like a book with 4 books, 2 of which are numbered  \"B\" (the first, the most prominent) and  \"C\" (the last).  Both books have a brief introduction  (B) and an  introductory introduction (C), but they are so  different that they have nothing in common.  The introduction is  somewhat difficult to follow at first because of the large number of  characters, but once you start reading the introductory  introduction, you realize that you are reading this book.  It has lots of very important information.  It is an excellent source  for any preteen and adult (or any preteen and  adult reader). It's not a textbook.  There's not much  of a reason to use it.\n",
      "The \"B\" and \"C\" books are very interesting, and  they are the first books I have really read about  sex education.  You might find them very interesting if you  have the patience, imagination, and the patience to read these books  in the middle of a rainy day.\n",
      "\n",
      "\n"
     ]
    }
   ],
   "source": [
    "model.eval()\n",
    "\n",
    "prompt = \"<|startoftext|> The book\"\n",
    "\n",
    "generated = torch.tensor(tokenizer.encode(prompt)).unsqueeze(0)\n",
    "generated = generated.to(device)\n",
    "\n",
    "print(generated)\n",
    "\n",
    "sample_outputs = model.generate(\n",
    "                                generated, \n",
    "                                do_sample=True,   \n",
    "                                top_k=30, \n",
    "                                min_length=20,\n",
    "                                max_length = 500,\n",
    "                                top_p=0.95,\n",
    "                                num_return_sequences=5\n",
    "                                )\n",
    "\n",
    "for i, sample_output in enumerate(sample_outputs):\n",
    "  print(\"{}: {}\\n\\n\".format(i, tokenizer.decode(sample_output, skip_special_tokens=True)))"
   ]
  },
  {
   "cell_type": "code",
   "execution_count": null,
   "metadata": {},
   "outputs": [],
   "source": []
  }
 ],
 "metadata": {
  "kernelspec": {
   "display_name": "learn-env2",
   "language": "python",
   "name": "myenv"
  },
  "language_info": {
   "codemirror_mode": {
    "name": "ipython",
    "version": 3
   },
   "file_extension": ".py",
   "mimetype": "text/x-python",
   "name": "python",
   "nbconvert_exporter": "python",
   "pygments_lexer": "ipython3",
   "version": "3.6.9"
  },
  "toc": {
   "base_numbering": 1,
   "nav_menu": {},
   "number_sections": true,
   "sideBar": true,
   "skip_h1_title": false,
   "title_cell": "Table of Contents",
   "title_sidebar": "Contents",
   "toc_cell": false,
   "toc_position": {
    "height": "calc(100% - 180px)",
    "left": "10px",
    "top": "150px",
    "width": "305.455px"
   },
   "toc_section_display": true,
   "toc_window_display": true
  }
 },
 "nbformat": 4,
 "nbformat_minor": 2
}
