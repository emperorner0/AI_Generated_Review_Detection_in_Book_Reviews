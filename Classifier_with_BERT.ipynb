{
 "cells": [
  {
   "cell_type": "markdown",
   "metadata": {},
   "source": [
    "Name: Samuel Middleton <br>\n",
    "Email: samuelmiddleton93@gmail.com <br>\n",
    "Github: https://github.com/emperorner0 <br>\n",
    "Project: Bot Generated Review Detection using BERT"
   ]
  },
  {
   "cell_type": "markdown",
   "metadata": {
    "toc": true
   },
   "source": [
    "<h1>Table of Contents<span class=\"tocSkip\"></span></h1>\n",
    "<div class=\"toc\"><ul class=\"toc-item\"><li><span><a href=\"#Abstract\" data-toc-modified-id=\"Abstract-1\"><span class=\"toc-item-num\">1&nbsp;&nbsp;</span>Abstract</a></span></li><li><span><a href=\"#Consumer-Trust\" data-toc-modified-id=\"Consumer-Trust-2\"><span class=\"toc-item-num\">2&nbsp;&nbsp;</span>Consumer Trust</a></span><ul class=\"toc-item\"><li><span><a href=\"#The-Issue-with-Online-Reviews\" data-toc-modified-id=\"The-Issue-with-Online-Reviews-2.1\"><span class=\"toc-item-num\">2.1&nbsp;&nbsp;</span>The Issue with Online Reviews</a></span></li><li><span><a href=\"#The-Solution\" data-toc-modified-id=\"The-Solution-2.2\"><span class=\"toc-item-num\">2.2&nbsp;&nbsp;</span>The Solution</a></span></li></ul></li><li><span><a href=\"#Importations\" data-toc-modified-id=\"Importations-3\"><span class=\"toc-item-num\">3&nbsp;&nbsp;</span>Importations</a></span></li><li><span><a href=\"#Helper-Functions\" data-toc-modified-id=\"Helper-Functions-4\"><span class=\"toc-item-num\">4&nbsp;&nbsp;</span>Helper Functions</a></span></li><li><span><a href=\"#Data-prep\" data-toc-modified-id=\"Data-prep-5\"><span class=\"toc-item-num\">5&nbsp;&nbsp;</span>Data prep</a></span></li><li><span><a href=\"#Model-Prep\" data-toc-modified-id=\"Model-Prep-6\"><span class=\"toc-item-num\">6&nbsp;&nbsp;</span>Model Prep</a></span><ul class=\"toc-item\"><li><span><a href=\"#Train-test-split\" data-toc-modified-id=\"Train-test-split-6.1\"><span class=\"toc-item-num\">6.1&nbsp;&nbsp;</span>Train-test split</a></span></li><li><span><a href=\"#Model-and-tokenizer-assignment\" data-toc-modified-id=\"Model-and-tokenizer-assignment-6.2\"><span class=\"toc-item-num\">6.2&nbsp;&nbsp;</span>Model and tokenizer assignment</a></span></li><li><span><a href=\"#Bidirectional-Encoder-Representations-from-Transformers-(BERT)--Model\" data-toc-modified-id=\"Bidirectional-Encoder-Representations-from-Transformers-(BERT)--Model-6.3\"><span class=\"toc-item-num\">6.3&nbsp;&nbsp;</span>Bidirectional Encoder Representations from Transformers (BERT)  Model</a></span><ul class=\"toc-item\"><li><span><a href=\"#Transformers\" data-toc-modified-id=\"Transformers-6.3.1\"><span class=\"toc-item-num\">6.3.1&nbsp;&nbsp;</span>Transformers</a></span></li><li><span><a href=\"#BERT-Mechanics\" data-toc-modified-id=\"BERT-Mechanics-6.3.2\"><span class=\"toc-item-num\">6.3.2&nbsp;&nbsp;</span>BERT Mechanics</a></span></li><li><span><a href=\"#BERT-Metrics\" data-toc-modified-id=\"BERT-Metrics-6.3.3\"><span class=\"toc-item-num\">6.3.3&nbsp;&nbsp;</span>BERT Metrics</a></span></li></ul></li><li><span><a href=\"#Length-Analysis\" data-toc-modified-id=\"Length-Analysis-6.4\"><span class=\"toc-item-num\">6.4&nbsp;&nbsp;</span>Length Analysis</a></span></li><li><span><a href=\"#Tokenization\" data-toc-modified-id=\"Tokenization-6.5\"><span class=\"toc-item-num\">6.5&nbsp;&nbsp;</span>Tokenization</a></span></li></ul></li><li><span><a href=\"#Dataloaders\" data-toc-modified-id=\"Dataloaders-7\"><span class=\"toc-item-num\">7&nbsp;&nbsp;</span>Dataloaders</a></span><ul class=\"toc-item\"><li><ul class=\"toc-item\"><li><span><a href=\"#PyTorch-Dataloader\" data-toc-modified-id=\"PyTorch-Dataloader-7.0.1\"><span class=\"toc-item-num\">7.0.1&nbsp;&nbsp;</span>PyTorch Dataloader</a></span></li></ul></li></ul></li><li><span><a href=\"#Model\" data-toc-modified-id=\"Model-8\"><span class=\"toc-item-num\">8&nbsp;&nbsp;</span>Model</a></span><ul class=\"toc-item\"><li><ul class=\"toc-item\"><li><span><a href=\"#Model-Architecture\" data-toc-modified-id=\"Model-Architecture-8.0.1\"><span class=\"toc-item-num\">8.0.1&nbsp;&nbsp;</span>Model Architecture</a></span></li></ul></li><li><span><a href=\"#Hyperparameters\" data-toc-modified-id=\"Hyperparameters-8.1\"><span class=\"toc-item-num\">8.1&nbsp;&nbsp;</span>Hyperparameters</a></span><ul class=\"toc-item\"><li><span><a href=\"#AdamW\" data-toc-modified-id=\"AdamW-8.1.1\"><span class=\"toc-item-num\">8.1.1&nbsp;&nbsp;</span>AdamW</a></span></li><li><span><a href=\"#Training-Epochs\" data-toc-modified-id=\"Training-Epochs-8.1.2\"><span class=\"toc-item-num\">8.1.2&nbsp;&nbsp;</span>Training Epochs</a></span></li></ul></li><li><span><a href=\"#Training-loop\" data-toc-modified-id=\"Training-loop-8.2\"><span class=\"toc-item-num\">8.2&nbsp;&nbsp;</span>Training loop</a></span></li></ul></li><li><span><a href=\"#Testing\" data-toc-modified-id=\"Testing-9\"><span class=\"toc-item-num\">9&nbsp;&nbsp;</span>Testing</a></span><ul class=\"toc-item\"><li><span><a href=\"#Saving\" data-toc-modified-id=\"Saving-9.1\"><span class=\"toc-item-num\">9.1&nbsp;&nbsp;</span>Saving</a></span></li></ul></li><li><span><a href=\"#Conclusion\" data-toc-modified-id=\"Conclusion-10\"><span class=\"toc-item-num\">10&nbsp;&nbsp;</span>Conclusion</a></span><ul class=\"toc-item\"><li><ul class=\"toc-item\"><li><span><a href=\"#1.-Transfer-Learning\" data-toc-modified-id=\"1.-Transfer-Learning-10.0.1\"><span class=\"toc-item-num\">10.0.1&nbsp;&nbsp;</span>1. Transfer Learning</a></span></li><li><span><a href=\"#2.-Training-Times\" data-toc-modified-id=\"2.-Training-Times-10.0.2\"><span class=\"toc-item-num\">10.0.2&nbsp;&nbsp;</span>2. Training Times</a></span></li><li><span><a href=\"#3.-Market-Backend-or-Customer-Frontend\" data-toc-modified-id=\"3.-Market-Backend-or-Customer-Frontend-10.0.3\"><span class=\"toc-item-num\">10.0.3&nbsp;&nbsp;</span>3. Market Backend or Customer Frontend</a></span></li></ul></li><li><span><a href=\"#Future-Work\" data-toc-modified-id=\"Future-Work-10.1\"><span class=\"toc-item-num\">10.1&nbsp;&nbsp;</span>Future Work</a></span><ul class=\"toc-item\"><li><span><a href=\"#1.-Deployment\" data-toc-modified-id=\"1.-Deployment-10.1.1\"><span class=\"toc-item-num\">10.1.1&nbsp;&nbsp;</span>1. Deployment</a></span></li><li><span><a href=\"#2.-Further-Tuning\" data-toc-modified-id=\"2.-Further-Tuning-10.1.2\"><span class=\"toc-item-num\">10.1.2&nbsp;&nbsp;</span>2. Further Tuning</a></span></li></ul></li></ul></li></ul></div>"
   ]
  },
  {
   "cell_type": "markdown",
   "metadata": {},
   "source": [
    "# Abstract \n",
    "7\n",
    "Online market stability is predicated upon consumer trust. Most online platforms provide an open and semi-anonymous platform for posting reviews for a wide range of products. Due to the open and anonymous nature of these platforms, they're vulnerable to reviews being faked, and the most efficient way to do this is to generate reviews using one of the many advanced Natural Language Processing (NLP) pre-trained models. These models are generally offered as free and open-source research projects that utilize advanced research into language processing and semantic understanding. We have developed a Machine Learning product that utilizes, in some cases, the same technology that these blackhat users work with in order to detect these AI-generated fake reviews.\n",
    "\n",
    "We have utilized transfer learning techniques in order to design a robust detection system. Transfer learning is the simple act of storing knowledge gained solving one problem and applying it to another problem. We have achieved this by utilizing two cutting-edge NLP model architectures, OpenAI's GPT2, and Google AI's BERT. These models utilize an advanced Neural Network concept known as Transformer architecture which utilizes stacks of encoders and/or decoders to process text data in a way that can draw context from surrounding words in a sequence.\n",
    "\n",
    "We leveraged GPT2's specialization in text generation and BERT's ability to classify text. Using a set of 50,000 Amazon book reviews sampled from 51 million reviews we were able to fine-tune GPT2 to generate book reviews. We were able to then use the real reviews combined with the fake reviews to generate a labeled dataset of 100,000 reviews on which to train our BERT classifier. We were able to design an architecture that would work when layered on BERT to allow for greater classification abilities. With this architecture combined with a base layer of BERT we were able to achieve an 80% success rate in detecting our AI-generated reviews."
   ]
  },
  {
   "cell_type": "markdown",
   "metadata": {},
   "source": [
    "# Consumer Trust"
   ]
  },
  {
   "cell_type": "markdown",
   "metadata": {},
   "source": [
    "One of the most important consumer metrics for shopping in general, but even more so for online shopping, is almost immeasurable. \n",
    "\n",
    "Trust is an invaluable tool that wielded correctly can build a platform, product, or service to must-have status in our *have-it-now* society. The flip side of that coin is that a single viral video can destroy your brand or product overnight. These are both exciting and scary prospects for any business that are facing them. The entire world is peer reviewed now and one of the ways that this is most obvious is through customer interaction via reviews. Customer reviews sell products. \n",
    "\n",
    "According to *Insider Intelligence*, a market leader in marketing and business insights: \n",
    "\n",
    "> In yet another sign that online reviews can make or break the path to purchase, June 2019 research from Trustpilot found that consumers would lose trust in a brand not only if they saw negative reviews—but also if the brand went one step further and deleted them.<br><br>\n",
    "For a majority **(95.0%)** of the digital shoppers surveyed worldwide, that type of behavior played a big role in their distrust of a company, as did not having any reviews at all **(cited by 81.0%)**.<br><br>\n",
    "**When asked what factors would lead to an increase in brand trust, three of the top 10 factors centered around reviews.** Nearly all respondents said positive customer reviews increased their trust in a brand, while 80.1% said they trusted companies that have a lot of customers reviews. Interestingly, if a company responded to negative customer comments, that would drive up trust for 79.9% of those surveyed.\n",
    "\n",
    "*(emphasis added)*\n",
    "\n",
    "![Review image](Images/consumer_trust.png)\n",
    "\n",
    "![Review image](Images/reviews_graph.png)\n",
    "\n",
    "<br><br>\n",
    "As the pandemic has further transitioned our economy into an online and digital economy these consumer reviews hold even more weight. We can see the rapid growth of online shopping visits in just the first half of 2020 in this chart on Statista:\n",
    "\n",
    "![Review image](Images/coronavirus_header.png)\n",
    "![Review image](Images/ronashopping.png)\n",
    "\n",
    "\n",
    "## The Issue with Online Reviews\n",
    "\n",
    "Online reviews are one of the many forms of semi-anonymous means of communication that are available on the internet. As we've seen with the numbers provided by TrustPilot and Insider Intelligence **95%** of individuals are influenced by a positive online reputation and **93%** are influenced by positive reviews. The inverse is also true with **95%** of respondents being influenced by negative reviews or comments. This system and influence can be greatly abused by our advancing technology.\n",
    "\n",
    "There is a dark side to the exponential advances in machine learning that we have seen in relation to things such as **Natural Language Processing (NLP)**. These techniques are being applied to the manipulation of customers. \n",
    "\n",
    "The [*Scientific American*](https://www.scientificamerican.com/article/could-ai-be-the-future-of-fake-news-and-product-reviews/) covered this in an article in late 2017:\n",
    "\n",
    "> When Hillary Clinton’s new book What Happened debuted on Amazon’s Web site last month, the response was incredible. So incredible, that of the 1,600 reviews posted on the book’s Amazon page in just a few hours, the company soon deleted 900 it suspected of being bogus: written by people who said they loved or hated the book, but had neither purchased nor likely even read it. Fake product reviews—prompted by payola or more nefarious motives—are nothing new, but they are set to become a bigger problem as tricksters find new ways of automating online misinformation campaigns launched to sway public opinion.\n",
    "\n",
    "Consider that 3 years in tech development is exponential as our research advances at an incredible pace these fake review generations have become easier and easier. Generating fake reviews, once the domain of University research labs, is now available to anyone with enough technical acumen and seed money to rent GPU power. It has become easier and easier to cheat the system, and while the opposition technology increases at a similar rate edge cases will always fall through the cracks.\n",
    "\n",
    "It isn't difficult to imagine a full pipeline of ML assisted tools that could be deployed from front to back to assist with anything from fake review generation to political twitter bots. \n",
    "\n",
    "- Simple web-interaction scripts to create bogus accounts and email addresses.\n",
    "- Use of open datasets to train cloud based ML solutions through one of the widely available frameworks. \n",
    "    1. Allows for flexible maintenance\n",
    "    2. Continual updates and improvement to maintain relevance\n",
    "    3. Easy distribution\n",
    "- Dashboard deployment for use of the product as a service (SaaS).\n",
    "\n",
    "## The Solution\n",
    "\n",
    "Fight fire with fire.\n",
    "\n",
    "Push has came to shove in this end-user manipulation fight. We can use the same tools that the black-hat users leverage to beat them at their own game. Fortune 500s are using their resources to combat this issue, but the nefarious users abusing these review systems are more agile in most cases. Large scale deployment and corporate-bureaucratic are slow processes that will always be behind the curve. It is important to employ a faster and more efficient method.\n",
    "\n",
    "This efficient method is using one of the robust and pre-trained models to base the foundation of our fake detection bots. Making use of deeply researched and efficiently trained models will allow for a quicker turnaround and a more fine-tuned approach to modeling."
   ]
  },
  {
   "cell_type": "markdown",
   "metadata": {},
   "source": [
    "# Importations"
   ]
  },
  {
   "cell_type": "code",
   "execution_count": 31,
   "metadata": {
    "ExecuteTime": {
     "end_time": "2020-12-03T22:12:07.459925Z",
     "start_time": "2020-12-03T22:12:07.453924Z"
    }
   },
   "outputs": [],
   "source": [
    "# Standard visualization and data management libraries\n",
    "import pandas as pd\n",
    "import numpy as np\n",
    "import matplotlib.pyplot as plt\n",
    "import seaborn as sns\n",
    "import plotly.express as px\n",
    "\n",
    "# Torch and Transformers libraries used\n",
    "import torch\n",
    "from torch.utils.data import TensorDataset, DataLoader, RandomSampler, SequentialSampler\n",
    "from torchtext.data import Field, TabularDataset, BucketIterator, Iterator\n",
    "import torch.nn as nn\n",
    "import torch.nn.functional as F\n",
    "import transformers\n",
    "from transformers import AutoModel, BertTokenizerFast, AdamW, DistilBertConfig, DistilBertModel\n",
    "from transformers import DistilBertTokenizerFast\n",
    "import torch.optim as optim\n",
    "from torchsummary import summary\n",
    "\n",
    "# Scikit Learn library selection\n",
    "from sklearn.model_selection import train_test_split\n",
    "from sklearn.metrics import accuracy_score, classification_report, confusion_matrix\n",
    "from sklearn.utils.class_weight import compute_class_weight\n",
    "\n",
    "# Utility libraries\n",
    "import time\n",
    "import os\n",
    "from tqdm.notebook import tqdm_notebook as tqdm\n",
    "import random"
   ]
  },
  {
   "cell_type": "code",
   "execution_count": 2,
   "metadata": {
    "ExecuteTime": {
     "end_time": "2020-12-03T22:11:29.140926Z",
     "start_time": "2020-12-03T22:11:29.137926Z"
    }
   },
   "outputs": [],
   "source": [
    "# Supress warnings\n",
    "import warnings\n",
    "warnings.filterwarnings(\"ignore\")"
   ]
  },
  {
   "cell_type": "code",
   "execution_count": 3,
   "metadata": {
    "ExecuteTime": {
     "end_time": "2020-12-03T22:11:29.147925Z",
     "start_time": "2020-12-03T22:11:29.142926Z"
    }
   },
   "outputs": [],
   "source": [
    "# Save model functionality \n",
    "save = False"
   ]
  },
  {
   "cell_type": "markdown",
   "metadata": {},
   "source": [
    "# Helper Functions"
   ]
  },
  {
   "cell_type": "markdown",
   "metadata": {},
   "source": [
    "A small helper function that takes in a dataframe of text and returns only entries with under *N* tokens. (A token being a single word)"
   ]
  },
  {
   "cell_type": "code",
   "execution_count": 4,
   "metadata": {
    "ExecuteTime": {
     "end_time": "2020-12-03T22:11:29.154928Z",
     "start_time": "2020-12-03T22:11:29.149926Z"
    }
   },
   "outputs": [],
   "source": [
    "def remove_over(df, leng = 512, target='reviews', labels='label'):\n",
    "    '''Checks text length for being over 512 tokens, \n",
    "    which bert-base does not support. Returns a dataframe of all\n",
    "    entries under 512 tokens.'''\n",
    "    seq_list = []\n",
    "    seq_len = [len(i.split()) for i in df[target]]\n",
    "    ugh = []\n",
    "    for x, y in enumerate(seq_len):\n",
    "        if y > leng:\n",
    "            ugh.append(x)\n",
    "            \n",
    "    df_tuple = zip(df[target], df[labels])\n",
    "    \n",
    "    for x, text in enumerate(df_tuple):\n",
    "        if x not in ugh:\n",
    "            seq_list.append(text)\n",
    "            \n",
    "    seq_df = pd.DataFrame(seq_list, columns=['reviews','label'])\n",
    "    \n",
    "    return seq_df"
   ]
  },
  {
   "cell_type": "markdown",
   "metadata": {},
   "source": [
    "# Data prep"
   ]
  },
  {
   "cell_type": "markdown",
   "metadata": {},
   "source": [
    "Pulling in our generated fake reviews and our saved real reviews. \n",
    "\n",
    "Fake reviews are generated by a **GPT2** text generator tuned with **50,000** Amazon book reviews."
   ]
  },
  {
   "cell_type": "code",
   "execution_count": 5,
   "metadata": {
    "ExecuteTime": {
     "end_time": "2020-12-03T22:11:29.594924Z",
     "start_time": "2020-12-03T22:11:29.155927Z"
    }
   },
   "outputs": [
    {
     "data": {
      "text/html": [
       "<div>\n",
       "<style scoped>\n",
       "    .dataframe tbody tr th:only-of-type {\n",
       "        vertical-align: middle;\n",
       "    }\n",
       "\n",
       "    .dataframe tbody tr th {\n",
       "        vertical-align: top;\n",
       "    }\n",
       "\n",
       "    .dataframe thead th {\n",
       "        text-align: right;\n",
       "    }\n",
       "</style>\n",
       "<table border=\"1\" class=\"dataframe\">\n",
       "  <thead>\n",
       "    <tr style=\"text-align: right;\">\n",
       "      <th></th>\n",
       "      <th>Unnamed: 0</th>\n",
       "      <th>reviews</th>\n",
       "      <th>label</th>\n",
       "    </tr>\n",
       "  </thead>\n",
       "  <tbody>\n",
       "    <tr>\n",
       "      <th>0</th>\n",
       "      <td>41830</td>\n",
       "      <td>So enjoyable!!! If you are a fan of the serie...</td>\n",
       "      <td>1</td>\n",
       "    </tr>\n",
       "    <tr>\n",
       "      <th>1</th>\n",
       "      <td>23419</td>\n",
       "      <td>This book brings together a lot of history an...</td>\n",
       "      <td>1</td>\n",
       "    </tr>\n",
       "    <tr>\n",
       "      <th>2</th>\n",
       "      <td>31825</td>\n",
       "      <td>Good work but I would have liked to see more ...</td>\n",
       "      <td>1</td>\n",
       "    </tr>\n",
       "    <tr>\n",
       "      <th>3</th>\n",
       "      <td>27356</td>\n",
       "      <td>(Im writing this review in the order it is re...</td>\n",
       "      <td>1</td>\n",
       "    </tr>\n",
       "    <tr>\n",
       "      <th>4</th>\n",
       "      <td>9883</td>\n",
       "      <td>excelente libro de hyenuk, en uno poco, cono ...</td>\n",
       "      <td>1</td>\n",
       "    </tr>\n",
       "    <tr>\n",
       "      <th>...</th>\n",
       "      <td>...</td>\n",
       "      <td>...</td>\n",
       "      <td>...</td>\n",
       "    </tr>\n",
       "    <tr>\n",
       "      <th>49995</th>\n",
       "      <td>10505</td>\n",
       "      <td>Russells Introduction is a page-turner, and i...</td>\n",
       "      <td>1</td>\n",
       "    </tr>\n",
       "    <tr>\n",
       "      <th>49996</th>\n",
       "      <td>12747</td>\n",
       "      <td>Quick and easy ordering and shipping.  It arr...</td>\n",
       "      <td>1</td>\n",
       "    </tr>\n",
       "    <tr>\n",
       "      <th>49997</th>\n",
       "      <td>48702</td>\n",
       "      <td>Im used to hearing about a series by John Gri...</td>\n",
       "      <td>1</td>\n",
       "    </tr>\n",
       "    <tr>\n",
       "      <th>49998</th>\n",
       "      <td>7944</td>\n",
       "      <td>fun book. What a great ending for the series....</td>\n",
       "      <td>1</td>\n",
       "    </tr>\n",
       "    <tr>\n",
       "      <th>49999</th>\n",
       "      <td>18540</td>\n",
       "      <td>Just finished reading this.  I loved the char...</td>\n",
       "      <td>1</td>\n",
       "    </tr>\n",
       "  </tbody>\n",
       "</table>\n",
       "<p>50000 rows × 3 columns</p>\n",
       "</div>"
      ],
      "text/plain": [
       "       Unnamed: 0                                            reviews  label\n",
       "0           41830   So enjoyable!!! If you are a fan of the serie...      1\n",
       "1           23419   This book brings together a lot of history an...      1\n",
       "2           31825   Good work but I would have liked to see more ...      1\n",
       "3           27356   (Im writing this review in the order it is re...      1\n",
       "4            9883   excelente libro de hyenuk, en uno poco, cono ...      1\n",
       "...           ...                                                ...    ...\n",
       "49995       10505   Russells Introduction is a page-turner, and i...      1\n",
       "49996       12747   Quick and easy ordering and shipping.  It arr...      1\n",
       "49997       48702   Im used to hearing about a series by John Gri...      1\n",
       "49998        7944   fun book. What a great ending for the series....      1\n",
       "49999       18540   Just finished reading this.  I loved the char...      1\n",
       "\n",
       "[50000 rows x 3 columns]"
      ]
     },
     "execution_count": 5,
     "metadata": {},
     "output_type": "execute_result"
    }
   ],
   "source": [
    "fake_rev = pd.read_csv('Data/reviewseries.csv')\n",
    "real_rev = pd.read_csv('Data/realreviews.csv')\n",
    "fake_rev.rename({'reviewText':'reviews'})"
   ]
  },
  {
   "cell_type": "code",
   "execution_count": 6,
   "metadata": {
    "ExecuteTime": {
     "end_time": "2020-12-03T22:11:29.601924Z",
     "start_time": "2020-12-03T22:11:29.595925Z"
    }
   },
   "outputs": [],
   "source": [
    "fake_rev.drop('Unnamed: 0', inplace=True, axis=1) # Drop unneeded index"
   ]
  },
  {
   "cell_type": "code",
   "execution_count": 7,
   "metadata": {
    "ExecuteTime": {
     "end_time": "2020-12-03T22:11:29.614923Z",
     "start_time": "2020-12-03T22:11:29.602924Z"
    }
   },
   "outputs": [
    {
     "data": {
      "text/html": [
       "<div>\n",
       "<style scoped>\n",
       "    .dataframe tbody tr th:only-of-type {\n",
       "        vertical-align: middle;\n",
       "    }\n",
       "\n",
       "    .dataframe tbody tr th {\n",
       "        vertical-align: top;\n",
       "    }\n",
       "\n",
       "    .dataframe thead th {\n",
       "        text-align: right;\n",
       "    }\n",
       "</style>\n",
       "<table border=\"1\" class=\"dataframe\">\n",
       "  <thead>\n",
       "    <tr style=\"text-align: right;\">\n",
       "      <th></th>\n",
       "      <th>reviews</th>\n",
       "      <th>label</th>\n",
       "    </tr>\n",
       "  </thead>\n",
       "  <tbody>\n",
       "    <tr>\n",
       "      <th>0</th>\n",
       "      <td>So enjoyable!!! If you are a fan of the serie...</td>\n",
       "      <td>1</td>\n",
       "    </tr>\n",
       "    <tr>\n",
       "      <th>1</th>\n",
       "      <td>This book brings together a lot of history an...</td>\n",
       "      <td>1</td>\n",
       "    </tr>\n",
       "    <tr>\n",
       "      <th>2</th>\n",
       "      <td>Good work but I would have liked to see more ...</td>\n",
       "      <td>1</td>\n",
       "    </tr>\n",
       "    <tr>\n",
       "      <th>3</th>\n",
       "      <td>(Im writing this review in the order it is re...</td>\n",
       "      <td>1</td>\n",
       "    </tr>\n",
       "    <tr>\n",
       "      <th>4</th>\n",
       "      <td>excelente libro de hyenuk, en uno poco, cono ...</td>\n",
       "      <td>1</td>\n",
       "    </tr>\n",
       "    <tr>\n",
       "      <th>...</th>\n",
       "      <td>...</td>\n",
       "      <td>...</td>\n",
       "    </tr>\n",
       "    <tr>\n",
       "      <th>49995</th>\n",
       "      <td>Russells Introduction is a page-turner, and i...</td>\n",
       "      <td>1</td>\n",
       "    </tr>\n",
       "    <tr>\n",
       "      <th>49996</th>\n",
       "      <td>Quick and easy ordering and shipping.  It arr...</td>\n",
       "      <td>1</td>\n",
       "    </tr>\n",
       "    <tr>\n",
       "      <th>49997</th>\n",
       "      <td>Im used to hearing about a series by John Gri...</td>\n",
       "      <td>1</td>\n",
       "    </tr>\n",
       "    <tr>\n",
       "      <th>49998</th>\n",
       "      <td>fun book. What a great ending for the series....</td>\n",
       "      <td>1</td>\n",
       "    </tr>\n",
       "    <tr>\n",
       "      <th>49999</th>\n",
       "      <td>Just finished reading this.  I loved the char...</td>\n",
       "      <td>1</td>\n",
       "    </tr>\n",
       "  </tbody>\n",
       "</table>\n",
       "<p>50000 rows × 2 columns</p>\n",
       "</div>"
      ],
      "text/plain": [
       "                                                 reviews  label\n",
       "0       So enjoyable!!! If you are a fan of the serie...      1\n",
       "1       This book brings together a lot of history an...      1\n",
       "2       Good work but I would have liked to see more ...      1\n",
       "3       (Im writing this review in the order it is re...      1\n",
       "4       excelente libro de hyenuk, en uno poco, cono ...      1\n",
       "...                                                  ...    ...\n",
       "49995   Russells Introduction is a page-turner, and i...      1\n",
       "49996   Quick and easy ordering and shipping.  It arr...      1\n",
       "49997   Im used to hearing about a series by John Gri...      1\n",
       "49998   fun book. What a great ending for the series....      1\n",
       "49999   Just finished reading this.  I loved the char...      1\n",
       "\n",
       "[50000 rows x 2 columns]"
      ]
     },
     "execution_count": 7,
     "metadata": {},
     "output_type": "execute_result"
    }
   ],
   "source": [
    "fake_rev # Sanity check"
   ]
  },
  {
   "cell_type": "code",
   "execution_count": 8,
   "metadata": {
    "ExecuteTime": {
     "end_time": "2020-12-03T22:11:29.625925Z",
     "start_time": "2020-12-03T22:11:29.616927Z"
    }
   },
   "outputs": [],
   "source": [
    "real_rev.drop('Unnamed: 0', inplace=True, axis=1) # Drop unneeded index\n",
    "real_rev['reviews'] = real_rev['reviewText'] # Rename work-around\n",
    "real_rev.drop('reviewText', inplace=True, axis=1)"
   ]
  },
  {
   "cell_type": "code",
   "execution_count": 9,
   "metadata": {
    "ExecuteTime": {
     "end_time": "2020-12-03T22:11:29.637923Z",
     "start_time": "2020-12-03T22:11:29.626926Z"
    }
   },
   "outputs": [
    {
     "data": {
      "text/html": [
       "<div>\n",
       "<style scoped>\n",
       "    .dataframe tbody tr th:only-of-type {\n",
       "        vertical-align: middle;\n",
       "    }\n",
       "\n",
       "    .dataframe tbody tr th {\n",
       "        vertical-align: top;\n",
       "    }\n",
       "\n",
       "    .dataframe thead th {\n",
       "        text-align: right;\n",
       "    }\n",
       "</style>\n",
       "<table border=\"1\" class=\"dataframe\">\n",
       "  <thead>\n",
       "    <tr style=\"text-align: right;\">\n",
       "      <th></th>\n",
       "      <th>reviews</th>\n",
       "      <th>label</th>\n",
       "    </tr>\n",
       "  </thead>\n",
       "  <tbody>\n",
       "    <tr>\n",
       "      <th>0</th>\n",
       "      <td>Great book.... Keeps you coming back for more....</td>\n",
       "      <td>0</td>\n",
       "    </tr>\n",
       "    <tr>\n",
       "      <th>1</th>\n",
       "      <td>Thanks!</td>\n",
       "      <td>0</td>\n",
       "    </tr>\n",
       "    <tr>\n",
       "      <th>2</th>\n",
       "      <td>Required text book for college English class. ...</td>\n",
       "      <td>0</td>\n",
       "    </tr>\n",
       "    <tr>\n",
       "      <th>3</th>\n",
       "      <td>The good thing about this book is i have got h...</td>\n",
       "      <td>0</td>\n",
       "    </tr>\n",
       "    <tr>\n",
       "      <th>4</th>\n",
       "      <td>First off Heather Dahlgren this is an amazing ...</td>\n",
       "      <td>0</td>\n",
       "    </tr>\n",
       "    <tr>\n",
       "      <th>...</th>\n",
       "      <td>...</td>\n",
       "      <td>...</td>\n",
       "    </tr>\n",
       "    <tr>\n",
       "      <th>48703</th>\n",
       "      <td>Very interesting book. With a million new book...</td>\n",
       "      <td>0</td>\n",
       "    </tr>\n",
       "    <tr>\n",
       "      <th>48704</th>\n",
       "      <td>This was an excellent, grounded piece of liter...</td>\n",
       "      <td>0</td>\n",
       "    </tr>\n",
       "    <tr>\n",
       "      <th>48705</th>\n",
       "      <td>For this reader, Feverborn, the eighth of ten ...</td>\n",
       "      <td>0</td>\n",
       "    </tr>\n",
       "    <tr>\n",
       "      <th>48706</th>\n",
       "      <td>I have been enjoying each one of the Ruth Gall...</td>\n",
       "      <td>0</td>\n",
       "    </tr>\n",
       "    <tr>\n",
       "      <th>48707</th>\n",
       "      <td>0</td>\n",
       "      <td>0</td>\n",
       "    </tr>\n",
       "  </tbody>\n",
       "</table>\n",
       "<p>48708 rows × 2 columns</p>\n",
       "</div>"
      ],
      "text/plain": [
       "                                                 reviews  label\n",
       "0      Great book.... Keeps you coming back for more....      0\n",
       "1                                                Thanks!      0\n",
       "2      Required text book for college English class. ...      0\n",
       "3      The good thing about this book is i have got h...      0\n",
       "4      First off Heather Dahlgren this is an amazing ...      0\n",
       "...                                                  ...    ...\n",
       "48703  Very interesting book. With a million new book...      0\n",
       "48704  This was an excellent, grounded piece of liter...      0\n",
       "48705  For this reader, Feverborn, the eighth of ten ...      0\n",
       "48706  I have been enjoying each one of the Ruth Gall...      0\n",
       "48707                                                  0      0\n",
       "\n",
       "[48708 rows x 2 columns]"
      ]
     },
     "metadata": {},
     "output_type": "display_data"
    }
   ],
   "source": [
    "real_rev['label'] = 0 # Broadcast label for real-reviews\n",
    "display(real_rev)"
   ]
  },
  {
   "cell_type": "code",
   "execution_count": 10,
   "metadata": {
    "ExecuteTime": {
     "end_time": "2020-12-03T22:11:29.649926Z",
     "start_time": "2020-12-03T22:11:29.638926Z"
    }
   },
   "outputs": [
    {
     "data": {
      "text/html": [
       "<div>\n",
       "<style scoped>\n",
       "    .dataframe tbody tr th:only-of-type {\n",
       "        vertical-align: middle;\n",
       "    }\n",
       "\n",
       "    .dataframe tbody tr th {\n",
       "        vertical-align: top;\n",
       "    }\n",
       "\n",
       "    .dataframe thead th {\n",
       "        text-align: right;\n",
       "    }\n",
       "</style>\n",
       "<table border=\"1\" class=\"dataframe\">\n",
       "  <thead>\n",
       "    <tr style=\"text-align: right;\">\n",
       "      <th></th>\n",
       "      <th>reviews</th>\n",
       "      <th>label</th>\n",
       "    </tr>\n",
       "  </thead>\n",
       "  <tbody>\n",
       "    <tr>\n",
       "      <th>0</th>\n",
       "      <td>Great book.... Keeps you coming back for more....</td>\n",
       "      <td>0</td>\n",
       "    </tr>\n",
       "    <tr>\n",
       "      <th>1</th>\n",
       "      <td>Thanks!</td>\n",
       "      <td>0</td>\n",
       "    </tr>\n",
       "    <tr>\n",
       "      <th>2</th>\n",
       "      <td>Required text book for college English class. ...</td>\n",
       "      <td>0</td>\n",
       "    </tr>\n",
       "    <tr>\n",
       "      <th>3</th>\n",
       "      <td>The good thing about this book is i have got h...</td>\n",
       "      <td>0</td>\n",
       "    </tr>\n",
       "    <tr>\n",
       "      <th>4</th>\n",
       "      <td>First off Heather Dahlgren this is an amazing ...</td>\n",
       "      <td>0</td>\n",
       "    </tr>\n",
       "    <tr>\n",
       "      <th>...</th>\n",
       "      <td>...</td>\n",
       "      <td>...</td>\n",
       "    </tr>\n",
       "    <tr>\n",
       "      <th>49995</th>\n",
       "      <td>Russells Introduction is a page-turner, and i...</td>\n",
       "      <td>1</td>\n",
       "    </tr>\n",
       "    <tr>\n",
       "      <th>49996</th>\n",
       "      <td>Quick and easy ordering and shipping.  It arr...</td>\n",
       "      <td>1</td>\n",
       "    </tr>\n",
       "    <tr>\n",
       "      <th>49997</th>\n",
       "      <td>Im used to hearing about a series by John Gri...</td>\n",
       "      <td>1</td>\n",
       "    </tr>\n",
       "    <tr>\n",
       "      <th>49998</th>\n",
       "      <td>fun book. What a great ending for the series....</td>\n",
       "      <td>1</td>\n",
       "    </tr>\n",
       "    <tr>\n",
       "      <th>49999</th>\n",
       "      <td>Just finished reading this.  I loved the char...</td>\n",
       "      <td>1</td>\n",
       "    </tr>\n",
       "  </tbody>\n",
       "</table>\n",
       "<p>98708 rows × 2 columns</p>\n",
       "</div>"
      ],
      "text/plain": [
       "                                                 reviews  label\n",
       "0      Great book.... Keeps you coming back for more....      0\n",
       "1                                                Thanks!      0\n",
       "2      Required text book for college English class. ...      0\n",
       "3      The good thing about this book is i have got h...      0\n",
       "4      First off Heather Dahlgren this is an amazing ...      0\n",
       "...                                                  ...    ...\n",
       "49995   Russells Introduction is a page-turner, and i...      1\n",
       "49996   Quick and easy ordering and shipping.  It arr...      1\n",
       "49997   Im used to hearing about a series by John Gri...      1\n",
       "49998   fun book. What a great ending for the series....      1\n",
       "49999   Just finished reading this.  I loved the char...      1\n",
       "\n",
       "[98708 rows x 2 columns]"
      ]
     },
     "execution_count": 10,
     "metadata": {},
     "output_type": "execute_result"
    }
   ],
   "source": [
    "review_df = pd.concat([real_rev, fake_rev], axis=0) # Join our two dataframes\n",
    "review_df # sanity check concatenation "
   ]
  },
  {
   "cell_type": "code",
   "execution_count": 11,
   "metadata": {
    "ExecuteTime": {
     "end_time": "2020-12-03T22:11:29.671925Z",
     "start_time": "2020-12-03T22:11:29.650924Z"
    }
   },
   "outputs": [
    {
     "data": {
      "text/html": [
       "<div>\n",
       "<style scoped>\n",
       "    .dataframe tbody tr th:only-of-type {\n",
       "        vertical-align: middle;\n",
       "    }\n",
       "\n",
       "    .dataframe tbody tr th {\n",
       "        vertical-align: top;\n",
       "    }\n",
       "\n",
       "    .dataframe thead th {\n",
       "        text-align: right;\n",
       "    }\n",
       "</style>\n",
       "<table border=\"1\" class=\"dataframe\">\n",
       "  <thead>\n",
       "    <tr style=\"text-align: right;\">\n",
       "      <th></th>\n",
       "      <th>reviews</th>\n",
       "      <th>label</th>\n",
       "    </tr>\n",
       "  </thead>\n",
       "  <tbody>\n",
       "    <tr>\n",
       "      <th>41243</th>\n",
       "      <td>great illustration! decent story and characte...</td>\n",
       "      <td>1</td>\n",
       "    </tr>\n",
       "    <tr>\n",
       "      <th>4172</th>\n",
       "      <td>This book was in great condition. A wonderful...</td>\n",
       "      <td>1</td>\n",
       "    </tr>\n",
       "    <tr>\n",
       "      <th>5873</th>\n",
       "      <td>Good book that held your interest.  I am curre...</td>\n",
       "      <td>0</td>\n",
       "    </tr>\n",
       "    <tr>\n",
       "      <th>32502</th>\n",
       "      <td>I loved reading the first part of this book. ...</td>\n",
       "      <td>1</td>\n",
       "    </tr>\n",
       "    <tr>\n",
       "      <th>32558</th>\n",
       "      <td>Book Club Review The Secret is a well written...</td>\n",
       "      <td>1</td>\n",
       "    </tr>\n",
       "    <tr>\n",
       "      <th>...</th>\n",
       "      <td>...</td>\n",
       "      <td>...</td>\n",
       "    </tr>\n",
       "    <tr>\n",
       "      <th>49919</th>\n",
       "      <td>[This is my \"official\" review for my personal...</td>\n",
       "      <td>1</td>\n",
       "    </tr>\n",
       "    <tr>\n",
       "      <th>44558</th>\n",
       "      <td>My son said the book was great and Im looking...</td>\n",
       "      <td>1</td>\n",
       "    </tr>\n",
       "    <tr>\n",
       "      <th>40009</th>\n",
       "      <td>Mortimer J. Adlers \"How and Why\" was publishe...</td>\n",
       "      <td>1</td>\n",
       "    </tr>\n",
       "    <tr>\n",
       "      <th>42717</th>\n",
       "      <td>Great stickers!  Very good!</td>\n",
       "      <td>1</td>\n",
       "    </tr>\n",
       "    <tr>\n",
       "      <th>48481</th>\n",
       "      <td>Carol is a multi-disciplinary woman who is no...</td>\n",
       "      <td>1</td>\n",
       "    </tr>\n",
       "  </tbody>\n",
       "</table>\n",
       "<p>98708 rows × 2 columns</p>\n",
       "</div>"
      ],
      "text/plain": [
       "                                                 reviews  label\n",
       "41243   great illustration! decent story and characte...      1\n",
       "4172    This book was in great condition. A wonderful...      1\n",
       "5873   Good book that held your interest.  I am curre...      0\n",
       "32502   I loved reading the first part of this book. ...      1\n",
       "32558   Book Club Review The Secret is a well written...      1\n",
       "...                                                  ...    ...\n",
       "49919   [This is my \"official\" review for my personal...      1\n",
       "44558   My son said the book was great and Im looking...      1\n",
       "40009   Mortimer J. Adlers \"How and Why\" was publishe...      1\n",
       "42717                        Great stickers!  Very good!      1\n",
       "48481   Carol is a multi-disciplinary woman who is no...      1\n",
       "\n",
       "[98708 rows x 2 columns]"
      ]
     },
     "execution_count": 11,
     "metadata": {},
     "output_type": "execute_result"
    }
   ],
   "source": [
    "review_df.sample(frac=1) # Shuffle dataframe"
   ]
  },
  {
   "cell_type": "code",
   "execution_count": 12,
   "metadata": {
    "ExecuteTime": {
     "end_time": "2020-12-03T22:11:29.678924Z",
     "start_time": "2020-12-03T22:11:29.672926Z"
    }
   },
   "outputs": [],
   "source": [
    "indexrange = list(range(len(review_df))) # Genereated list of integers for new index"
   ]
  },
  {
   "cell_type": "code",
   "execution_count": 13,
   "metadata": {
    "ExecuteTime": {
     "end_time": "2020-12-03T22:11:29.706925Z",
     "start_time": "2020-12-03T22:11:29.679925Z"
    }
   },
   "outputs": [],
   "source": [
    "review_df['newdex'] = indexrange # Assign index as new columns"
   ]
  },
  {
   "cell_type": "code",
   "execution_count": 14,
   "metadata": {
    "ExecuteTime": {
     "end_time": "2020-12-03T22:11:29.714925Z",
     "start_time": "2020-12-03T22:11:29.707924Z"
    }
   },
   "outputs": [],
   "source": [
    "review_df.set_index('newdex', inplace=True) # Swap to new index to avoid double assigned indices"
   ]
  },
  {
   "cell_type": "code",
   "execution_count": 15,
   "metadata": {
    "ExecuteTime": {
     "end_time": "2020-12-03T22:11:29.726925Z",
     "start_time": "2020-12-03T22:11:29.715925Z"
    }
   },
   "outputs": [],
   "source": [
    "review_df = review_df.sample(frac=1) # Shuffle on new index"
   ]
  },
  {
   "cell_type": "code",
   "execution_count": 16,
   "metadata": {
    "ExecuteTime": {
     "end_time": "2020-12-03T22:11:29.734924Z",
     "start_time": "2020-12-03T22:11:29.727923Z"
    }
   },
   "outputs": [
    {
     "data": {
      "text/html": [
       "<div>\n",
       "<style scoped>\n",
       "    .dataframe tbody tr th:only-of-type {\n",
       "        vertical-align: middle;\n",
       "    }\n",
       "\n",
       "    .dataframe tbody tr th {\n",
       "        vertical-align: top;\n",
       "    }\n",
       "\n",
       "    .dataframe thead th {\n",
       "        text-align: right;\n",
       "    }\n",
       "</style>\n",
       "<table border=\"1\" class=\"dataframe\">\n",
       "  <thead>\n",
       "    <tr style=\"text-align: right;\">\n",
       "      <th></th>\n",
       "      <th>reviews</th>\n",
       "      <th>label</th>\n",
       "    </tr>\n",
       "    <tr>\n",
       "      <th>newdex</th>\n",
       "      <th></th>\n",
       "      <th></th>\n",
       "    </tr>\n",
       "  </thead>\n",
       "  <tbody>\n",
       "    <tr>\n",
       "      <th>6713</th>\n",
       "      <td>Mr. Souther has excellent insight which is pro...</td>\n",
       "      <td>0</td>\n",
       "    </tr>\n",
       "    <tr>\n",
       "      <th>5397</th>\n",
       "      <td>This book is basically for the \"beginner decor...</td>\n",
       "      <td>0</td>\n",
       "    </tr>\n",
       "    <tr>\n",
       "      <th>39787</th>\n",
       "      <td>Anyone who is a Christine Feehan fan will enjo...</td>\n",
       "      <td>0</td>\n",
       "    </tr>\n",
       "    <tr>\n",
       "      <th>8112</th>\n",
       "      <td>A beautiful book,  by a very precious western ...</td>\n",
       "      <td>0</td>\n",
       "    </tr>\n",
       "    <tr>\n",
       "      <th>55657</th>\n",
       "      <td>A paradox of a book: its an easy read with cl...</td>\n",
       "      <td>1</td>\n",
       "    </tr>\n",
       "    <tr>\n",
       "      <th>...</th>\n",
       "      <td>...</td>\n",
       "      <td>...</td>\n",
       "    </tr>\n",
       "    <tr>\n",
       "      <th>41456</th>\n",
       "      <td>This book literally saved my life. It is not e...</td>\n",
       "      <td>0</td>\n",
       "    </tr>\n",
       "    <tr>\n",
       "      <th>43331</th>\n",
       "      <td>Mystery, drama.  I love the story line and it ...</td>\n",
       "      <td>0</td>\n",
       "    </tr>\n",
       "    <tr>\n",
       "      <th>55553</th>\n",
       "      <td>Good read. good time for a good movie.</td>\n",
       "      <td>1</td>\n",
       "    </tr>\n",
       "    <tr>\n",
       "      <th>4977</th>\n",
       "      <td>Shevlins writing is witty and hilarious. The p...</td>\n",
       "      <td>0</td>\n",
       "    </tr>\n",
       "    <tr>\n",
       "      <th>11057</th>\n",
       "      <td>Be advised: This book has virtually nothing to...</td>\n",
       "      <td>0</td>\n",
       "    </tr>\n",
       "  </tbody>\n",
       "</table>\n",
       "<p>98708 rows × 2 columns</p>\n",
       "</div>"
      ],
      "text/plain": [
       "                                                  reviews  label\n",
       "newdex                                                          \n",
       "6713    Mr. Souther has excellent insight which is pro...      0\n",
       "5397    This book is basically for the \"beginner decor...      0\n",
       "39787   Anyone who is a Christine Feehan fan will enjo...      0\n",
       "8112    A beautiful book,  by a very precious western ...      0\n",
       "55657    A paradox of a book: its an easy read with cl...      1\n",
       "...                                                   ...    ...\n",
       "41456   This book literally saved my life. It is not e...      0\n",
       "43331   Mystery, drama.  I love the story line and it ...      0\n",
       "55553              Good read. good time for a good movie.      1\n",
       "4977    Shevlins writing is witty and hilarious. The p...      0\n",
       "11057   Be advised: This book has virtually nothing to...      0\n",
       "\n",
       "[98708 rows x 2 columns]"
      ]
     },
     "execution_count": 16,
     "metadata": {},
     "output_type": "execute_result"
    }
   ],
   "source": [
    "review_df # Sanity check"
   ]
  },
  {
   "cell_type": "code",
   "execution_count": 17,
   "metadata": {
    "ExecuteTime": {
     "end_time": "2020-12-03T22:11:31.257923Z",
     "start_time": "2020-12-03T22:11:29.735923Z"
    }
   },
   "outputs": [],
   "source": [
    "test = remove_over(review_df) # Using our helper function to cut review length"
   ]
  },
  {
   "cell_type": "code",
   "execution_count": 18,
   "metadata": {
    "ExecuteTime": {
     "end_time": "2020-12-03T22:11:31.266928Z",
     "start_time": "2020-12-03T22:11:31.258925Z"
    }
   },
   "outputs": [
    {
     "data": {
      "text/html": [
       "<div>\n",
       "<style scoped>\n",
       "    .dataframe tbody tr th:only-of-type {\n",
       "        vertical-align: middle;\n",
       "    }\n",
       "\n",
       "    .dataframe tbody tr th {\n",
       "        vertical-align: top;\n",
       "    }\n",
       "\n",
       "    .dataframe thead th {\n",
       "        text-align: right;\n",
       "    }\n",
       "</style>\n",
       "<table border=\"1\" class=\"dataframe\">\n",
       "  <thead>\n",
       "    <tr style=\"text-align: right;\">\n",
       "      <th></th>\n",
       "      <th>reviews</th>\n",
       "      <th>label</th>\n",
       "    </tr>\n",
       "  </thead>\n",
       "  <tbody>\n",
       "    <tr>\n",
       "      <th>0</th>\n",
       "      <td>Mr. Souther has excellent insight which is pro...</td>\n",
       "      <td>0</td>\n",
       "    </tr>\n",
       "    <tr>\n",
       "      <th>1</th>\n",
       "      <td>This book is basically for the \"beginner decor...</td>\n",
       "      <td>0</td>\n",
       "    </tr>\n",
       "    <tr>\n",
       "      <th>2</th>\n",
       "      <td>Anyone who is a Christine Feehan fan will enjo...</td>\n",
       "      <td>0</td>\n",
       "    </tr>\n",
       "    <tr>\n",
       "      <th>3</th>\n",
       "      <td>A beautiful book,  by a very precious western ...</td>\n",
       "      <td>0</td>\n",
       "    </tr>\n",
       "    <tr>\n",
       "      <th>4</th>\n",
       "      <td>A paradox of a book: its an easy read with cl...</td>\n",
       "      <td>1</td>\n",
       "    </tr>\n",
       "    <tr>\n",
       "      <th>...</th>\n",
       "      <td>...</td>\n",
       "      <td>...</td>\n",
       "    </tr>\n",
       "    <tr>\n",
       "      <th>97366</th>\n",
       "      <td>This book literally saved my life. It is not e...</td>\n",
       "      <td>0</td>\n",
       "    </tr>\n",
       "    <tr>\n",
       "      <th>97367</th>\n",
       "      <td>Mystery, drama.  I love the story line and it ...</td>\n",
       "      <td>0</td>\n",
       "    </tr>\n",
       "    <tr>\n",
       "      <th>97368</th>\n",
       "      <td>Good read. good time for a good movie.</td>\n",
       "      <td>1</td>\n",
       "    </tr>\n",
       "    <tr>\n",
       "      <th>97369</th>\n",
       "      <td>Shevlins writing is witty and hilarious. The p...</td>\n",
       "      <td>0</td>\n",
       "    </tr>\n",
       "    <tr>\n",
       "      <th>97370</th>\n",
       "      <td>Be advised: This book has virtually nothing to...</td>\n",
       "      <td>0</td>\n",
       "    </tr>\n",
       "  </tbody>\n",
       "</table>\n",
       "<p>97371 rows × 2 columns</p>\n",
       "</div>"
      ],
      "text/plain": [
       "                                                 reviews  label\n",
       "0      Mr. Souther has excellent insight which is pro...      0\n",
       "1      This book is basically for the \"beginner decor...      0\n",
       "2      Anyone who is a Christine Feehan fan will enjo...      0\n",
       "3      A beautiful book,  by a very precious western ...      0\n",
       "4       A paradox of a book: its an easy read with cl...      1\n",
       "...                                                  ...    ...\n",
       "97366  This book literally saved my life. It is not e...      0\n",
       "97367  Mystery, drama.  I love the story line and it ...      0\n",
       "97368             Good read. good time for a good movie.      1\n",
       "97369  Shevlins writing is witty and hilarious. The p...      0\n",
       "97370  Be advised: This book has virtually nothing to...      0\n",
       "\n",
       "[97371 rows x 2 columns]"
      ]
     },
     "execution_count": 18,
     "metadata": {},
     "output_type": "execute_result"
    }
   ],
   "source": [
    "test # Sanity check"
   ]
  },
  {
   "cell_type": "code",
   "execution_count": 19,
   "metadata": {
    "ExecuteTime": {
     "end_time": "2020-12-03T22:11:31.271926Z",
     "start_time": "2020-12-03T22:11:31.267926Z"
    }
   },
   "outputs": [],
   "source": [
    "# Control for saving total concatenated dataframe\n",
    "if save:\n",
    "    test.to_csv('Data/total_review_df.csv')"
   ]
  },
  {
   "cell_type": "markdown",
   "metadata": {},
   "source": [
    "# Model Prep"
   ]
  },
  {
   "cell_type": "markdown",
   "metadata": {},
   "source": [
    "## Train-test split"
   ]
  },
  {
   "cell_type": "code",
   "execution_count": 20,
   "metadata": {
    "ExecuteTime": {
     "end_time": "2020-12-03T22:11:31.313924Z",
     "start_time": "2020-12-03T22:11:31.272924Z"
    }
   },
   "outputs": [],
   "source": [
    "# Train test split\n",
    "train_text, temp_text, train_labels, temp_labels = train_test_split(test['reviews'], test['label'], \n",
    "                                                                    random_state=42, \n",
    "                                                                    test_size=0.3, \n",
    "                                                                    stratify=test['label'])"
   ]
  },
  {
   "cell_type": "code",
   "execution_count": 21,
   "metadata": {
    "ExecuteTime": {
     "end_time": "2020-12-03T22:11:31.329925Z",
     "start_time": "2020-12-03T22:11:31.314924Z"
    }
   },
   "outputs": [],
   "source": [
    "# Train test split our temp text/labels for a validation and test set\n",
    "val_text, test_text, val_labels, test_labels = train_test_split(temp_text, temp_labels, \n",
    "                                                                random_state=42, \n",
    "                                                                test_size=0.5, \n",
    "                                                                stratify=temp_labels)"
   ]
  },
  {
   "cell_type": "markdown",
   "metadata": {},
   "source": [
    "## Model and tokenizer assignment\n",
    "\n",
    "## Bidirectional Encoder Representations from Transformers (BERT)  Model\n",
    "\n",
    "**Bidirectional Encoder Representations from Transformers (BERT)** was presented in a [white paper](https://arxiv.org/pdf/1810.04805.pdf) by **Google's AI Language** team in late 2018, and it caused an uproar in the **NLP** community for its wide variety of uses for everything from question answering to inference. As the name suggests its advancement is the bidirectional training of the Transformer architecture. \n",
    "\n",
    "Before the paper NLP training involved text paring left-to-right, or left-to-right and right-to-left training. The paper showed that a deeper context for language could be drawn from bidirectional transversal of sentences which allowed the model to draw deeper context and flow than a single direction model allowed. \n",
    "\n",
    "### Transformers\n",
    "**BERT** is based on a novel mechanism named **Transformer Architecture**. Transformers are models that are at a very base level a set of **encoder cells** and **decoder cells** that use **context** from sequences to provide output sequences. An encoder takes in a sequence and compiles it into a vector called **context**. The context is then passed to the decoder and the decoder uses this context vector to product a sequence token by token. These encoders and decoders tend to be **Recurrent Neural Networks**. \n",
    "![Transformer image](Images/transformer_decoding.gif)\n",
    "[Image Courtesy](http://jalammar.github.io/illustrated-transformer/)\n",
    "\n",
    "#### Recurrent Neural Networks\n",
    "**Reccurent Neural Networks (RNN)** are a **directed graph** network that works on data through various temporal steps. A basic RNN takes *N* **input vectors** and will output *N* **output vectors** based on the input, and it does this operation by remembering context of the sequence and training based on past decisions. RNNs *remember* past decisions in **hidden state vectors** that influence the outputs of the network, and it does this to consider context of a sequence at a given time (temporal) step in the sequence. RNNs represent the ability for a past step to influence a future step, and can increase depth by adding additional hidden states or add additional nonlinear layers between inputs and hidden states.\n",
    "\n",
    "![RNN image](Images/RNN.png)\n",
    "\n",
    "##### Encoders, Decoders and Context\n",
    "**Context** is a self-defined vector that is generated during token sequence encoding in a **Sequence-to-sequence model**. It is the number of hidden units that are used by the encoder RNN. RNNs take two inputs at each step: the input sequence and the hidden state. These context vectors need to be generated somehow and that is through **word embeddings**. These **embeddings** generally turn words into vectors that capture the meaning and information of the words. These encodings are generated to be passed to the **decoder** in order for it to *'understand'* the context of the token sequence.\n",
    "\n",
    "##### Attention Mechanism \n",
    "Though these context vectors provided context, it was supremely inefficient and therefore new mechanisms were developed to combat this but maintain the use of meaning and semantic information use in outputs. Several landmark papers introduced a method known as **Attention** which improved the efficiency of machine translation systems. \n",
    "\n",
    "A traditional sequence-to-sequence model only passes the end hidden state from the encoder to the decoder. An attention based network work different to this:\n",
    "\n",
    "**Encoder:**\n",
    "\n",
    "An encoder in an attention based network instead passes *all* of the hidden states of the encoding sequence. \n",
    "\n",
    "\n",
    "**Decoder:**\n",
    "\n",
    "The decoder also does significantly more work. It receives all hidden states, and therefore the hidden states provide context for each token in the sequence instead of just the final state. Next, all hidden states are scored. Finally, each of the scores are softmaxed. **Softmax** takes a vector of *K-real numbers* and transforms then sums them to one, thereby minimizing the low scoring states and maximizing the high scoring vectors.\n",
    "\n",
    "**Self-Attention** \n",
    "\n",
    "Self-attention is another branch of attention mechanism. It relates the position of tokens in a sequence in order to compute a representation of the same sequence. \n",
    "\n",
    "### BERT Mechanics\n",
    "\n",
    "BERT not only builds upon several years of research as a foundation it also adds its own twist to the mix.\n",
    "\n",
    "**Masked LM** \n",
    "\n",
    " Before feeding token sequences into BERT, ~15% of words are replaced by a masking token (`[MASK]` by default). The model then attempts to predict the words that mare masked based on the context provided by the other words in the sequence. This places a classification layer on the output of the transformer, which is then multiplied with the output vectors of the embedding matrix, and finally the probability of likely words are predicted using a softmax.\n",
    "\n",
    "**Next Sentence Prediciton** \n",
    "\n",
    " BERT receives pairs of sentences as part of the training input. It can learn to predict if the second sentence is subsequent to the first sentence. The model is trained on half subsequent sentence pairs and half random pairs from the corpus thereby learning subsequent context between sentences. It is aided in this task by special tokens:\n",
    " \n",
    " * `[CLS]` which is inserted at the beginning of a sentence\n",
    " * `[SEP]` which is inserted at the end of each sentence.\n",
    " \n",
    "### BERT Metrics \n",
    " \n",
    "1. Model size is important. BERT_large has 345 million parameters, which functions significantly better than BERT_base at 110 million parameteres.\n",
    "\n",
    "2. More training equates to more accuracy. The longer a model can fine-tune on the chosen corpus, the more accurate it becomes.\n",
    "\n",
    "3. BERT converges slower than sequence-to-sequence model since there are several extra layers stacked on top of the transformer architecture, but it outperforms other models at similar numbers of training steps.\n",
    "\n",
    "![BERT image](Images/bert.jpg)"
   ]
  },
  {
   "cell_type": "code",
   "execution_count": 22,
   "metadata": {
    "ExecuteTime": {
     "end_time": "2020-12-03T22:11:34.896923Z",
     "start_time": "2020-12-03T22:11:31.330923Z"
    }
   },
   "outputs": [],
   "source": [
    "bert = AutoModel.from_pretrained('bert-base-uncased')\n",
    "\n",
    "tokenizer = BertTokenizerFast.from_pretrained('bert-base-uncased')"
   ]
  },
  {
   "cell_type": "markdown",
   "metadata": {},
   "source": [
    "## Length Analysis"
   ]
  },
  {
   "cell_type": "code",
   "execution_count": 23,
   "metadata": {
    "ExecuteTime": {
     "end_time": "2020-12-03T22:11:35.955925Z",
     "start_time": "2020-12-03T22:11:34.899925Z"
    }
   },
   "outputs": [
    {
     "name": "stdout",
     "output_type": "stream",
     "text": [
      "Average length of review: 73.093\n",
      "Average length of review: 74.522\n",
      "Average length of review: 72.368\n"
     ]
    },
    {
     "data": {
      "image/png": "[encoded data removed]",
      "text/plain": [
       "<Figure size 432x288 with 1 Axes>"
      ]
     },
     "metadata": {
      "needs_background": "light"
     },
     "output_type": "display_data"
    },
    {
     "data": {
      "image/png": "[encoded data removed]",
      "text/plain": [
       "<Figure size 432x288 with 1 Axes>"
      ]
     },
     "metadata": {
      "needs_background": "light"
     },
     "output_type": "display_data"
    },
    {
     "data": {
      "image/png": "[encoded data removed]",
      "text/plain": [
       "<Figure size 432x288 with 1 Axes>"
      ]
     },
     "metadata": {
      "needs_background": "light"
     },
     "output_type": "display_data"
    }
   ],
   "source": [
    "# Split sequences into 'tokens'\n",
    "train_seq_len = [len(i.split()) for i in train_text]\n",
    "val_seq_len = [len(i.split()) for i in val_text]\n",
    "test_seq_len = [len(i.split()) for i in test_text]\n",
    "\n",
    "# Average length of sequences\n",
    "train_av = round(np.average(train_seq_len),3)\n",
    "val_av = round(np.average(val_seq_len),3)\n",
    "test_av = round(np.average(test_seq_len),3)\n",
    "print('Average length of review:', train_av)\n",
    "print('Average length of review:', val_av)\n",
    "print('Average length of review:', test_av)\n",
    "\n",
    "# Train historgram\n",
    "fig, ax = plt.subplots()\n",
    "plt.title('Train Histogram with Average Length')\n",
    "plt.hist(pd.Series(train_seq_len), bins=30)\n",
    "ax.axvline(train_av, color ='red', lw = 2, alpha = 0.75) \n",
    "plt.legend(['Average Length: {}'.format(train_av), 'Train Histogram'])\n",
    "plt.savefig('Images/trainlen.png')\n",
    "plt.show()\n",
    "\n",
    "# Validation historgram\n",
    "fig, ax = plt.subplots()\n",
    "plt.title('Validation Histogram with Average Length')\n",
    "plt.hist(pd.Series(val_seq_len), bins=30)\n",
    "ax.axvline(train_av, color ='red', lw = 2, alpha = 0.75) \n",
    "plt.legend(['Average Length: {}'.format(val_av), 'Validation Histogram'])\n",
    "plt.savefig('Images/vallen.png')\n",
    "plt.show()\n",
    "\n",
    "# Testing historgram\n",
    "fig, ax = plt.subplots()\n",
    "plt.title('Test Histogram with Average Length')\n",
    "plt.hist(pd.Series(test_seq_len), bins=30)\n",
    "ax.axvline(train_av, color ='red', lw = 2, alpha = 0.75) \n",
    "plt.legend(['Average Length: {}'.format(test_av), 'Test Histogram'])\n",
    "plt.savefig('Images/testlen.png')\n",
    "plt.show()"
   ]
  },
  {
   "cell_type": "markdown",
   "metadata": {},
   "source": [
    "## Tokenization"
   ]
  },
  {
   "cell_type": "markdown",
   "metadata": {},
   "source": [
    "Computers do not natively understand words and that is an issue because a lot of the tasks we wish to automate involve processing language. There is a process that has been developed to change text into a medium that computers can ingest.\n",
    "\n",
    "**Tokenization** is the process by which words are converted to **tokens** that our models can process.\n",
    "\n",
    "Tokens be one of a few things:\n",
    "1. Words\n",
    "2. Characters\n",
    "3. Subwords\n",
    "\n",
    "The most common way of separating tokens is by space, assuming that the strings being fed into the tokenizer are delimited by spaces.\n",
    "\n",
    "Tokenization is the most important step in text preprocessing as it converts words into data that our models can take in. It does this by transforming the words, characters, or subwords into tokens and then these tokens are used to generate vocabularies. These vocabularies can then be used by our models to operate on text data. "
   ]
  },
  {
   "cell_type": "code",
   "execution_count": 24,
   "metadata": {
    "ExecuteTime": {
     "end_time": "2020-12-03T22:11:43.560925Z",
     "start_time": "2020-12-03T22:11:35.957927Z"
    }
   },
   "outputs": [],
   "source": [
    "# Using BERT Fast Tokenizer to encode text into input ids\n",
    "\n",
    "# Training tokens\n",
    "tokens_train = tokenizer.batch_encode_plus(\n",
    "    train_text.tolist(),\n",
    "    max_length = 80,\n",
    "    padding=True,\n",
    "    truncation=True\n",
    ")\n",
    "\n",
    "# Validation Tokens\n",
    "tokens_val = tokenizer.batch_encode_plus(\n",
    "    val_text.tolist(),\n",
    "    max_length = 80,\n",
    "    padding=True,\n",
    "    truncation=True\n",
    ")\n",
    "\n",
    "# Testing tokens\n",
    "tokens_test = tokenizer.batch_encode_plus(\n",
    "    test_text.tolist(),\n",
    "    max_length = 80,\n",
    "    padding=True,\n",
    "    truncation=True\n",
    ")"
   ]
  },
  {
   "cell_type": "code",
   "execution_count": 25,
   "metadata": {
    "ExecuteTime": {
     "end_time": "2020-12-03T22:11:44.219925Z",
     "start_time": "2020-12-03T22:11:43.561924Z"
    }
   },
   "outputs": [],
   "source": [
    "# Store sequences, attention masks, and lables as torch tensors\n",
    "\n",
    "# Train tensors\n",
    "train_seq = torch.tensor(tokens_train['input_ids'])\n",
    "train_mask = torch.tensor(tokens_train['attention_mask'])\n",
    "train_y = torch.tensor(train_labels.tolist())\n",
    "\n",
    "# Validation tensors\n",
    "val_seq = torch.tensor(tokens_val['input_ids'])\n",
    "val_mask = torch.tensor(tokens_val['attention_mask'])\n",
    "val_y = torch.tensor(val_labels.tolist())\n",
    "\n",
    "# Testing tensors\n",
    "test_seq = torch.tensor(tokens_test['input_ids'])\n",
    "test_mask = torch.tensor(tokens_test['attention_mask'])\n",
    "test_y = torch.tensor(test_labels.tolist())"
   ]
  },
  {
   "cell_type": "markdown",
   "metadata": {},
   "source": [
    "# Dataloaders"
   ]
  },
  {
   "cell_type": "markdown",
   "metadata": {},
   "source": [
    "### PyTorch Dataloader\n",
    "\n",
    "PyTorch has a Dataset inheritable class that can be used with the PyTorch framework. The Dataset inheritable class represents a Python iterable over a dataset that supports map-style or iterable-style datasets.\n",
    "\n",
    "* Map-Style - Represents a map of Key-Value pairs to data samples within the dataset.\n",
    "* Iterable-Style - Represents an iterable dataset like that which could be streamed from a database, remote server, or even generated in real-time."
   ]
  },
  {
   "cell_type": "code",
   "execution_count": 26,
   "metadata": {
    "ExecuteTime": {
     "end_time": "2020-12-03T22:11:44.224926Z",
     "start_time": "2020-12-03T22:11:44.220924Z"
    }
   },
   "outputs": [],
   "source": [
    "batch = 128 # Batch size for datalaoder and subsequent model\n",
    "\n",
    "\n",
    "# Training dataloader\n",
    "train_data = TensorDataset(train_seq, train_mask, train_y)\n",
    "train_sampler = RandomSampler(train_data)\n",
    "train_loader = DataLoader(train_data, sampler=train_sampler, batch_size=batch)\n",
    "\n",
    "# Validation dataloader\n",
    "val_data = TensorDataset(val_seq, val_mask, val_y)\n",
    "val_sampler = SequentialSampler(val_data)\n",
    "val_loader = DataLoader(val_data, sampler = val_sampler, batch_size=batch)\n",
    "\n",
    "# Testing dataloader\n",
    "test_data = TensorDataset(test_seq, test_mask, test_y)\n",
    "test_sampler = SequentialSampler(test_data)\n",
    "test_loader = DataLoader(test_data, sampler = test_sampler, batch_size=batch)"
   ]
  },
  {
   "cell_type": "markdown",
   "metadata": {},
   "source": [
    "# Model"
   ]
  },
  {
   "cell_type": "markdown",
   "metadata": {},
   "source": [
    "### Model Architecture\n",
    "\n",
    "Using transfer learning is the heart of our model. The BERT model is already trained with 110 million parameters. It is very important that we do not train the base model further, so we freeze the parameters of our base model by disallowing gradient calculations.\n",
    "\n",
    "We inherit from the PyTorch `nn` module so that we can start building our neural network. In our `__init__` all we are taking in is our `BERT` model that was instantiated earlier. After our `BERT` model is in-place we follow that by passing the outputs from the pre-trained model into our `LSTM` layer. Our inputs are then passed through a series of `fully connected layer`, with all layers after the `LSTM` layer are separated with a `batchnorm` layer. Our inputs are then softmaxed to return a vector with lower values minimized and larger values maximized on a 0-to-1 scale.\n",
    "\n",
    "#### LSTM\n",
    "\n",
    ">The Long Short Term Memory architecture was motivated by an analysis of error flow in existing RNNs which found that long time lags were inaccessible to existing architectures, because backpropagated error either blows up or decays exponentially.<br><br>\n",
    "An LSTM layer consists of a set of recurrently connected blocks, known as memory blocks. These blocks can be thought of as a differentiable version of the memory chips in a digital computer. Each one contains one or more recurrently connected memory cells and three multiplicative units – the input, output and forget gates – that provide continuous analogues of write, read and reset operations for the cells. … The net can only interact with the cells via the gates.\n",
    "<br><br>— Alex Graves, et al., Framewise Phoneme Classification with Bidirectional LSTM and Other Neural Network Architectures, 2005.\n",
    "\n",
    "#### Batch Normalization\n",
    "\n",
    "The issue with deep neural networks is that model weights are updated backwards from outputs to inputs, but in reality model layers are updated simultaneously during the updating process, therefore the model is always chasing a moving target. \n",
    "\n",
    "Batch normalization has taken up this issue and seeks to solve it:\n",
    "\n",
    "> Batch normalization provides an elegant way of reparametrizing almost any deep network. The reparametrization significantly reduces the problem of coordinating updates across many layers.\n",
    "<br><br>— Page 318, Deep Learning, 2016.\n",
    "\n",
    "It does this by scaling the output of the layers. Standardizing the activations during each mini-batch, such as activations from a previous layer. This means that the assumptions a previous layer makes about the subsequent layer's weight spread will not change.  This stabilizes and speeds up the training process."
   ]
  },
  {
   "cell_type": "code",
   "execution_count": 27,
   "metadata": {
    "ExecuteTime": {
     "end_time": "2020-12-03T22:11:44.232927Z",
     "start_time": "2020-12-03T22:11:44.226925Z"
    }
   },
   "outputs": [],
   "source": [
    "# Freeze BERT Parameters\n",
    "for param in bert.parameters():\n",
    "    param.requires_grad = False"
   ]
  },
  {
   "cell_type": "code",
   "execution_count": 28,
   "metadata": {
    "ExecuteTime": {
     "end_time": "2020-12-03T22:11:44.244924Z",
     "start_time": "2020-12-03T22:11:44.234926Z"
    }
   },
   "outputs": [],
   "source": [
    "class BERT_Arch(nn.Module):\n",
    "    \n",
    "    def __init__(self, bert):\n",
    "        '''\n",
    "        Transfer learning deep neural network based on Google AI's BERT\n",
    "        NLP architecture. Takes an instantiated BERT model as input.\n",
    "        '''\n",
    "        \n",
    "        super(BERT_Arch, self).__init__()\n",
    "        self.bert = bert\n",
    "        \n",
    "        self.droput = nn.Dropout(0.1)\n",
    "        \n",
    "        self.relu = nn.ReLU()\n",
    "        \n",
    "        self.lstm = nn.LSTM(768,512, bidirectional=True, num_layers=2, dropout=.1)\n",
    "        self.bn = nn.BatchNorm1d(1024)\n",
    "        self.fc1 = nn.Linear(1024,512)\n",
    "        self.bn1 = nn.BatchNorm1d(512)\n",
    "        self.fc2 = nn.Linear(512,256)\n",
    "        self.bn2 = nn.BatchNorm1d(256)\n",
    "        self.fc3 = nn.Linear(256,128)\n",
    "        self.bn3 = nn.BatchNorm1d(128)\n",
    "        self.fc4 = nn.Linear(128,2)\n",
    "        \n",
    "        self.softmax = nn.Softmax(dim=1)\n",
    "        \n",
    "\n",
    "    def forward(self, sent_id):\n",
    "        '''\n",
    "        Forward pass for model\n",
    "        '''\n",
    "        _, x = self.bert(sent_id)\n",
    "        \n",
    "        x = x.unsqueeze(0)\n",
    "        x, _ = self.lstm(x)\n",
    "        x = x.squeeze(0)\n",
    "        x = self.bn(x)\n",
    "        x = self.fc1(x)\n",
    "        x = self.relu(x)\n",
    "        x = self.bn1(x)\n",
    "        x = self.fc2(x)\n",
    "        x = self.relu(x)\n",
    "        x = self.bn2(x)\n",
    "        x = self.fc3(x)\n",
    "        x = self.relu(x)\n",
    "        x = self.bn3(x)\n",
    "        x = self.fc4(x)\n",
    "        \n",
    "        x = self.softmax(x)\n",
    "        \n",
    "        return x"
   ]
  },
  {
   "cell_type": "markdown",
   "metadata": {},
   "source": [
    "## Hyperparameters"
   ]
  },
  {
   "cell_type": "markdown",
   "metadata": {},
   "source": [
    "### AdamW \n",
    "\n",
    "**AdamW** is the newest generation of adaptive optimizers that are paving the way for super-fast convergance and improving generalization performance.\n",
    "\n",
    "AdamW works by essentially decoupling the weight decay and the optimization step. This allows the two to optimize separately and therefore find an optimal rate for moth. This results in faster convergance and better overall generalization for the models.\n",
    "\n",
    "![AdamW](Images/adamw.png)"
   ]
  },
  {
   "cell_type": "code",
   "execution_count": 29,
   "metadata": {
    "ExecuteTime": {
     "end_time": "2020-12-03T22:11:47.824924Z",
     "start_time": "2020-12-03T22:11:44.246928Z"
    }
   },
   "outputs": [
    {
     "name": "stdout",
     "output_type": "stream",
     "text": [
      "Class Weights: [1.02776019 0.9737    ]\n"
     ]
    }
   ],
   "source": [
    "# Model instantiation \n",
    "model = BERT_Arch(bert)\n",
    "device = torch.device('cuda:0' if torch.cuda.is_available() else 'cpu') # Select device programatically\n",
    "model = model.to(device) # Send model to device (GPU locally)\n",
    "\n",
    "# AdamW optimizer\n",
    "optimizer = AdamW(model.parameters(), lr = 2e-5) \n",
    "\n",
    "# Computation of class weights for training\n",
    "class_weights = compute_class_weight('balanced', [0,1], train_labels)\n",
    "print(\"Class Weights:\",class_weights)\n",
    "weights= torch.tensor(class_weights,dtype=torch.float)\n",
    "weights = weights.to(device)\n",
    "\n",
    "# Negative log-likelihood loss with weights passed\n",
    "cross_entropy = nn.NLLLoss(weight=weights)"
   ]
  },
  {
   "cell_type": "code",
   "execution_count": 32,
   "metadata": {
    "ExecuteTime": {
     "end_time": "2020-12-03T22:12:15.942927Z",
     "start_time": "2020-12-03T22:12:15.939926Z"
    }
   },
   "outputs": [],
   "source": [
    "# Seed\n",
    "seed_val = 42\n",
    "\n",
    "# Setting seeds\n",
    "random.seed(seed_val)\n",
    "np.random.seed(seed_val)\n",
    "torch.manual_seed(seed_val)\n",
    "torch.cuda.manual_seed_all(seed_val)"
   ]
  },
  {
   "cell_type": "markdown",
   "metadata": {},
   "source": [
    "### Training Epochs"
   ]
  },
  {
   "cell_type": "code",
   "execution_count": 33,
   "metadata": {
    "ExecuteTime": {
     "end_time": "2020-12-03T22:12:16.951926Z",
     "start_time": "2020-12-03T22:12:16.949924Z"
    }
   },
   "outputs": [],
   "source": [
    "epochs = 50"
   ]
  },
  {
   "cell_type": "code",
   "execution_count": 34,
   "metadata": {
    "ExecuteTime": {
     "end_time": "2020-12-03T22:12:17.406926Z",
     "start_time": "2020-12-03T22:12:17.398926Z"
    }
   },
   "outputs": [],
   "source": [
    "# function to train the model\n",
    "def train():\n",
    "    \"\"\"\n",
    "    Training function that returns average loss, total accuracy, and predictions\n",
    "    \"\"\"\n",
    "    model.train()\n",
    "\n",
    "    total_loss = 0\n",
    "    total_accuracy = 0\n",
    "\n",
    "    total_preds=[]\n",
    "    total_acc=[]\n",
    "    t0 = time.time()\n",
    "    # iterate over batches\n",
    "    for step, batch in enumerate(train_loader):\n",
    "    \n",
    "        if step % 100 == 0 and not step == 0:\n",
    "          lapsed = time.time() - t0\n",
    "          print('  Batch {:>5,}  of  {:>5,}.  Batch took {} secs'.format(step,\n",
    "                                                                            len(train_loader),\n",
    "                                                                            round(lapsed, 3)))\n",
    "\n",
    "        # push the batch to gpu\n",
    "        batch = [r.to(device) for r in batch]\n",
    "        \n",
    "        # Pulling apart batch\n",
    "        sent_id, mask, labels = batch\n",
    "        \n",
    "        # Start model\n",
    "        model.zero_grad()      \n",
    "        preds = model(sent_id) #Get predictions\n",
    "        loss = cross_entropy(preds, labels) # Passing through NNL for loss\n",
    "        total_loss = total_loss + loss.item() # Collect total loss\n",
    "\n",
    "        loss.backward() # Backpropagation\n",
    "        torch.nn.utils.clip_grad_norm_(model.parameters(), 1.0) #Clipping to avoid exploding grads\n",
    "        optimizer.step() #Step AdamW\n",
    "        \n",
    "        preds_max = F.softmax(preds, dim=1) # Softmax to sum k-real vector to 1\n",
    "        preds_max = torch.argmax(preds_max, dim=1) # Argmax pulls index of highest value\n",
    "        wrong = torch.where(preds_max!=labels, # where to generate correct/incorrect tensor\n",
    "                           torch.tensor([1.]).to(device),\n",
    "                           torch.tensor([0.]).to(device))\n",
    "        tot_wrong = int(torch.sum(wrong).detach().cpu()) # sum total incorrect for acc calc\n",
    "        acc = 1 - tot_wrong/len(labels) # Normalized accuracy calculation\n",
    "        total_acc.append(acc) # Appends accuracy \n",
    "\n",
    "        preds=preds.detach().cpu().numpy() # Send predictions to CPU\n",
    "        total_preds.append(preds)\n",
    "    \n",
    "    # Epoch training loss\n",
    "    avg_loss = total_loss / len(train_loader)\n",
    "    total = time.time() - t0\n",
    "    print('\\nTime in seconds: {}'.format(round(total,3)))\n",
    "    print('Average accuracy: {}'.format((np.average(total_acc))))\n",
    "    \n",
    "\n",
    "    \n",
    "    total_preds  = np.concatenate(total_preds, axis=0)\n",
    "    \n",
    "    return avg_loss, total_preds, total_acc"
   ]
  },
  {
   "cell_type": "code",
   "execution_count": 35,
   "metadata": {
    "ExecuteTime": {
     "end_time": "2020-12-03T22:12:17.821926Z",
     "start_time": "2020-12-03T22:12:17.815927Z"
    },
    "code_folding": []
   },
   "outputs": [],
   "source": [
    "# function for evaluating the model\n",
    "def evaluate():\n",
    "    \n",
    "    \"\"\"\n",
    "    Similar to training, but with model in eval mode and predictions\n",
    "    with no local gradient calculation required.\n",
    "    \"\"\"\n",
    "    \n",
    "    print(\"\\nEvaluating...\")\n",
    "    t0 = time.time()\n",
    "    # Evaluation mode\n",
    "    model.eval()\n",
    "\n",
    "    total_loss = 0\n",
    "    total_accuracy = 0\n",
    "\n",
    "    # Save predictions\n",
    "    total_preds = []\n",
    "\n",
    "    # iterate through loader\n",
    "    for step,batch in enumerate(val_loader):\n",
    "        if step % 100 == 0 and not step == 0:\n",
    "            lapsed = time.time() - t0\n",
    "            print('  Batch {:>5,}  of  {:>5,}. \\n  Eval took {} secs'.format(step,\n",
    "                                                                            len(val_loader),\n",
    "                                                                            round(lapsed, 3)))\n",
    "            \n",
    "        batch = [t.to(device) for t in batch]\n",
    "        sent_id, mask, labels = batch\n",
    "\n",
    "        with torch.no_grad():\n",
    "            # model predictions\n",
    "            preds = model(sent_id)\n",
    "            loss = cross_entropy(preds,labels)\n",
    "            total_loss = total_loss + loss.item()\n",
    "            preds = preds.detach().cpu().numpy()\n",
    "            total_preds.append(preds)\n",
    "\n",
    "    avg_loss = total_loss / len(val_loader) \n",
    "    total_preds  = np.concatenate(total_preds, axis=0)\n",
    "\n",
    "    return avg_loss, total_preds"
   ]
  },
  {
   "cell_type": "markdown",
   "metadata": {},
   "source": [
    "## Training loop"
   ]
  },
  {
   "cell_type": "code",
   "execution_count": 36,
   "metadata": {
    "ExecuteTime": {
     "end_time": "2020-12-03T22:12:18.677925Z",
     "start_time": "2020-12-03T22:12:18.672925Z"
    }
   },
   "outputs": [],
   "source": [
    "if save:\n",
    "    # Creating lists to store epoch accuracy and losses\n",
    "    train_losses=[]\n",
    "    valid_losses=[]\n",
    "    total_acc = []\n",
    "    epoch_acc = []\n",
    "\n",
    "    # Save flag for save state\n",
    "    save = False\n",
    "\n",
    "    # For save state generation \n",
    "    best_valid_loss = float('inf')\n",
    "\n",
    "    # Training loop for model\n",
    "    for epoch in range(epochs):\n",
    "        print('---------------------------------------------')\n",
    "        print('Epoch {:} / {:}'.format(epoch + 1, epochs))\n",
    "        print('---------------------------------------------')\n",
    "\n",
    "        #train model\n",
    "        train_loss, _, total_acc = train()\n",
    "\n",
    "        #evaluate model\n",
    "        valid_loss, _ = evaluate()\n",
    "\n",
    "        epoch_acc.append(np.average(total_acc))\n",
    "\n",
    "        #save the best model\n",
    "        if save:\n",
    "            if valid_loss < best_valid_loss:\n",
    "                best_valid_loss = valid_loss\n",
    "                torch.save(model.state_dict(), 'Data/BERT_weights.pt')\n",
    "\n",
    "        # append training and validation loss\n",
    "        train_losses.append(abs(train_loss))\n",
    "        valid_losses.append(abs(valid_loss))\n",
    "\n",
    "        print('\\n  Training Loss: {}'.format(abs(round(train_loss, 3))))\n",
    "        print('  Validation Loss: {}'.format(abs(round(valid_loss, 3))))\n",
    "    print('\\n------------------------')   \n",
    "    print('Finished')\n",
    "    print('------------------------')"
   ]
  },
  {
   "cell_type": "code",
   "execution_count": 37,
   "metadata": {
    "ExecuteTime": {
     "end_time": "2020-12-03T22:12:19.093925Z",
     "start_time": "2020-12-03T22:12:19.089924Z"
    }
   },
   "outputs": [],
   "source": [
    "if save:\n",
    "    # Training and validation loss\n",
    "    plt.title('Training and Validation loss by Epoch')\n",
    "    plt.plot(train_losses, 'b-o')\n",
    "    plt.plot(valid_losses, 'r-o')\n",
    "    plt.legend(['Train', 'Validation'])\n",
    "    plt.xlabel('Epochs')\n",
    "    plt.ylabel('Accuracy')\n",
    "    plt.savefig('Images/training_valid_loss.png')\n",
    "    plt.show()\n",
    "\n",
    "    # Training accuracy by epoch\n",
    "    plt.title('Accuracy by Epoch')\n",
    "    plt.plot(epoch_acc, 'b-o')\n",
    "    plt.xlabel('Epochs')\n",
    "    plt.ylabel('Accuracy')\n",
    "    plt.savefig('Images/training_acc.png')\n",
    "    plt.show()"
   ]
  },
  {
   "cell_type": "markdown",
   "metadata": {},
   "source": [
    "# Testing"
   ]
  },
  {
   "cell_type": "code",
   "execution_count": 38,
   "metadata": {
    "ExecuteTime": {
     "end_time": "2020-12-03T22:12:19.905924Z",
     "start_time": "2020-12-03T22:12:19.902926Z"
    }
   },
   "outputs": [],
   "source": [
    "if save:\n",
    "    # Setting the model to evaluation mode\n",
    "    model.eval()"
   ]
  },
  {
   "cell_type": "markdown",
   "metadata": {},
   "source": [
    "## Saving\n"
   ]
  },
  {
   "cell_type": "code",
   "execution_count": 39,
   "metadata": {
    "ExecuteTime": {
     "end_time": "2020-12-03T22:12:20.727924Z",
     "start_time": "2020-12-03T22:12:20.724924Z"
    }
   },
   "outputs": [],
   "source": [
    "if save:\n",
    "    # Output directory to save to and/or be created\n",
    "    output_dir = 'bert_model_save/'\n",
    "\n",
    "    # Create a new directory if it doesn't exist\n",
    "    if not os.path.exists(output_dir):\n",
    "        os.makedirs(output_dir)\n",
    "\n",
    "    # Output directory\n",
    "    print(\"Saving model to {}\".format(output_dir))\n",
    "\n",
    "    # programatic save\n",
    "    model_to_save = model.module if hasattr(model, 'module') else model"
   ]
  },
  {
   "cell_type": "code",
   "execution_count": 40,
   "metadata": {
    "ExecuteTime": {
     "end_time": "2020-12-03T22:12:20.944925Z",
     "start_time": "2020-12-03T22:12:20.942925Z"
    }
   },
   "outputs": [],
   "source": [
    "if save:\n",
    "    # Sanity check\n",
    "    model_to_save"
   ]
  },
  {
   "cell_type": "code",
   "execution_count": 41,
   "metadata": {
    "ExecuteTime": {
     "end_time": "2020-12-03T22:12:21.275924Z",
     "start_time": "2020-12-03T22:12:21.271923Z"
    }
   },
   "outputs": [],
   "source": [
    "if save:\n",
    "    # Torch save for the model\n",
    "    torch.save(model_to_save, 'bert_model_save/bert_model.pt')"
   ]
  },
  {
   "cell_type": "code",
   "execution_count": 42,
   "metadata": {
    "ExecuteTime": {
     "end_time": "2020-12-03T22:12:22.620924Z",
     "start_time": "2020-12-03T22:12:21.676925Z"
    }
   },
   "outputs": [],
   "source": [
    "if save is False:\n",
    "    # Path of the model save and a torch load\n",
    "    path = 'Data/BERT_weights.pt'\n",
    "    model.load_state_dict(torch.load(path))"
   ]
  },
  {
   "cell_type": "code",
   "execution_count": 43,
   "metadata": {
    "ExecuteTime": {
     "end_time": "2020-12-03T22:12:22.624925Z",
     "start_time": "2020-12-03T22:12:22.622927Z"
    }
   },
   "outputs": [],
   "source": [
    "if save:\n",
    "    # Saving tokenizer vocab and configurations for future use\n",
    "    tokenizer.save_pretrained('bert_model_save/')"
   ]
  },
  {
   "cell_type": "code",
   "execution_count": 45,
   "metadata": {
    "ExecuteTime": {
     "end_time": "2020-12-03T22:12:32.663926Z",
     "start_time": "2020-12-03T22:12:32.587925Z"
    }
   },
   "outputs": [],
   "source": [
    "if save is False:\n",
    "    tokenizer.from_pretrained('bert_model_save/')"
   ]
  },
  {
   "cell_type": "code",
   "execution_count": 46,
   "metadata": {
    "ExecuteTime": {
     "end_time": "2020-12-03T22:12:33.913924Z",
     "start_time": "2020-12-03T22:12:33.905926Z"
    }
   },
   "outputs": [],
   "source": [
    "# Testing function\n",
    "def testing():\n",
    "    print(\"\\nTesting...\")\n",
    "    t0 = time.time()\n",
    "    # Evaluation mode\n",
    "    model.eval()\n",
    "\n",
    "    # Save predictions\n",
    "    total_preds = []\n",
    "    total_labels = []\n",
    "\n",
    "    # iterate through loader\n",
    "    for step,batch in enumerate(test_loader):\n",
    "        if step % 100 == 0 and not step == 0:\n",
    "            lapsed = time.time() - t0\n",
    "            print('  Batch {:>5,}  of  {:>5,}. \\n  Test took {} secs'.format(step,\n",
    "                                                                            len(test_loader),\n",
    "                                                                            round(lapsed, 3)))\n",
    "\n",
    "        batch = [t.to(device) for t in batch]\n",
    "        sent_id, _, labels = batch\n",
    "\n",
    "        with torch.no_grad():\n",
    "            # model predictions\n",
    "            preds = model(sent_id)\n",
    "            pred = F.softmax(preds, dim=1)\n",
    "            pred = torch.argmax(preds, dim=1)\n",
    "            total_preds.append(preds)\n",
    "            total_labels.append(labels)\n",
    "            \n",
    "    \n",
    "\n",
    "    print('-----------------------')\n",
    "    print('Testing Finished')\n",
    "    print('-----------------------')\n",
    "    return total_preds, total_labels"
   ]
  },
  {
   "cell_type": "code",
   "execution_count": 47,
   "metadata": {
    "ExecuteTime": {
     "end_time": "2020-12-03T22:13:15.568840Z",
     "start_time": "2020-12-03T22:12:36.144926Z"
    }
   },
   "outputs": [
    {
     "name": "stdout",
     "output_type": "stream",
     "text": [
      "\n",
      "Testing...\n",
      "  Batch   100  of    115. \n",
      "  Test took 34.086 secs\n",
      "-----------------------\n",
      "Testing Finished\n",
      "-----------------------\n"
     ]
    }
   ],
   "source": [
    "# Take testing predicitons and labels\n",
    "test_p, labels = testing()"
   ]
  },
  {
   "cell_type": "code",
   "execution_count": 48,
   "metadata": {
    "ExecuteTime": {
     "end_time": "2020-12-03T22:13:15.574842Z",
     "start_time": "2020-12-03T22:13:15.569840Z"
    }
   },
   "outputs": [],
   "source": [
    "# Convert predictions into a means that we can use to \n",
    "# generate a classification report and confusion matrices\n",
    "test_p = torch.cat(test_p)\n",
    "test_preds = torch.argmax(test_p, dim=1)"
   ]
  },
  {
   "cell_type": "code",
   "execution_count": 49,
   "metadata": {
    "ExecuteTime": {
     "end_time": "2020-12-03T22:13:16.317842Z",
     "start_time": "2020-12-03T22:13:15.576841Z"
    }
   },
   "outputs": [],
   "source": [
    "labels = [label.detach().cpu().numpy() for label in labels]\n",
    "test_preds = [test_pred.detach().cpu().numpy() for test_pred in test_preds]"
   ]
  },
  {
   "cell_type": "code",
   "execution_count": 50,
   "metadata": {
    "ExecuteTime": {
     "end_time": "2020-12-03T22:13:16.321844Z",
     "start_time": "2020-12-03T22:13:16.318841Z"
    }
   },
   "outputs": [],
   "source": [
    "label_true = np.concatenate(labels)"
   ]
  },
  {
   "cell_type": "code",
   "execution_count": 51,
   "metadata": {
    "ExecuteTime": {
     "end_time": "2020-12-03T22:13:16.350841Z",
     "start_time": "2020-12-03T22:13:16.322841Z"
    }
   },
   "outputs": [
    {
     "name": "stdout",
     "output_type": "stream",
     "text": [
      "              precision    recall  f1-score   support\n",
      "\n",
      "           0       0.78      0.74      0.76      7106\n",
      "           1       0.77      0.80      0.78      7500\n",
      "\n",
      "    accuracy                           0.77     14606\n",
      "   macro avg       0.77      0.77      0.77     14606\n",
      "weighted avg       0.77      0.77      0.77     14606\n",
      "\n"
     ]
    }
   ],
   "source": [
    "# Classification report\n",
    "print(classification_report(label_true, test_preds))"
   ]
  },
  {
   "cell_type": "code",
   "execution_count": 52,
   "metadata": {
    "ExecuteTime": {
     "end_time": "2020-12-03T22:13:16.382841Z",
     "start_time": "2020-12-03T22:13:16.351843Z"
    }
   },
   "outputs": [],
   "source": [
    "# Generating confusion matrices (Regular and normalized)\n",
    "con_mat = confusion_matrix(y_true=label_true, y_pred=test_preds)\n",
    "norm_con_mat = confusion_matrix(y_true=label_true, y_pred=test_preds, normalize='true')"
   ]
  },
  {
   "cell_type": "code",
   "execution_count": 59,
   "metadata": {
    "ExecuteTime": {
     "end_time": "2020-12-03T22:17:26.508892Z",
     "start_time": "2020-12-03T22:17:26.264891Z"
    }
   },
   "outputs": [
    {
     "data": {
      "image/png": "[encoded data removed]",
      "text/plain": [
       "<Figure size 432x288 with 2 Axes>"
      ]
     },
     "metadata": {
      "needs_background": "light"
     },
     "output_type": "display_data"
    },
    {
     "data": {
      "image/png": "[encoded data removed]",
      "text/plain": [
       "<Figure size 432x288 with 2 Axes>"
      ]
     },
     "metadata": {
      "needs_background": "light"
     },
     "output_type": "display_data"
    }
   ],
   "source": [
    "sns.heatmap(con_mat, annot=True, fmt='g', cmap='Blues')\n",
    "plt.title('Confusion Matrix')\n",
    "plt.xticks(ticks=[.5,1.5], labels=['Real', 'Fake'])\n",
    "plt.yticks(ticks=[.5,1.5], labels=['Real', 'Fake'])\n",
    "plt.savefig('Images/heatmap.png')\n",
    "plt.show()\n",
    "sns.heatmap(norm_con_mat, annot=True, cmap='Blues')\n",
    "plt.title('Normalized Confusion Matrix')\n",
    "plt.xticks(ticks=[.5,1.5], labels=['Real', 'Fake'])\n",
    "plt.yticks(ticks=[.5,1.5], labels=['Real', 'Fake'])\n",
    "plt.savefig('Images/normheatmap.png')\n",
    "plt.show()"
   ]
  },
  {
   "cell_type": "markdown",
   "metadata": {},
   "source": [
    "# Conclusion"
   ]
  },
  {
   "cell_type": "markdown",
   "metadata": {},
   "source": [
    "Consumer trust is of the utmost importance, and much like fiat currency, the trust is what drives the market. Without customer trust a platform is doomed. It is important to implement some sort of review sort and bot counter measures in order to insure the stability of your open, semi-anonymous reviews.\n",
    "\n",
    "Here are the key take-aways: \n",
    "\n",
    "### 1. Transfer Learning\n",
    "\n",
    "Transfer learning is a must in this sort of boots-on-the-ground style deployment. Large and well-funded research labs and think-tanks have developed and open sourced this large models for this very purpose. It is always better to use a tool instead of trying to re-invent the wheel because:\n",
    "1. Cost efficiency\n",
    "2. Time efficiency\n",
    "3. Resource pipelines\n",
    "\n",
    "Pretrained model layers within these neural networks will give back time, be significantly more resource efficient, and most important cost less overall.\n",
    "\n",
    "### 2. Training Times\n",
    "\n",
    "Training length is important for BERT. We have chosen to only train for 50 epochs and have already achieved a testing accuracy, precision, and recall of 80% (+/-5%).\n",
    "\n",
    "At this batch-size (128 sequences of 80 tokens each) we are training and validating at approximately 220 seconds per epoch. At 3.6 minutes per epoch we could theoretically train 200 epochs in 12 hours. \n",
    "\n",
    "### 3. Market Backend or Customer Frontend\n",
    "\n",
    "While we have spent most of the notebook referring this as a project directed towards market places to police their own platforms. However another valid and recommended use of this technology would be producing it as a consumer facing product for any review. While this product is currently a proof of concept it is easily extensible in several forms in this matter.\n",
    "\n",
    "## Future Work\n",
    "\n",
    "### 1. Deployment\n",
    "\n",
    "Work with smaller models, such as [DistilBERT](https://arxiv.org/abs/1910.01108), that can provide a functionally smaller footprint while not sacrificing quality. (DistilBERT retains **97%** of the language understanding capabilities of BERT) This will allow a much more mobile and deployable model that could function on light-weight devices and even via webapps.\n",
    "\n",
    "### 2. Further Tuning\n",
    "\n",
    "As discussed in several places already BERT greatly benefits from increased training epochs. This would allow us to train for more time and thus further tune the model towards correct predictions."
   ]
  },
  {
   "cell_type": "code",
   "execution_count": null,
   "metadata": {},
   "outputs": [],
   "source": []
  }
 ],
 "metadata": {
  "kernelspec": {
   "display_name": "learn-env2",
   "language": "python",
   "name": "myenv"
  },
  "language_info": {
   "codemirror_mode": {
    "name": "ipython",
    "version": 3
   },
   "file_extension": ".py",
   "mimetype": "text/x-python",
   "name": "python",
   "nbconvert_exporter": "python",
   "pygments_lexer": "ipython3",
   "version": "3.6.9"
  },
  "toc": {
   "base_numbering": 1,
   "nav_menu": {},
   "number_sections": true,
   "sideBar": true,
   "skip_h1_title": false,
   "title_cell": "Table of Contents",
   "title_sidebar": "Contents",
   "toc_cell": true,
   "toc_position": {
    "height": "calc(100% - 180px)",
    "left": "10px",
    "top": "150px",
    "width": "512px"
   },
   "toc_section_display": true,
   "toc_window_display": true
  }
 },
 "nbformat": 4,
 "nbformat_minor": 2
}
